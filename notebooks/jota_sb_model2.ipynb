{
 "cells": [
  {
   "cell_type": "code",
   "execution_count": 1,
   "metadata": {},
   "outputs": [],
   "source": [
    "import pandas as pd\n",
    "import numpy as np"
   ]
  },
  {
   "cell_type": "code",
   "execution_count": 29,
   "metadata": {},
   "outputs": [],
   "source": [
    "from goalguru.statsbombs_package.registry import load_model, load_scaler\n",
    "from goalguru.statsbombs_package.data_processor import load_all_seasons_past_info"
   ]
  },
  {
   "cell_type": "code",
   "execution_count": 4,
   "metadata": {},
   "outputs": [
    {
     "name": "stdout",
     "output_type": "stream",
     "text": [
      "\u001b[34m\n",
      "Load latest model from local registry...\u001b[0m\n",
      "\u001b[34m\n",
      "Load latest statsbomb model from disk...\u001b[0m\n",
      "✅ Model loaded from local disk\n"
     ]
    },
    {
     "data": {
      "text/html": [
       "<style>#sk-container-id-1 {color: black;background-color: white;}#sk-container-id-1 pre{padding: 0;}#sk-container-id-1 div.sk-toggleable {background-color: white;}#sk-container-id-1 label.sk-toggleable__label {cursor: pointer;display: block;width: 100%;margin-bottom: 0;padding: 0.3em;box-sizing: border-box;text-align: center;}#sk-container-id-1 label.sk-toggleable__label-arrow:before {content: \"▸\";float: left;margin-right: 0.25em;color: #696969;}#sk-container-id-1 label.sk-toggleable__label-arrow:hover:before {color: black;}#sk-container-id-1 div.sk-estimator:hover label.sk-toggleable__label-arrow:before {color: black;}#sk-container-id-1 div.sk-toggleable__content {max-height: 0;max-width: 0;overflow: hidden;text-align: left;background-color: #f0f8ff;}#sk-container-id-1 div.sk-toggleable__content pre {margin: 0.2em;color: black;border-radius: 0.25em;background-color: #f0f8ff;}#sk-container-id-1 input.sk-toggleable__control:checked~div.sk-toggleable__content {max-height: 200px;max-width: 100%;overflow: auto;}#sk-container-id-1 input.sk-toggleable__control:checked~label.sk-toggleable__label-arrow:before {content: \"▾\";}#sk-container-id-1 div.sk-estimator input.sk-toggleable__control:checked~label.sk-toggleable__label {background-color: #d4ebff;}#sk-container-id-1 div.sk-label input.sk-toggleable__control:checked~label.sk-toggleable__label {background-color: #d4ebff;}#sk-container-id-1 input.sk-hidden--visually {border: 0;clip: rect(1px 1px 1px 1px);clip: rect(1px, 1px, 1px, 1px);height: 1px;margin: -1px;overflow: hidden;padding: 0;position: absolute;width: 1px;}#sk-container-id-1 div.sk-estimator {font-family: monospace;background-color: #f0f8ff;border: 1px dotted black;border-radius: 0.25em;box-sizing: border-box;margin-bottom: 0.5em;}#sk-container-id-1 div.sk-estimator:hover {background-color: #d4ebff;}#sk-container-id-1 div.sk-parallel-item::after {content: \"\";width: 100%;border-bottom: 1px solid gray;flex-grow: 1;}#sk-container-id-1 div.sk-label:hover label.sk-toggleable__label {background-color: #d4ebff;}#sk-container-id-1 div.sk-serial::before {content: \"\";position: absolute;border-left: 1px solid gray;box-sizing: border-box;top: 0;bottom: 0;left: 50%;z-index: 0;}#sk-container-id-1 div.sk-serial {display: flex;flex-direction: column;align-items: center;background-color: white;padding-right: 0.2em;padding-left: 0.2em;position: relative;}#sk-container-id-1 div.sk-item {position: relative;z-index: 1;}#sk-container-id-1 div.sk-parallel {display: flex;align-items: stretch;justify-content: center;background-color: white;position: relative;}#sk-container-id-1 div.sk-item::before, #sk-container-id-1 div.sk-parallel-item::before {content: \"\";position: absolute;border-left: 1px solid gray;box-sizing: border-box;top: 0;bottom: 0;left: 50%;z-index: -1;}#sk-container-id-1 div.sk-parallel-item {display: flex;flex-direction: column;z-index: 1;position: relative;background-color: white;}#sk-container-id-1 div.sk-parallel-item:first-child::after {align-self: flex-end;width: 50%;}#sk-container-id-1 div.sk-parallel-item:last-child::after {align-self: flex-start;width: 50%;}#sk-container-id-1 div.sk-parallel-item:only-child::after {width: 0;}#sk-container-id-1 div.sk-dashed-wrapped {border: 1px dashed gray;margin: 0 0.4em 0.5em 0.4em;box-sizing: border-box;padding-bottom: 0.4em;background-color: white;}#sk-container-id-1 div.sk-label label {font-family: monospace;font-weight: bold;display: inline-block;line-height: 1.2em;}#sk-container-id-1 div.sk-label-container {text-align: center;}#sk-container-id-1 div.sk-container {/* jupyter's `normalize.less` sets `[hidden] { display: none; }` but bootstrap.min.css set `[hidden] { display: none !important; }` so we also need the `!important` here to be able to override the default hidden behavior on the sphinx rendered scikit-learn.org. See: https://github.com/scikit-learn/scikit-learn/issues/21755 */display: inline-block !important;position: relative;}#sk-container-id-1 div.sk-text-repr-fallback {display: none;}</style><div id=\"sk-container-id-1\" class=\"sk-top-container\"><div class=\"sk-text-repr-fallback\"><pre>SGDClassifier(alpha=0.1, loss=&#x27;modified_huber&#x27;, max_iter=10000, penalty=&#x27;l1&#x27;)</pre><b>In a Jupyter environment, please rerun this cell to show the HTML representation or trust the notebook. <br />On GitHub, the HTML representation is unable to render, please try loading this page with nbviewer.org.</b></div><div class=\"sk-container\" hidden><div class=\"sk-item\"><div class=\"sk-estimator sk-toggleable\"><input class=\"sk-toggleable__control sk-hidden--visually\" id=\"sk-estimator-id-1\" type=\"checkbox\" checked><label for=\"sk-estimator-id-1\" class=\"sk-toggleable__label sk-toggleable__label-arrow\">SGDClassifier</label><div class=\"sk-toggleable__content\"><pre>SGDClassifier(alpha=0.1, loss=&#x27;modified_huber&#x27;, max_iter=10000, penalty=&#x27;l1&#x27;)</pre></div></div></div></div></div>"
      ],
      "text/plain": [
       "SGDClassifier(alpha=0.1, loss='modified_huber', max_iter=10000, penalty='l1')"
      ]
     },
     "execution_count": 4,
     "metadata": {},
     "output_type": "execute_result"
    }
   ],
   "source": [
    "model = load_model()\n",
    "model"
   ]
  },
  {
   "cell_type": "code",
   "execution_count": 7,
   "metadata": {},
   "outputs": [
    {
     "data": {
      "text/plain": [
       "array([[ 0.        ,  0.        , -0.03772994,  0.        , -0.03869322,\n",
       "         0.        , -0.10298814,  0.        ,  0.        ,  0.        ,\n",
       "         0.        ,  0.        ,  0.        ,  0.        ,  0.        ,\n",
       "         0.        ,  0.        ,  0.        ,  0.09914064,  0.        ,\n",
       "         0.        ,  0.        ,  0.        ,  0.        ,  0.06104903,\n",
       "         0.        ,  0.        ,  0.        ,  0.        ,  0.        ,\n",
       "         0.        ,  0.08247423,  0.        ,  0.        ,  0.        ,\n",
       "         0.        ],\n",
       "       [ 0.        ,  0.        ,  0.        ,  0.        ,  0.        ,\n",
       "         0.        ,  0.        ,  0.        ,  0.        ,  0.        ,\n",
       "         0.        ,  0.        ,  0.        ,  0.        ,  0.        ,\n",
       "         0.        ,  0.        ,  0.        ,  0.        ,  0.        ,\n",
       "         0.        ,  0.        ,  0.        ,  0.        ,  0.        ,\n",
       "         0.        ,  0.        ,  0.        ,  0.        ,  0.        ,\n",
       "         0.        ,  0.        ,  0.        ,  0.        ,  0.        ,\n",
       "         0.        ],\n",
       "       [ 0.        ,  0.13454354,  0.        ,  0.        ,  0.        ,\n",
       "         0.        ,  0.15167775,  0.        ,  0.        ,  0.        ,\n",
       "         0.        ,  0.        ,  0.        ,  0.        ,  0.        ,\n",
       "         0.        ,  0.        ,  0.        ,  0.        , -0.08916012,\n",
       "         0.        ,  0.        ,  0.        ,  0.        , -0.08075584,\n",
       "         0.        , -0.01565798,  0.        ,  0.        ,  0.        ,\n",
       "         0.        ,  0.        ,  0.        ,  0.        ,  0.        ,\n",
       "         0.        ]])"
      ]
     },
     "execution_count": 7,
     "metadata": {},
     "output_type": "execute_result"
    }
   ],
   "source": [
    "coefs = model.coef_\n",
    "coefs"
   ]
  },
  {
   "cell_type": "code",
   "execution_count": 8,
   "metadata": {},
   "outputs": [
    {
     "data": {
      "text/plain": [
       "(3, 36)"
      ]
     },
     "execution_count": 8,
     "metadata": {},
     "output_type": "execute_result"
    }
   ],
   "source": [
    "coefs.shape"
   ]
  },
  {
   "cell_type": "code",
   "execution_count": 11,
   "metadata": {},
   "outputs": [
    {
     "name": "stdout",
     "output_type": "stream",
     "text": [
      "all_seasons.csv loaded locally\n"
     ]
    },
    {
     "data": {
      "text/plain": [
       "Index(['match_id', 'target', 'pass_completed_home_all_past',\n",
       "       'pass_total_home_all_past', 'pass_precision_home_all_past',\n",
       "       'shot_on_target_home_all_past', 'shot_goal_home_all_past',\n",
       "       'shot_xg_home_all_past', 'shot_total_home_all_past',\n",
       "       'shot_precision_home_all_past', 'shot_conversion_home_all_past',\n",
       "       'pass_completed_home_last_10', 'pass_total_home_last_10',\n",
       "       'pass_precision_home_last_10', 'shot_on_target_home_last_10',\n",
       "       'shot_goal_home_last_10', 'shot_xg_home_last_10',\n",
       "       'shot_total_home_last_10', 'shot_precision_home_last_10',\n",
       "       'shot_conversion_home_last_10', 'pass_completed_away_all_past',\n",
       "       'pass_total_away_all_past', 'pass_precision_away_all_past',\n",
       "       'shot_on_target_away_all_past', 'shot_goal_away_all_past',\n",
       "       'shot_xg_away_all_past', 'shot_total_away_all_past',\n",
       "       'shot_precision_away_all_past', 'shot_conversion_away_all_past',\n",
       "       'pass_completed_away_last_10', 'pass_total_away_last_10',\n",
       "       'pass_precision_away_last_10', 'shot_on_target_away_last_10',\n",
       "       'shot_goal_away_last_10', 'shot_xg_away_last_10',\n",
       "       'shot_total_away_last_10', 'shot_precision_away_last_10',\n",
       "       'shot_conversion_away_last_10'],\n",
       "      dtype='object')"
      ]
     },
     "execution_count": 11,
     "metadata": {},
     "output_type": "execute_result"
    }
   ],
   "source": [
    "all_seasons = load_all_seasons_past_info()\n",
    "all_seasons.columns"
   ]
  },
  {
   "cell_type": "code",
   "execution_count": 12,
   "metadata": {},
   "outputs": [
    {
     "data": {
      "text/plain": [
       "Index(['pass_completed_home_all_past', 'pass_total_home_all_past',\n",
       "       'pass_precision_home_all_past', 'shot_on_target_home_all_past',\n",
       "       'shot_goal_home_all_past', 'shot_xg_home_all_past',\n",
       "       'shot_total_home_all_past', 'shot_precision_home_all_past',\n",
       "       'shot_conversion_home_all_past', 'pass_completed_home_last_10',\n",
       "       'pass_total_home_last_10', 'pass_precision_home_last_10',\n",
       "       'shot_on_target_home_last_10', 'shot_goal_home_last_10',\n",
       "       'shot_xg_home_last_10', 'shot_total_home_last_10',\n",
       "       'shot_precision_home_last_10', 'shot_conversion_home_last_10',\n",
       "       'pass_completed_away_all_past', 'pass_total_away_all_past',\n",
       "       'pass_precision_away_all_past', 'shot_on_target_away_all_past',\n",
       "       'shot_goal_away_all_past', 'shot_xg_away_all_past',\n",
       "       'shot_total_away_all_past', 'shot_precision_away_all_past',\n",
       "       'shot_conversion_away_all_past', 'pass_completed_away_last_10',\n",
       "       'pass_total_away_last_10', 'pass_precision_away_last_10',\n",
       "       'shot_on_target_away_last_10', 'shot_goal_away_last_10',\n",
       "       'shot_xg_away_last_10', 'shot_total_away_last_10',\n",
       "       'shot_precision_away_last_10', 'shot_conversion_away_last_10'],\n",
       "      dtype='object')"
      ]
     },
     "execution_count": 12,
     "metadata": {},
     "output_type": "execute_result"
    }
   ],
   "source": [
    "feats = all_seasons.columns[2:]\n",
    "feats"
   ]
  },
  {
   "cell_type": "code",
   "execution_count": 44,
   "metadata": {},
   "outputs": [
    {
     "data": {
      "text/html": [
       "<div>\n",
       "<style scoped>\n",
       "    .dataframe tbody tr th:only-of-type {\n",
       "        vertical-align: middle;\n",
       "    }\n",
       "\n",
       "    .dataframe tbody tr th {\n",
       "        vertical-align: top;\n",
       "    }\n",
       "\n",
       "    .dataframe thead th {\n",
       "        text-align: right;\n",
       "    }\n",
       "</style>\n",
       "<table border=\"1\" class=\"dataframe\">\n",
       "  <thead>\n",
       "    <tr style=\"text-align: right;\">\n",
       "      <th></th>\n",
       "      <th>-1</th>\n",
       "      <th>0</th>\n",
       "      <th>1</th>\n",
       "    </tr>\n",
       "  </thead>\n",
       "  <tbody>\n",
       "    <tr>\n",
       "      <th>pass_completed_home_all_past</th>\n",
       "      <td>0.000000</td>\n",
       "      <td>0.0</td>\n",
       "      <td>0.000000</td>\n",
       "    </tr>\n",
       "    <tr>\n",
       "      <th>pass_total_home_all_past</th>\n",
       "      <td>0.000000</td>\n",
       "      <td>0.0</td>\n",
       "      <td>0.134544</td>\n",
       "    </tr>\n",
       "    <tr>\n",
       "      <th>pass_precision_home_all_past</th>\n",
       "      <td>-0.037730</td>\n",
       "      <td>0.0</td>\n",
       "      <td>0.000000</td>\n",
       "    </tr>\n",
       "    <tr>\n",
       "      <th>shot_on_target_home_all_past</th>\n",
       "      <td>0.000000</td>\n",
       "      <td>0.0</td>\n",
       "      <td>0.000000</td>\n",
       "    </tr>\n",
       "    <tr>\n",
       "      <th>shot_goal_home_all_past</th>\n",
       "      <td>-0.038693</td>\n",
       "      <td>0.0</td>\n",
       "      <td>0.000000</td>\n",
       "    </tr>\n",
       "    <tr>\n",
       "      <th>shot_xg_home_all_past</th>\n",
       "      <td>0.000000</td>\n",
       "      <td>0.0</td>\n",
       "      <td>0.000000</td>\n",
       "    </tr>\n",
       "    <tr>\n",
       "      <th>shot_total_home_all_past</th>\n",
       "      <td>-0.102988</td>\n",
       "      <td>0.0</td>\n",
       "      <td>0.151678</td>\n",
       "    </tr>\n",
       "    <tr>\n",
       "      <th>shot_precision_home_all_past</th>\n",
       "      <td>0.000000</td>\n",
       "      <td>0.0</td>\n",
       "      <td>0.000000</td>\n",
       "    </tr>\n",
       "    <tr>\n",
       "      <th>shot_conversion_home_all_past</th>\n",
       "      <td>0.000000</td>\n",
       "      <td>0.0</td>\n",
       "      <td>0.000000</td>\n",
       "    </tr>\n",
       "    <tr>\n",
       "      <th>pass_completed_home_last_10</th>\n",
       "      <td>0.000000</td>\n",
       "      <td>0.0</td>\n",
       "      <td>0.000000</td>\n",
       "    </tr>\n",
       "    <tr>\n",
       "      <th>pass_total_home_last_10</th>\n",
       "      <td>0.000000</td>\n",
       "      <td>0.0</td>\n",
       "      <td>0.000000</td>\n",
       "    </tr>\n",
       "    <tr>\n",
       "      <th>pass_precision_home_last_10</th>\n",
       "      <td>0.000000</td>\n",
       "      <td>0.0</td>\n",
       "      <td>0.000000</td>\n",
       "    </tr>\n",
       "    <tr>\n",
       "      <th>shot_on_target_home_last_10</th>\n",
       "      <td>0.000000</td>\n",
       "      <td>0.0</td>\n",
       "      <td>0.000000</td>\n",
       "    </tr>\n",
       "    <tr>\n",
       "      <th>shot_goal_home_last_10</th>\n",
       "      <td>0.000000</td>\n",
       "      <td>0.0</td>\n",
       "      <td>0.000000</td>\n",
       "    </tr>\n",
       "    <tr>\n",
       "      <th>shot_xg_home_last_10</th>\n",
       "      <td>0.000000</td>\n",
       "      <td>0.0</td>\n",
       "      <td>0.000000</td>\n",
       "    </tr>\n",
       "    <tr>\n",
       "      <th>shot_total_home_last_10</th>\n",
       "      <td>0.000000</td>\n",
       "      <td>0.0</td>\n",
       "      <td>0.000000</td>\n",
       "    </tr>\n",
       "    <tr>\n",
       "      <th>shot_precision_home_last_10</th>\n",
       "      <td>0.000000</td>\n",
       "      <td>0.0</td>\n",
       "      <td>0.000000</td>\n",
       "    </tr>\n",
       "    <tr>\n",
       "      <th>shot_conversion_home_last_10</th>\n",
       "      <td>0.000000</td>\n",
       "      <td>0.0</td>\n",
       "      <td>0.000000</td>\n",
       "    </tr>\n",
       "    <tr>\n",
       "      <th>pass_completed_away_all_past</th>\n",
       "      <td>0.099141</td>\n",
       "      <td>0.0</td>\n",
       "      <td>0.000000</td>\n",
       "    </tr>\n",
       "    <tr>\n",
       "      <th>pass_total_away_all_past</th>\n",
       "      <td>0.000000</td>\n",
       "      <td>0.0</td>\n",
       "      <td>-0.089160</td>\n",
       "    </tr>\n",
       "    <tr>\n",
       "      <th>pass_precision_away_all_past</th>\n",
       "      <td>0.000000</td>\n",
       "      <td>0.0</td>\n",
       "      <td>0.000000</td>\n",
       "    </tr>\n",
       "    <tr>\n",
       "      <th>shot_on_target_away_all_past</th>\n",
       "      <td>0.000000</td>\n",
       "      <td>0.0</td>\n",
       "      <td>0.000000</td>\n",
       "    </tr>\n",
       "    <tr>\n",
       "      <th>shot_goal_away_all_past</th>\n",
       "      <td>0.000000</td>\n",
       "      <td>0.0</td>\n",
       "      <td>0.000000</td>\n",
       "    </tr>\n",
       "    <tr>\n",
       "      <th>shot_xg_away_all_past</th>\n",
       "      <td>0.000000</td>\n",
       "      <td>0.0</td>\n",
       "      <td>0.000000</td>\n",
       "    </tr>\n",
       "    <tr>\n",
       "      <th>shot_total_away_all_past</th>\n",
       "      <td>0.061049</td>\n",
       "      <td>0.0</td>\n",
       "      <td>-0.080756</td>\n",
       "    </tr>\n",
       "    <tr>\n",
       "      <th>shot_precision_away_all_past</th>\n",
       "      <td>0.000000</td>\n",
       "      <td>0.0</td>\n",
       "      <td>0.000000</td>\n",
       "    </tr>\n",
       "    <tr>\n",
       "      <th>shot_conversion_away_all_past</th>\n",
       "      <td>0.000000</td>\n",
       "      <td>0.0</td>\n",
       "      <td>-0.015658</td>\n",
       "    </tr>\n",
       "    <tr>\n",
       "      <th>pass_completed_away_last_10</th>\n",
       "      <td>0.000000</td>\n",
       "      <td>0.0</td>\n",
       "      <td>0.000000</td>\n",
       "    </tr>\n",
       "    <tr>\n",
       "      <th>pass_total_away_last_10</th>\n",
       "      <td>0.000000</td>\n",
       "      <td>0.0</td>\n",
       "      <td>0.000000</td>\n",
       "    </tr>\n",
       "    <tr>\n",
       "      <th>pass_precision_away_last_10</th>\n",
       "      <td>0.000000</td>\n",
       "      <td>0.0</td>\n",
       "      <td>0.000000</td>\n",
       "    </tr>\n",
       "    <tr>\n",
       "      <th>shot_on_target_away_last_10</th>\n",
       "      <td>0.000000</td>\n",
       "      <td>0.0</td>\n",
       "      <td>0.000000</td>\n",
       "    </tr>\n",
       "    <tr>\n",
       "      <th>shot_goal_away_last_10</th>\n",
       "      <td>0.082474</td>\n",
       "      <td>0.0</td>\n",
       "      <td>0.000000</td>\n",
       "    </tr>\n",
       "    <tr>\n",
       "      <th>shot_xg_away_last_10</th>\n",
       "      <td>0.000000</td>\n",
       "      <td>0.0</td>\n",
       "      <td>0.000000</td>\n",
       "    </tr>\n",
       "    <tr>\n",
       "      <th>shot_total_away_last_10</th>\n",
       "      <td>0.000000</td>\n",
       "      <td>0.0</td>\n",
       "      <td>0.000000</td>\n",
       "    </tr>\n",
       "    <tr>\n",
       "      <th>shot_precision_away_last_10</th>\n",
       "      <td>0.000000</td>\n",
       "      <td>0.0</td>\n",
       "      <td>0.000000</td>\n",
       "    </tr>\n",
       "    <tr>\n",
       "      <th>shot_conversion_away_last_10</th>\n",
       "      <td>0.000000</td>\n",
       "      <td>0.0</td>\n",
       "      <td>0.000000</td>\n",
       "    </tr>\n",
       "  </tbody>\n",
       "</table>\n",
       "</div>"
      ],
      "text/plain": [
       "                                     -1    0         1\n",
       "pass_completed_home_all_past   0.000000  0.0  0.000000\n",
       "pass_total_home_all_past       0.000000  0.0  0.134544\n",
       "pass_precision_home_all_past  -0.037730  0.0  0.000000\n",
       "shot_on_target_home_all_past   0.000000  0.0  0.000000\n",
       "shot_goal_home_all_past       -0.038693  0.0  0.000000\n",
       "shot_xg_home_all_past          0.000000  0.0  0.000000\n",
       "shot_total_home_all_past      -0.102988  0.0  0.151678\n",
       "shot_precision_home_all_past   0.000000  0.0  0.000000\n",
       "shot_conversion_home_all_past  0.000000  0.0  0.000000\n",
       "pass_completed_home_last_10    0.000000  0.0  0.000000\n",
       "pass_total_home_last_10        0.000000  0.0  0.000000\n",
       "pass_precision_home_last_10    0.000000  0.0  0.000000\n",
       "shot_on_target_home_last_10    0.000000  0.0  0.000000\n",
       "shot_goal_home_last_10         0.000000  0.0  0.000000\n",
       "shot_xg_home_last_10           0.000000  0.0  0.000000\n",
       "shot_total_home_last_10        0.000000  0.0  0.000000\n",
       "shot_precision_home_last_10    0.000000  0.0  0.000000\n",
       "shot_conversion_home_last_10   0.000000  0.0  0.000000\n",
       "pass_completed_away_all_past   0.099141  0.0  0.000000\n",
       "pass_total_away_all_past       0.000000  0.0 -0.089160\n",
       "pass_precision_away_all_past   0.000000  0.0  0.000000\n",
       "shot_on_target_away_all_past   0.000000  0.0  0.000000\n",
       "shot_goal_away_all_past        0.000000  0.0  0.000000\n",
       "shot_xg_away_all_past          0.000000  0.0  0.000000\n",
       "shot_total_away_all_past       0.061049  0.0 -0.080756\n",
       "shot_precision_away_all_past   0.000000  0.0  0.000000\n",
       "shot_conversion_away_all_past  0.000000  0.0 -0.015658\n",
       "pass_completed_away_last_10    0.000000  0.0  0.000000\n",
       "pass_total_away_last_10        0.000000  0.0  0.000000\n",
       "pass_precision_away_last_10    0.000000  0.0  0.000000\n",
       "shot_on_target_away_last_10    0.000000  0.0  0.000000\n",
       "shot_goal_away_last_10         0.082474  0.0  0.000000\n",
       "shot_xg_away_last_10           0.000000  0.0  0.000000\n",
       "shot_total_away_last_10        0.000000  0.0  0.000000\n",
       "shot_precision_away_last_10    0.000000  0.0  0.000000\n",
       "shot_conversion_away_last_10   0.000000  0.0  0.000000"
      ]
     },
     "execution_count": 44,
     "metadata": {},
     "output_type": "execute_result"
    }
   ],
   "source": [
    "coefs_df = pd.DataFrame(coefs.T, columns=model.classes_, index=feats)\n",
    "coefs_df"
   ]
  },
  {
   "cell_type": "code",
   "execution_count": 45,
   "metadata": {},
   "outputs": [
    {
     "data": {
      "text/html": [
       "<div>\n",
       "<style scoped>\n",
       "    .dataframe tbody tr th:only-of-type {\n",
       "        vertical-align: middle;\n",
       "    }\n",
       "\n",
       "    .dataframe tbody tr th {\n",
       "        vertical-align: top;\n",
       "    }\n",
       "\n",
       "    .dataframe thead th {\n",
       "        text-align: right;\n",
       "    }\n",
       "</style>\n",
       "<table border=\"1\" class=\"dataframe\">\n",
       "  <thead>\n",
       "    <tr style=\"text-align: right;\">\n",
       "      <th></th>\n",
       "      <th>-1</th>\n",
       "      <th>0</th>\n",
       "      <th>1</th>\n",
       "    </tr>\n",
       "  </thead>\n",
       "  <tbody>\n",
       "    <tr>\n",
       "      <th>pass_total_home_all_past</th>\n",
       "      <td>NaN</td>\n",
       "      <td>NaN</td>\n",
       "      <td>0.134544</td>\n",
       "    </tr>\n",
       "    <tr>\n",
       "      <th>pass_precision_home_all_past</th>\n",
       "      <td>-0.037730</td>\n",
       "      <td>NaN</td>\n",
       "      <td>NaN</td>\n",
       "    </tr>\n",
       "    <tr>\n",
       "      <th>shot_goal_home_all_past</th>\n",
       "      <td>-0.038693</td>\n",
       "      <td>NaN</td>\n",
       "      <td>NaN</td>\n",
       "    </tr>\n",
       "    <tr>\n",
       "      <th>shot_total_home_all_past</th>\n",
       "      <td>-0.102988</td>\n",
       "      <td>NaN</td>\n",
       "      <td>0.151678</td>\n",
       "    </tr>\n",
       "    <tr>\n",
       "      <th>pass_completed_away_all_past</th>\n",
       "      <td>0.099141</td>\n",
       "      <td>NaN</td>\n",
       "      <td>NaN</td>\n",
       "    </tr>\n",
       "    <tr>\n",
       "      <th>pass_total_away_all_past</th>\n",
       "      <td>NaN</td>\n",
       "      <td>NaN</td>\n",
       "      <td>-0.089160</td>\n",
       "    </tr>\n",
       "    <tr>\n",
       "      <th>shot_total_away_all_past</th>\n",
       "      <td>0.061049</td>\n",
       "      <td>NaN</td>\n",
       "      <td>-0.080756</td>\n",
       "    </tr>\n",
       "    <tr>\n",
       "      <th>shot_conversion_away_all_past</th>\n",
       "      <td>NaN</td>\n",
       "      <td>NaN</td>\n",
       "      <td>-0.015658</td>\n",
       "    </tr>\n",
       "    <tr>\n",
       "      <th>shot_goal_away_last_10</th>\n",
       "      <td>0.082474</td>\n",
       "      <td>NaN</td>\n",
       "      <td>NaN</td>\n",
       "    </tr>\n",
       "  </tbody>\n",
       "</table>\n",
       "</div>"
      ],
      "text/plain": [
       "                                     -1   0         1\n",
       "pass_total_home_all_past            NaN NaN  0.134544\n",
       "pass_precision_home_all_past  -0.037730 NaN       NaN\n",
       "shot_goal_home_all_past       -0.038693 NaN       NaN\n",
       "shot_total_home_all_past      -0.102988 NaN  0.151678\n",
       "pass_completed_away_all_past   0.099141 NaN       NaN\n",
       "pass_total_away_all_past            NaN NaN -0.089160\n",
       "shot_total_away_all_past       0.061049 NaN -0.080756\n",
       "shot_conversion_away_all_past       NaN NaN -0.015658\n",
       "shot_goal_away_last_10         0.082474 NaN       NaN"
      ]
     },
     "execution_count": 45,
     "metadata": {},
     "output_type": "execute_result"
    }
   ],
   "source": [
    "coefs_df[(coefs_df > 0) | (coefs_df < 0)].dropna(how='all')"
   ]
  },
  {
   "cell_type": "code",
   "execution_count": 42,
   "metadata": {},
   "outputs": [
    {
     "data": {
      "text/plain": [
       "match_id                         3.890561e+06\n",
       "target                          -1.000000e+00\n",
       "pass_completed_home_all_past     3.299394e+02\n",
       "pass_total_home_all_past         4.456970e+02\n",
       "pass_precision_home_all_past     7.241602e-01\n",
       "shot_on_target_home_all_past     6.757576e+00\n",
       "shot_goal_home_all_past          1.151515e+00\n",
       "shot_xg_home_all_past            1.213208e+00\n",
       "shot_total_home_all_past         1.118182e+01\n",
       "shot_precision_home_all_past     5.990345e-01\n",
       "shot_conversion_home_all_past    1.086730e-01\n",
       "pass_completed_home_last_10      3.688000e+02\n",
       "pass_total_home_last_10          4.784000e+02\n",
       "pass_precision_home_last_10      7.603091e-01\n",
       "shot_on_target_home_last_10      8.400000e+00\n",
       "shot_goal_home_last_10           1.500000e+00\n",
       "shot_xg_home_last_10             1.588514e+00\n",
       "shot_total_home_last_10          1.300000e+01\n",
       "shot_precision_home_last_10      6.589929e-01\n",
       "shot_conversion_home_last_10     1.275523e-01\n",
       "pass_completed_away_all_past     3.866364e+02\n",
       "pass_total_away_all_past         4.910000e+02\n",
       "pass_precision_away_all_past     7.826899e-01\n",
       "shot_on_target_away_all_past     8.151515e+00\n",
       "shot_goal_away_all_past          1.333333e+00\n",
       "shot_xg_away_all_past            1.339073e+00\n",
       "shot_total_away_all_past         1.436364e+01\n",
       "shot_precision_away_all_past     5.701125e-01\n",
       "shot_conversion_away_all_past    9.766239e-02\n",
       "pass_completed_away_last_10      4.092000e+02\n",
       "pass_total_away_last_10          5.100000e+02\n",
       "pass_precision_away_last_10      7.999646e-01\n",
       "shot_on_target_away_last_10      8.400000e+00\n",
       "shot_goal_away_last_10           1.500000e+00\n",
       "shot_xg_away_last_10             1.529696e+00\n",
       "shot_total_away_last_10          1.410000e+01\n",
       "shot_precision_away_last_10      6.040611e-01\n",
       "shot_conversion_away_last_10     1.108522e-01\n",
       "Name: 0, dtype: float64"
      ]
     },
     "execution_count": 42,
     "metadata": {},
     "output_type": "execute_result"
    }
   ],
   "source": [
    "all_seasons.iloc[0]"
   ]
  },
  {
   "cell_type": "code",
   "execution_count": 26,
   "metadata": {},
   "outputs": [
    {
     "data": {
      "text/plain": [
       "array([0.68470091, 0.61159412, 0.87515618])"
      ]
     },
     "execution_count": 26,
     "metadata": {},
     "output_type": "execute_result"
    }
   ],
   "source": [
    "np.exp(model.intercept_)"
   ]
  },
  {
   "cell_type": "code",
   "execution_count": 34,
   "metadata": {},
   "outputs": [
    {
     "name": "stdout",
     "output_type": "stream",
     "text": [
      "\u001b[34m\n",
      "Load latest scaler from local registry...\u001b[0m\n",
      "\u001b[34m\n",
      "Load latest scaler from disk...\u001b[0m\n",
      "✅ Scaler loaded from local disk\n"
     ]
    },
    {
     "name": "stderr",
     "output_type": "stream",
     "text": [
      "/home/javier/.pyenv/versions/3.10.6/envs/goalguru/lib/python3.10/site-packages/sklearn/base.py:420: UserWarning: X does not have valid feature names, but RobustScaler was fitted with feature names\n",
      "  warnings.warn(\n"
     ]
    },
    {
     "data": {
      "text/plain": [
       "array([[0.44508401, 0.28508954, 0.26982645]])"
      ]
     },
     "execution_count": 34,
     "metadata": {},
     "output_type": "execute_result"
    }
   ],
   "source": [
    "scaler = load_scaler()\n",
    "default_prob = model.predict_proba(scaler.transform(np.zeros((1,36))))\n",
    "default_prob"
   ]
  },
  {
   "cell_type": "code",
   "execution_count": 41,
   "metadata": {},
   "outputs": [
    {
     "data": {
      "text/plain": [
       "array([[44.51, 28.51, 26.98]])"
      ]
     },
     "execution_count": 41,
     "metadata": {},
     "output_type": "execute_result"
    }
   ],
   "source": [
    "np.around(default_prob*100, 2)"
   ]
  },
  {
   "cell_type": "code",
   "execution_count": 47,
   "metadata": {},
   "outputs": [
    {
     "data": {
      "text/plain": [
       " 1    0.444788\n",
       "-1    0.313900\n",
       " 0    0.241313\n",
       "Name: target, dtype: float64"
      ]
     },
     "execution_count": 47,
     "metadata": {},
     "output_type": "execute_result"
    }
   ],
   "source": [
    "all_seasons['target'].value_counts(normalize=True)"
   ]
  },
  {
   "cell_type": "code",
   "execution_count": 50,
   "metadata": {},
   "outputs": [
    {
     "data": {
      "text/plain": [
       "pass_completed_home_all_past    NaN\n",
       "pass_total_home_all_past        NaN\n",
       "pass_precision_home_all_past    NaN\n",
       "shot_on_target_home_all_past    NaN\n",
       "shot_goal_home_all_past         NaN\n",
       "shot_xg_home_all_past           NaN\n",
       "shot_total_home_all_past        NaN\n",
       "shot_precision_home_all_past    NaN\n",
       "shot_conversion_home_all_past   NaN\n",
       "pass_completed_home_last_10     NaN\n",
       "pass_total_home_last_10         NaN\n",
       "pass_precision_home_last_10     NaN\n",
       "shot_on_target_home_last_10     NaN\n",
       "shot_goal_home_last_10          NaN\n",
       "shot_xg_home_last_10            NaN\n",
       "shot_total_home_last_10         NaN\n",
       "shot_precision_home_last_10     NaN\n",
       "shot_conversion_home_last_10    NaN\n",
       "pass_completed_away_all_past    NaN\n",
       "pass_total_away_all_past        NaN\n",
       "pass_precision_away_all_past    NaN\n",
       "shot_on_target_away_all_past    NaN\n",
       "shot_goal_away_all_past         NaN\n",
       "shot_xg_away_all_past           NaN\n",
       "shot_total_away_all_past        NaN\n",
       "shot_precision_away_all_past    NaN\n",
       "shot_conversion_away_all_past   NaN\n",
       "pass_completed_away_last_10     NaN\n",
       "pass_total_away_last_10         NaN\n",
       "pass_precision_away_last_10     NaN\n",
       "shot_on_target_away_last_10     NaN\n",
       "shot_goal_away_last_10          NaN\n",
       "shot_xg_away_last_10            NaN\n",
       "shot_total_away_last_10         NaN\n",
       "shot_precision_away_last_10     NaN\n",
       "shot_conversion_away_last_10    NaN\n",
       "Name: 2589, dtype: float64"
      ]
     },
     "execution_count": 50,
     "metadata": {},
     "output_type": "execute_result"
    }
   ],
   "source": [
    "all_seasons.iloc[-1,2:]"
   ]
  },
  {
   "cell_type": "code",
   "execution_count": 55,
   "metadata": {},
   "outputs": [
    {
     "name": "stderr",
     "output_type": "stream",
     "text": [
      "/home/javier/.pyenv/versions/3.10.6/envs/goalguru/lib/python3.10/site-packages/sklearn/base.py:420: UserWarning: X does not have valid feature names, but RobustScaler was fitted with feature names\n",
      "  warnings.warn(\n"
     ]
    },
    {
     "data": {
      "text/plain": [
       "array([[0.44508401, 0.28508954, 0.26982645]])"
      ]
     },
     "execution_count": 55,
     "metadata": {},
     "output_type": "execute_result"
    }
   ],
   "source": [
    "model.predict_proba(scaler.transform(all_seasons.iloc[-1,2:].fillna(0).to_numpy().reshape(1, -1)))"
   ]
  }
 ],
 "metadata": {
  "kernelspec": {
   "display_name": "goalguru",
   "language": "python",
   "name": "python3"
  },
  "language_info": {
   "codemirror_mode": {
    "name": "ipython",
    "version": 3
   },
   "file_extension": ".py",
   "mimetype": "text/x-python",
   "name": "python",
   "nbconvert_exporter": "python",
   "pygments_lexer": "ipython3",
   "version": "3.10.6"
  },
  "orig_nbformat": 4
 },
 "nbformat": 4,
 "nbformat_minor": 2
}
