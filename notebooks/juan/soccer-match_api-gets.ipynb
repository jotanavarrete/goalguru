{
 "cells": [
  {
   "cell_type": "markdown",
   "id": "3818c808-d781-4fb1-8c96-88d320662965",
   "metadata": {},
   "source": [
    "## Import data"
   ]
  },
  {
   "cell_type": "code",
   "execution_count": 59,
   "id": "93fda69c-c152-4e81-a700-e806e9112454",
   "metadata": {},
   "outputs": [],
   "source": [
    "import pandas as pd\n",
    "import re\n",
    "pd.set_option('display.max_columns', None)"
   ]
  },
  {
   "cell_type": "code",
   "execution_count": 60,
   "id": "ffb41383-1cc9-4e08-a1a5-2a1e7ae68ab7",
   "metadata": {},
   "outputs": [],
   "source": [
    "matches_cleaned = pd.read_csv('data/processed_data/soccer_match/soccer_match-matches_processed.csv')\n",
    "X_processed =  pd.read_csv('data/processed_data/soccer_match/soccer_match-X_processed.csv')\n",
    "y_processed = pd.read_csv('data/processed_data/soccer_match/soccer_match-y_processed.csv')"
   ]
  },
  {
   "cell_type": "code",
   "execution_count": 166,
   "id": "e4b04ad6-17e4-4efb-9bfd-960df16eecea",
   "metadata": {},
   "outputs": [],
   "source": [
    "def get_competitions(matches: pd.DataFrame) -> list:\n",
    "    l_comp = matches.competitionId.unique()\n",
    "    comp = {524 : 'Serie A',\n",
    "                364 : 'Premier League',\n",
    "                795 : 'LaLiga',\n",
    "                412 : 'Ligue 1',\n",
    "                426 : 'Bundesliga',\n",
    "                102 : 'Euro Cup',\n",
    "                28 : 'World Cup'\n",
    "               }\n",
    "    competitions = []\n",
    "    for id in l_comp:\n",
    "        compet = {}\n",
    "        compet['competition_id'] = id\n",
    "        compet['name'] = comp[id]\n",
    "        competitions.append(compet)\n",
    "    return competitions"
   ]
  },
  {
   "cell_type": "code",
   "execution_count": 167,
   "id": "1e8a9459-30ed-4fcd-9c5f-90f292d8c2f8",
   "metadata": {},
   "outputs": [
    {
     "data": {
      "text/plain": [
       "[{'competition_id': 28, 'name': 'World Cup'},\n",
       " {'competition_id': 795, 'name': 'LaLiga'},\n",
       " {'competition_id': 524, 'name': 'Serie A'},\n",
       " {'competition_id': 412, 'name': 'Ligue 1'},\n",
       " {'competition_id': 364, 'name': 'Premier League'},\n",
       " {'competition_id': 426, 'name': 'Bundesliga'},\n",
       " {'competition_id': 102, 'name': 'Euro Cup'}]"
      ]
     },
     "execution_count": 167,
     "metadata": {},
     "output_type": "execute_result"
    }
   ],
   "source": [
    "get_competitions(matches_cleaned)"
   ]
  },
  {
   "cell_type": "code",
   "execution_count": 163,
   "id": "bbf4ab68-712c-4c39-90d8-5bedf36cebad",
   "metadata": {},
   "outputs": [],
   "source": [
    "def get_seasons(competition_id:int) ->list:\n",
    "    seasons = matches_cleaned[matches_cleaned['competitionId'] == competition_id].seasonId.unique()\n",
    "    s = []\n",
    "    for season in seasons:\n",
    "        seas_dic = {}\n",
    "        min_year = matches_cleaned[matches_cleaned['seasonId']==season].dateutc.min()[0:4]\n",
    "        max_year = matches_cleaned[matches_cleaned['seasonId']==season].dateutc.max()[0:4]\n",
    "        matchweeks = sorted(matches_cleaned[matches_cleaned['seasonId']==season].gameweek.unique())\n",
    "        dataset = 'soccermatch'\n",
    "        seas_dic['season_id'] = season\n",
    "        if min_year != max_year:\n",
    "            seas_dic['name'] = f\"{min_year}/{max_year}\" \n",
    "        else:\n",
    "            seas_dic['name'] = f\"{min_year}\"\n",
    "        seas_dic['matchweeks'] = matchweeks\n",
    "        seas_dic['dataset'] = dataset\n",
    "        s.append(seas_dic)\n",
    "    return s"
   ]
  },
  {
   "cell_type": "code",
   "execution_count": 169,
   "id": "12d606f8-63b9-4109-896c-2c8045159722",
   "metadata": {
    "collapsed": true,
    "jupyter": {
     "outputs_hidden": true
    }
   },
   "outputs": [
    {
     "data": {
      "text/plain": [
       "[{'season_id': 181150,\n",
       "  'name': '2017/2018',\n",
       "  'matchweeks': [3,\n",
       "   4,\n",
       "   5,\n",
       "   6,\n",
       "   7,\n",
       "   8,\n",
       "   9,\n",
       "   10,\n",
       "   11,\n",
       "   12,\n",
       "   13,\n",
       "   14,\n",
       "   15,\n",
       "   16,\n",
       "   17,\n",
       "   18,\n",
       "   19,\n",
       "   20,\n",
       "   21,\n",
       "   22,\n",
       "   23,\n",
       "   24,\n",
       "   25,\n",
       "   26,\n",
       "   27,\n",
       "   28,\n",
       "   29,\n",
       "   30,\n",
       "   31,\n",
       "   32,\n",
       "   33,\n",
       "   34,\n",
       "   35,\n",
       "   36,\n",
       "   37,\n",
       "   38],\n",
       "  'dataset': 'soccermatch'}]"
      ]
     },
     "execution_count": 169,
     "metadata": {},
     "output_type": "execute_result"
    }
   ],
   "source": [
    "get_seasons(364)"
   ]
  },
  {
   "cell_type": "code",
   "execution_count": 149,
   "id": "656ab995-3e68-488a-8d11-5081e3f55ab4",
   "metadata": {},
   "outputs": [],
   "source": [
    "def get_matches(competition_id:int,\n",
    "                season_id:int,\n",
    "                matchweek:int,\n",
    "                dataset:pd.DataFrame) -> list:\n",
    "    condition_comp = dataset['competitionId'] == competition_id\n",
    "    condition_season = dataset['seasonId'] == season_id\n",
    "    condition_matchweek = dataset['gameweek'] == matchweek\n",
    "    condition = condition_comp & condition_season & condition_matchweek\n",
    "\n",
    "    matches_filt = dataset[condition]\n",
    "    match_l = []\n",
    "    for index, row in matches_filt.iterrows():\n",
    "        m = {}\n",
    "        m['match_id'] = matches_filt.loc[index, 'matchId']\n",
    "        m['name'] = f\"{matches_filt.loc[index, 'homeTeam']} vs {matches_filt.loc[index, 'awayTeam']}\"\n",
    "        m['home_team'] = matches_filt.loc[index, 'homeTeam']\n",
    "        m['away_team'] = matches_filt.loc[index, 'awayTeam']\n",
    "        match_l.append(m)\n",
    "    return match_l"
   ]
  },
  {
   "cell_type": "code",
   "execution_count": 170,
   "id": "b44d6104-777d-4328-ae01-f42a0bb0e3d5",
   "metadata": {
    "collapsed": true,
    "jupyter": {
     "outputs_hidden": true
    }
   },
   "outputs": [
    {
     "data": {
      "text/plain": [
       "[{'match_id': 2058017,\n",
       "  'name': 'France vs Croatia',\n",
       "  'home_team': 'France',\n",
       "  'away_team': 'Croatia'},\n",
       " {'match_id': 2058016,\n",
       "  'name': 'Belgium vs England',\n",
       "  'home_team': 'Belgium',\n",
       "  'away_team': 'England'},\n",
       " {'match_id': 2058015,\n",
       "  'name': 'Croatia vs England',\n",
       "  'home_team': 'Croatia',\n",
       "  'away_team': 'England'},\n",
       " {'match_id': 2058014,\n",
       "  'name': 'France vs Belgium',\n",
       "  'home_team': 'France',\n",
       "  'away_team': 'Belgium'},\n",
       " {'match_id': 2058012,\n",
       "  'name': 'Russia vs Croatia',\n",
       "  'home_team': 'Russia',\n",
       "  'away_team': 'Croatia'},\n",
       " {'match_id': 2058013,\n",
       "  'name': 'Sweden vs England',\n",
       "  'home_team': 'Sweden',\n",
       "  'away_team': 'England'},\n",
       " {'match_id': 2058011,\n",
       "  'name': 'Brazil vs Belgium',\n",
       "  'home_team': 'Brazil',\n",
       "  'away_team': 'Belgium'},\n",
       " {'match_id': 2058010,\n",
       "  'name': 'Uruguay vs France',\n",
       "  'home_team': 'Uruguay',\n",
       "  'away_team': 'France'},\n",
       " {'match_id': 2058009,\n",
       "  'name': 'Colombia vs England',\n",
       "  'home_team': 'Colombia',\n",
       "  'away_team': 'England'},\n",
       " {'match_id': 2058008,\n",
       "  'name': 'Sweden vs Switzerland',\n",
       "  'home_team': 'Sweden',\n",
       "  'away_team': 'Switzerland'},\n",
       " {'match_id': 2058007,\n",
       "  'name': 'Belgium vs Japan',\n",
       "  'home_team': 'Belgium',\n",
       "  'away_team': 'Japan'},\n",
       " {'match_id': 2058006,\n",
       "  'name': 'Brazil vs Mexico',\n",
       "  'home_team': 'Brazil',\n",
       "  'away_team': 'Mexico'},\n",
       " {'match_id': 2058005,\n",
       "  'name': 'Croatia vs Denmark',\n",
       "  'home_team': 'Croatia',\n",
       "  'away_team': 'Denmark'},\n",
       " {'match_id': 2058004,\n",
       "  'name': 'Spain vs Russia',\n",
       "  'home_team': 'Spain',\n",
       "  'away_team': 'Russia'},\n",
       " {'match_id': 2058002,\n",
       "  'name': 'Uruguay vs Portugal',\n",
       "  'home_team': 'Uruguay',\n",
       "  'away_team': 'Portugal'},\n",
       " {'match_id': 2058003,\n",
       "  'name': 'France vs Argentina',\n",
       "  'home_team': 'France',\n",
       "  'away_team': 'Argentina'}]"
      ]
     },
     "execution_count": 170,
     "metadata": {},
     "output_type": "execute_result"
    }
   ],
   "source": [
    "get_matches(28,\n",
    "            10078,\n",
    "            0,\n",
    "            matches_cleaned)"
   ]
  },
  {
   "cell_type": "code",
   "execution_count": 157,
   "id": "b32d2e2f-8f0d-4afb-b932-db6804482206",
   "metadata": {},
   "outputs": [
    {
     "data": {
      "text/html": [
       "<div>\n",
       "<style scoped>\n",
       "    .dataframe tbody tr th:only-of-type {\n",
       "        vertical-align: middle;\n",
       "    }\n",
       "\n",
       "    .dataframe tbody tr th {\n",
       "        vertical-align: top;\n",
       "    }\n",
       "\n",
       "    .dataframe thead th {\n",
       "        text-align: right;\n",
       "    }\n",
       "</style>\n",
       "<table border=\"1\" class=\"dataframe\">\n",
       "  <thead>\n",
       "    <tr style=\"text-align: right;\">\n",
       "      <th></th>\n",
       "      <th>homeTeam</th>\n",
       "      <th>awayTeam</th>\n",
       "      <th>homeScore</th>\n",
       "      <th>awayScore</th>\n",
       "    </tr>\n",
       "  </thead>\n",
       "  <tbody>\n",
       "    <tr>\n",
       "      <th>0</th>\n",
       "      <td>France</td>\n",
       "      <td>Croatia</td>\n",
       "      <td>4</td>\n",
       "      <td>2</td>\n",
       "    </tr>\n",
       "  </tbody>\n",
       "</table>\n",
       "</div>"
      ],
      "text/plain": [
       "  homeTeam awayTeam  homeScore  awayScore\n",
       "0   France  Croatia          4          2"
      ]
     },
     "execution_count": 157,
     "metadata": {},
     "output_type": "execute_result"
    }
   ],
   "source": [
    "matches_cleaned[matches_cleaned['matchId'] == 2058017][['homeTeam', 'awayTeam', 'homeScore', 'awayScore']]"
   ]
  },
  {
   "cell_type": "code",
   "execution_count": 171,
   "id": "3b55d4f9-5e71-449e-a5d9-b6908f9ad0b5",
   "metadata": {},
   "outputs": [],
   "source": [
    "def get_results(match_id: int,\n",
    "                dataset:pd.DataFrame) -> dict:\n",
    "    game = dataset[dataset['matchId'] == match_id]\n",
    "    result = {}\n",
    "    res = f\"{game.homeTeam[0]} {game.homeScore[0]} - {game.awayTeam[0]} {game.awayScore[0]}\"\n",
    "    result['result'] = res\n",
    "    return result"
   ]
  },
  {
   "cell_type": "code",
   "execution_count": 172,
   "id": "6c79e296-43a9-4165-bcdd-cdc182b70746",
   "metadata": {},
   "outputs": [
    {
     "data": {
      "text/plain": [
       "{'result': 'France 4 - Croatia 2'}"
      ]
     },
     "execution_count": 172,
     "metadata": {},
     "output_type": "execute_result"
    }
   ],
   "source": [
    "get_results(2058017, matches_cleaned)"
   ]
  }
 ],
 "metadata": {
  "kernelspec": {
   "display_name": "Python 3 (ipykernel)",
   "language": "python",
   "name": "python3"
  },
  "language_info": {
   "codemirror_mode": {
    "name": "ipython",
    "version": 3
   },
   "file_extension": ".py",
   "mimetype": "text/x-python",
   "name": "python",
   "nbconvert_exporter": "python",
   "pygments_lexer": "ipython3",
   "version": "3.10.6"
  }
 },
 "nbformat": 4,
 "nbformat_minor": 5
}
