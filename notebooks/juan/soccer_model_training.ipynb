{
 "cells": [
  {
   "cell_type": "markdown",
   "id": "ae6d8b2e-15d7-4f92-9b76-6f6783ac3853",
   "metadata": {},
   "source": [
    "## Import data"
   ]
  },
  {
   "cell_type": "code",
   "execution_count": 3,
   "id": "0e8fefb0-8378-45d9-abe7-f3e1fb7e771d",
   "metadata": {},
   "outputs": [],
   "source": [
    "import pandas as pd"
   ]
  },
  {
   "cell_type": "code",
   "execution_count": 8,
   "id": "01f77f6a-f325-4614-8fa5-4c573ac78bad",
   "metadata": {},
   "outputs": [],
   "source": [
    "matches_cleaned = pd.read_csv('data/processed_data/soccer_match/soccer_match-matches_processed.csv')\n",
    "X_processed =  pd.read_csv('data/processed_data/soccer_match/soccer_match-X_processed.csv')\n",
    "y_processed = pd.read_csv('data/processed_data/soccer_match/soccer_match-y_processed.csv')"
   ]
  },
  {
   "cell_type": "code",
   "execution_count": 42,
   "id": "833db3d8-c5e0-4574-8fd4-487eb9f503b1",
   "metadata": {},
   "outputs": [
    {
     "data": {
      "text/html": [
       "<div>\n",
       "<style scoped>\n",
       "    .dataframe tbody tr th:only-of-type {\n",
       "        vertical-align: middle;\n",
       "    }\n",
       "\n",
       "    .dataframe tbody tr th {\n",
       "        vertical-align: top;\n",
       "    }\n",
       "\n",
       "    .dataframe thead th {\n",
       "        text-align: right;\n",
       "    }\n",
       "</style>\n",
       "<table border=\"1\" class=\"dataframe\">\n",
       "  <thead>\n",
       "    <tr style=\"text-align: right;\">\n",
       "      <th></th>\n",
       "      <th>avgHomePassAccuLast10Games</th>\n",
       "      <th>avgHomeShotAccuLast10Games</th>\n",
       "      <th>avgAwayPassAccuLast10Games</th>\n",
       "      <th>avgAwayShotAccuLast10Games</th>\n",
       "      <th>homeWRlast10Games</th>\n",
       "      <th>awayWRlast10Games</th>\n",
       "      <th>homeLast10AvgRank</th>\n",
       "      <th>awayLast10AvgRank</th>\n",
       "    </tr>\n",
       "  </thead>\n",
       "  <tbody>\n",
       "    <tr>\n",
       "      <th>0</th>\n",
       "      <td>0.799875</td>\n",
       "      <td>0.460678</td>\n",
       "      <td>0.851845</td>\n",
       "      <td>0.345496</td>\n",
       "      <td>0.8</td>\n",
       "      <td>0.8</td>\n",
       "      <td>0.007720</td>\n",
       "      <td>0.004205</td>\n",
       "    </tr>\n",
       "    <tr>\n",
       "      <th>1</th>\n",
       "      <td>0.803771</td>\n",
       "      <td>0.318298</td>\n",
       "      <td>0.816299</td>\n",
       "      <td>0.323155</td>\n",
       "      <td>0.8</td>\n",
       "      <td>0.5</td>\n",
       "      <td>0.006008</td>\n",
       "      <td>0.009929</td>\n",
       "    </tr>\n",
       "    <tr>\n",
       "      <th>2</th>\n",
       "      <td>0.779446</td>\n",
       "      <td>0.469684</td>\n",
       "      <td>0.803438</td>\n",
       "      <td>0.465645</td>\n",
       "      <td>0.7</td>\n",
       "      <td>0.5</td>\n",
       "      <td>0.002913</td>\n",
       "      <td>0.010087</td>\n",
       "    </tr>\n",
       "  </tbody>\n",
       "</table>\n",
       "</div>"
      ],
      "text/plain": [
       "   avgHomePassAccuLast10Games  avgHomeShotAccuLast10Games  \\\n",
       "0                    0.799875                    0.460678   \n",
       "1                    0.803771                    0.318298   \n",
       "2                    0.779446                    0.469684   \n",
       "\n",
       "   avgAwayPassAccuLast10Games  avgAwayShotAccuLast10Games  homeWRlast10Games  \\\n",
       "0                    0.851845                    0.345496                0.8   \n",
       "1                    0.816299                    0.323155                0.8   \n",
       "2                    0.803438                    0.465645                0.7   \n",
       "\n",
       "   awayWRlast10Games  homeLast10AvgRank  awayLast10AvgRank  \n",
       "0                0.8           0.007720           0.004205  \n",
       "1                0.5           0.006008           0.009929  \n",
       "2                0.5           0.002913           0.010087  "
      ]
     },
     "execution_count": 42,
     "metadata": {},
     "output_type": "execute_result"
    }
   ],
   "source": [
    "X_processed.head(3)"
   ]
  },
  {
   "cell_type": "markdown",
   "id": "8c7be241-0654-499e-b50a-de584b40a609",
   "metadata": {},
   "source": [
    "# Model training"
   ]
  },
  {
   "cell_type": "markdown",
   "id": "816ad2a7-ca17-4d23-9fec-9d33b9efe440",
   "metadata": {},
   "source": [
    "### Defining variables"
   ]
  },
  {
   "cell_type": "code",
   "execution_count": 12,
   "id": "b5e9ecc0-3476-4b58-be42-6bf31a8a2b35",
   "metadata": {},
   "outputs": [
    {
     "name": "stderr",
     "output_type": "stream",
     "text": [
      "2023-09-07 16:56:23.541914: I tensorflow/tsl/cuda/cudart_stub.cc:28] Could not find cuda drivers on your machine, GPU will not be used.\n",
      "2023-09-07 16:56:23.664781: I tensorflow/tsl/cuda/cudart_stub.cc:28] Could not find cuda drivers on your machine, GPU will not be used.\n",
      "2023-09-07 16:56:23.668417: I tensorflow/core/platform/cpu_feature_guard.cc:182] This TensorFlow binary is optimized to use available CPU instructions in performance-critical operations.\n",
      "To enable the following instructions: AVX2 FMA, in other operations, rebuild TensorFlow with the appropriate compiler flags.\n",
      "2023-09-07 16:56:24.777266: W tensorflow/compiler/tf2tensorrt/utils/py_utils.cc:38] TF-TRT Warning: Could not find TensorRT\n"
     ]
    }
   ],
   "source": [
    "from sklearn.model_selection import train_test_split\n",
    "from tensorflow.keras.models import Sequential\n",
    "from tensorflow.keras import layers\n",
    "from tensorflow.keras.callbacks import EarlyStopping"
   ]
  },
  {
   "cell_type": "code",
   "execution_count": 28,
   "id": "4ef7a60d-20fb-4590-8fff-3d75353849ac",
   "metadata": {},
   "outputs": [],
   "source": [
    "y = y_processed['homeWins']"
   ]
  },
  {
   "cell_type": "code",
   "execution_count": 29,
   "id": "0379cbc9-6f0c-40b6-9205-82e4d6306e3d",
   "metadata": {},
   "outputs": [],
   "source": [
    "y = pd.get_dummies(y,prefix = 'Class', dtype = int)"
   ]
  },
  {
   "cell_type": "code",
   "execution_count": 31,
   "id": "41ae18b6-bebd-4f7e-8082-4ab87cda8206",
   "metadata": {},
   "outputs": [],
   "source": [
    "X_train, X_test, y_train, y_test = train_test_split(X_processed,y, test_size=0.3)"
   ]
  },
  {
   "cell_type": "code",
   "execution_count": 38,
   "id": "1ba3d136-431a-4a12-8d1f-8235b71d9dcd",
   "metadata": {},
   "outputs": [],
   "source": [
    "def initialize_model():\n",
    "    model = Sequential()\n",
    "    model.add(layers.Dense(80, input_dim = 8, activation = 'relu'))\n",
    "\n",
    "    model.add(layers.Dense(30, activation = 'relu'))\n",
    "    \n",
    "    model.add(layers.Dense(16, activation = 'relu'))\n",
    "\n",
    "    model.add(layers.Dense(6, activation = 'relu'))\n",
    "    model.add(layers.Dense(6, activation = 'relu'))\n",
    "    model.add(layers.Dropout(0.2))\n",
    "    model.add(layers.Dense(4, activation = 'relu'))\n",
    "    #model.add(layers.Dropout(0.1))\n",
    "    model.add(layers.Dense(3, activation = 'softmax'))\n",
    "\n",
    "    model.compile(\n",
    "        loss = 'categorical_crossentropy',\n",
    "        optimizer = 'adam',\n",
    "        metrics = 'accuracy'\n",
    "    )\n",
    "\n",
    "    return model"
   ]
  },
  {
   "cell_type": "code",
   "execution_count": 39,
   "id": "91b2ce12-6c87-4add-94f8-f9c3e4674f45",
   "metadata": {},
   "outputs": [],
   "source": [
    "es = EarlyStopping(patience = 30, restore_best_weights=True)\n",
    "model = initialize_model()\n",
    "history = model.fit(\n",
    "    X_train,\n",
    "    y_train,\n",
    "    validation_split = 0.3,\n",
    "    shuffle = True,\n",
    "    epochs = 200,\n",
    "    batch_size =  64,\n",
    "    verbose = 0\n",
    ")"
   ]
  },
  {
   "cell_type": "code",
   "execution_count": 40,
   "id": "f8c288bc-a46f-42b6-b8be-e447f365170b",
   "metadata": {},
   "outputs": [
    {
     "data": {
      "text/plain": [
       "0.5226824283599854"
      ]
     },
     "execution_count": 40,
     "metadata": {},
     "output_type": "execute_result"
    }
   ],
   "source": [
    "model.evaluate(X_test, y_test, verbose = 0)[1]"
   ]
  },
  {
   "cell_type": "code",
   "execution_count": null,
   "id": "a1146ec9-98fe-4920-8265-8ccd6f7eee58",
   "metadata": {},
   "outputs": [],
   "source": []
  }
 ],
 "metadata": {
  "kernelspec": {
   "display_name": "Python 3 (ipykernel)",
   "language": "python",
   "name": "python3"
  },
  "language_info": {
   "codemirror_mode": {
    "name": "ipython",
    "version": 3
   },
   "file_extension": ".py",
   "mimetype": "text/x-python",
   "name": "python",
   "nbconvert_exporter": "python",
   "pygments_lexer": "ipython3",
   "version": "3.10.6"
  }
 },
 "nbformat": 4,
 "nbformat_minor": 5
}
