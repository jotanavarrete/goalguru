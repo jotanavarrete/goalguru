{
 "cells": [
  {
   "cell_type": "code",
   "execution_count": 3,
   "id": "cd2f198a-b313-4d14-9de8-3b8096e104f3",
   "metadata": {},
   "outputs": [
    {
     "data": {
      "text/html": [
       "<pre style=\"white-space:pre;overflow-x:auto;line-height:normal;font-family:Menlo,'DejaVu Sans Mono',consolas,'Courier New',monospace\"><span style=\"color: #7fbfbf; text-decoration-color: #7fbfbf\">[09/07/23 16:44:26] </span><span style=\"color: #000080; text-decoration-color: #000080\">INFO    </span> No custom team name replacements found. You can configure these in       <a href=\"file:///root/.pyenv/versions/3.10.6/envs/goalguru/lib/python3.10/site-packages/soccerdata/_config.py\" target=\"_blank\"><span style=\"color: #7f7f7f; text-decoration-color: #7f7f7f\">_config.py</span></a><span style=\"color: #7f7f7f; text-decoration-color: #7f7f7f\">:</span><a href=\"file:///root/.pyenv/versions/3.10.6/envs/goalguru/lib/python3.10/site-packages/soccerdata/_config.py#84\" target=\"_blank\"><span style=\"color: #7f7f7f; text-decoration-color: #7f7f7f\">84</span></a>\n",
       "<span style=\"color: #7fbfbf; text-decoration-color: #7fbfbf\">                    </span>         <span style=\"color: #800080; text-decoration-color: #800080\">/root/soccerdata/config/</span><span style=\"color: #ff00ff; text-decoration-color: #ff00ff\">teamname_replacements.json.</span>                      <span style=\"color: #7f7f7f; text-decoration-color: #7f7f7f\">             </span>\n",
       "</pre>\n"
      ],
      "text/plain": [
       "\u001b[2;36m[09/07/23 16:44:26]\u001b[0m\u001b[2;36m \u001b[0m\u001b[34mINFO    \u001b[0m No custom team name replacements found. You can configure these in       \u001b]8;id=590358;file:///root/.pyenv/versions/3.10.6/envs/goalguru/lib/python3.10/site-packages/soccerdata/_config.py\u001b\\\u001b[2m_config.py\u001b[0m\u001b]8;;\u001b\\\u001b[2m:\u001b[0m\u001b]8;id=850063;file:///root/.pyenv/versions/3.10.6/envs/goalguru/lib/python3.10/site-packages/soccerdata/_config.py#84\u001b\\\u001b[2m84\u001b[0m\u001b]8;;\u001b\\\n",
       "\u001b[2;36m                    \u001b[0m         \u001b[35m/root/soccerdata/config/\u001b[0m\u001b[95mteamname_replacements.json.\u001b[0m                      \u001b[2m             \u001b[0m\n"
      ]
     },
     "metadata": {},
     "output_type": "display_data"
    },
    {
     "data": {
      "text/html": [
       "<pre style=\"white-space:pre;overflow-x:auto;line-height:normal;font-family:Menlo,'DejaVu Sans Mono',consolas,'Courier New',monospace\"><span style=\"color: #7fbfbf; text-decoration-color: #7fbfbf\">                    </span><span style=\"color: #000080; text-decoration-color: #000080\">INFO    </span> No custom league dict found. You can configure additional leagues in    <a href=\"file:///root/.pyenv/versions/3.10.6/envs/goalguru/lib/python3.10/site-packages/soccerdata/_config.py\" target=\"_blank\"><span style=\"color: #7f7f7f; text-decoration-color: #7f7f7f\">_config.py</span></a><span style=\"color: #7f7f7f; text-decoration-color: #7f7f7f\">:</span><a href=\"file:///root/.pyenv/versions/3.10.6/envs/goalguru/lib/python3.10/site-packages/soccerdata/_config.py#162\" target=\"_blank\"><span style=\"color: #7f7f7f; text-decoration-color: #7f7f7f\">162</span></a>\n",
       "<span style=\"color: #7fbfbf; text-decoration-color: #7fbfbf\">                    </span>         <span style=\"color: #800080; text-decoration-color: #800080\">/root/soccerdata/config/</span><span style=\"color: #ff00ff; text-decoration-color: #ff00ff\">league_dict.json.</span>                               <span style=\"color: #7f7f7f; text-decoration-color: #7f7f7f\">              </span>\n",
       "</pre>\n"
      ],
      "text/plain": [
       "\u001b[2;36m                   \u001b[0m\u001b[2;36m \u001b[0m\u001b[34mINFO    \u001b[0m No custom league dict found. You can configure additional leagues in    \u001b]8;id=425154;file:///root/.pyenv/versions/3.10.6/envs/goalguru/lib/python3.10/site-packages/soccerdata/_config.py\u001b\\\u001b[2m_config.py\u001b[0m\u001b]8;;\u001b\\\u001b[2m:\u001b[0m\u001b]8;id=972296;file:///root/.pyenv/versions/3.10.6/envs/goalguru/lib/python3.10/site-packages/soccerdata/_config.py#162\u001b\\\u001b[2m162\u001b[0m\u001b]8;;\u001b\\\n",
       "\u001b[2;36m                    \u001b[0m         \u001b[35m/root/soccerdata/config/\u001b[0m\u001b[95mleague_dict.json.\u001b[0m                               \u001b[2m              \u001b[0m\n"
      ]
     },
     "metadata": {},
     "output_type": "display_data"
    }
   ],
   "source": [
    "import pandas as pd\n",
    "import os\n",
    "import json\n",
    "import numpy as np\n",
    "pd.set_option('display.max_columns', None)\n",
    "import soccerdata as sd"
   ]
  },
  {
   "cell_type": "markdown",
   "id": "3ae8388a-fbc9-4f3d-80f3-a7d63cbc6cb0",
   "metadata": {},
   "source": [
    "# Load Data"
   ]
  },
  {
   "cell_type": "code",
   "execution_count": 4,
   "id": "95735a10-3aa2-4d79-8b41-1dc9d11c58ac",
   "metadata": {},
   "outputs": [],
   "source": [
    "data_directory = '../../data/raw_data/soccer_match'\n",
    "events_directory = os.path.join(data_directory, 'events')\n",
    "matches_directory = os.path.join(data_directory, 'matches')\n",
    "other_directory = os.path.join(data_directory, 'other')\n",
    "tags_directory = os.path.join(data_directory, 'tags')\n",
    "\n",
    "events_file_names = os.listdir(events_directory)\n",
    "matches_file_names = os.listdir(matches_directory)\n",
    "other_file_names = os.listdir(other_directory)\n",
    "tags_file_names = os.listdir(tags_directory)"
   ]
  },
  {
   "cell_type": "code",
   "execution_count": 5,
   "id": "79e9a41a-32e9-4c03-8df7-ea45f175e811",
   "metadata": {},
   "outputs": [],
   "source": [
    "events_dfs = {}\n",
    "for file_name in events_file_names:\n",
    "    events_dfs[f\"{file_name.replace('.json','')}\"] = pd.read_json(os.path.join(events_directory,file_name))"
   ]
  },
  {
   "cell_type": "code",
   "execution_count": 6,
   "id": "7c90a507-7cff-4fd6-8038-84c357c0a560",
   "metadata": {},
   "outputs": [
    {
     "data": {
      "text/plain": [
       "dict_keys(['events_European_Championship', 'events_France', 'events_Italy', 'events_Spain', 'events_Germany', 'events_World_Cup', 'events_England'])"
      ]
     },
     "execution_count": 6,
     "metadata": {},
     "output_type": "execute_result"
    }
   ],
   "source": [
    "events_dfs.keys()"
   ]
  },
  {
   "cell_type": "code",
   "execution_count": 7,
   "id": "59505653-0bd0-4fe0-b5e4-85b801f785f3",
   "metadata": {},
   "outputs": [],
   "source": [
    "matches_dfs = {}\n",
    "for file_name in matches_file_names:\n",
    "    matches_dfs[f\"{file_name.replace('.json','')}\"] = pd.read_json(os.path.join(matches_directory,file_name))"
   ]
  },
  {
   "cell_type": "code",
   "execution_count": 8,
   "id": "fb6d7fae-0a92-476a-998c-b74b0e914df0",
   "metadata": {},
   "outputs": [
    {
     "data": {
      "text/plain": [
       "dict_keys(['matches_Italy', 'matches_European_Championship', 'matches_Germany', 'matches_France', 'matches_Spain', 'matches_World_Cup', 'matches_England'])"
      ]
     },
     "execution_count": 8,
     "metadata": {},
     "output_type": "execute_result"
    }
   ],
   "source": [
    "matches_dfs.keys()"
   ]
  },
  {
   "cell_type": "code",
   "execution_count": 9,
   "id": "63de6ac0-6f20-4327-87d8-2a6ad49a8acc",
   "metadata": {},
   "outputs": [],
   "source": [
    "other_dfs = {}\n",
    "for file_name in other_file_names:\n",
    "    other_dfs[f\"{file_name.replace('.json','')}\"] = pd.read_json(os.path.join(other_directory,file_name))"
   ]
  },
  {
   "cell_type": "code",
   "execution_count": 10,
   "id": "5f808b3c-864d-4ae2-8b2a-022e7e1925cb",
   "metadata": {},
   "outputs": [
    {
     "data": {
      "text/plain": [
       "dict_keys(['playerank', 'referees', 'competitions', 'coaches', 'teams', 'players'])"
      ]
     },
     "execution_count": 10,
     "metadata": {},
     "output_type": "execute_result"
    }
   ],
   "source": [
    "other_dfs.keys()"
   ]
  },
  {
   "cell_type": "code",
   "execution_count": 11,
   "id": "90370e46-7485-4c70-8851-6ce4b307c051",
   "metadata": {},
   "outputs": [],
   "source": [
    "tags_dfs = {}\n",
    "for file_name in tags_file_names:\n",
    "    tags_dfs[f\"{file_name.replace('.csv','')}\"] = pd.read_csv(os.path.join(tags_directory,file_name))"
   ]
  },
  {
   "cell_type": "code",
   "execution_count": 12,
   "id": "21cb03ad-bde4-419b-9967-328991f117fa",
   "metadata": {},
   "outputs": [
    {
     "data": {
      "text/plain": [
       "dict_keys(['eventid2name', 'tags2name'])"
      ]
     },
     "execution_count": 12,
     "metadata": {},
     "output_type": "execute_result"
    }
   ],
   "source": [
    "tags_dfs.keys()"
   ]
  },
  {
   "cell_type": "markdown",
   "id": "dde6a854-c89c-4628-a928-dd31c109160e",
   "metadata": {},
   "source": [
    "# Analyze data"
   ]
  },
  {
   "cell_type": "markdown",
   "id": "56d9c62b-63b0-4c79-84a0-fd41612e72dd",
   "metadata": {},
   "source": [
    "## Events Dataset"
   ]
  },
  {
   "cell_type": "code",
   "execution_count": 13,
   "id": "d015dc98-8925-4b9e-82c7-160ad2ee94a1",
   "metadata": {
    "scrolled": true
   },
   "outputs": [],
   "source": [
    "ev_it = events_dfs['events_Italy'].copy()"
   ]
  },
  {
   "cell_type": "code",
   "execution_count": 14,
   "id": "9143b9a8-cc20-43a4-8335-601c11f50c38",
   "metadata": {},
   "outputs": [
    {
     "data": {
      "text/html": [
       "<div>\n",
       "<style scoped>\n",
       "    .dataframe tbody tr th:only-of-type {\n",
       "        vertical-align: middle;\n",
       "    }\n",
       "\n",
       "    .dataframe tbody tr th {\n",
       "        vertical-align: top;\n",
       "    }\n",
       "\n",
       "    .dataframe thead th {\n",
       "        text-align: right;\n",
       "    }\n",
       "</style>\n",
       "<table border=\"1\" class=\"dataframe\">\n",
       "  <thead>\n",
       "    <tr style=\"text-align: right;\">\n",
       "      <th></th>\n",
       "      <th>eventId</th>\n",
       "      <th>subEventName</th>\n",
       "      <th>tags</th>\n",
       "      <th>playerId</th>\n",
       "      <th>positions</th>\n",
       "      <th>matchId</th>\n",
       "      <th>eventName</th>\n",
       "      <th>teamId</th>\n",
       "      <th>matchPeriod</th>\n",
       "      <th>eventSec</th>\n",
       "      <th>subEventId</th>\n",
       "      <th>id</th>\n",
       "    </tr>\n",
       "  </thead>\n",
       "  <tbody>\n",
       "    <tr>\n",
       "      <th>0</th>\n",
       "      <td>8</td>\n",
       "      <td>Simple pass</td>\n",
       "      <td>[{'id': 1801}]</td>\n",
       "      <td>8327</td>\n",
       "      <td>[{'y': 52, 'x': 49}, {'y': 44, 'x': 43}]</td>\n",
       "      <td>2575959</td>\n",
       "      <td>Pass</td>\n",
       "      <td>3158</td>\n",
       "      <td>1H</td>\n",
       "      <td>2.530536</td>\n",
       "      <td>85</td>\n",
       "      <td>180423957</td>\n",
       "    </tr>\n",
       "    <tr>\n",
       "      <th>1</th>\n",
       "      <td>8</td>\n",
       "      <td>Simple pass</td>\n",
       "      <td>[{'id': 1801}]</td>\n",
       "      <td>20438</td>\n",
       "      <td>[{'y': 44, 'x': 43}, {'y': 17, 'x': 36}]</td>\n",
       "      <td>2575959</td>\n",
       "      <td>Pass</td>\n",
       "      <td>3158</td>\n",
       "      <td>1H</td>\n",
       "      <td>3.768418</td>\n",
       "      <td>85</td>\n",
       "      <td>180423958</td>\n",
       "    </tr>\n",
       "    <tr>\n",
       "      <th>2</th>\n",
       "      <td>7</td>\n",
       "      <td>Touch</td>\n",
       "      <td>[]</td>\n",
       "      <td>8306</td>\n",
       "      <td>[{'y': 17, 'x': 36}, {'y': 56, 'x': 78}]</td>\n",
       "      <td>2575959</td>\n",
       "      <td>Others on the ball</td>\n",
       "      <td>3158</td>\n",
       "      <td>1H</td>\n",
       "      <td>4.868265</td>\n",
       "      <td>72</td>\n",
       "      <td>180423959</td>\n",
       "    </tr>\n",
       "  </tbody>\n",
       "</table>\n",
       "</div>"
      ],
      "text/plain": [
       "   eventId subEventName            tags  playerId  \\\n",
       "0        8  Simple pass  [{'id': 1801}]      8327   \n",
       "1        8  Simple pass  [{'id': 1801}]     20438   \n",
       "2        7        Touch              []      8306   \n",
       "\n",
       "                                  positions  matchId           eventName  \\\n",
       "0  [{'y': 52, 'x': 49}, {'y': 44, 'x': 43}]  2575959                Pass   \n",
       "1  [{'y': 44, 'x': 43}, {'y': 17, 'x': 36}]  2575959                Pass   \n",
       "2  [{'y': 17, 'x': 36}, {'y': 56, 'x': 78}]  2575959  Others on the ball   \n",
       "\n",
       "   teamId matchPeriod  eventSec subEventId         id  \n",
       "0    3158          1H  2.530536         85  180423957  \n",
       "1    3158          1H  3.768418         85  180423958  \n",
       "2    3158          1H  4.868265         72  180423959  "
      ]
     },
     "execution_count": 14,
     "metadata": {},
     "output_type": "execute_result"
    }
   ],
   "source": [
    "ev_it.head(3)"
   ]
  },
  {
   "cell_type": "code",
   "execution_count": 15,
   "id": "1b02b114-19f7-430b-b343-03587e5c7296",
   "metadata": {
    "scrolled": true
   },
   "outputs": [
    {
     "data": {
      "text/html": [
       "<div>\n",
       "<style scoped>\n",
       "    .dataframe tbody tr th:only-of-type {\n",
       "        vertical-align: middle;\n",
       "    }\n",
       "\n",
       "    .dataframe tbody tr th {\n",
       "        vertical-align: top;\n",
       "    }\n",
       "\n",
       "    .dataframe thead th {\n",
       "        text-align: right;\n",
       "    }\n",
       "</style>\n",
       "<table border=\"1\" class=\"dataframe\">\n",
       "  <thead>\n",
       "    <tr style=\"text-align: right;\">\n",
       "      <th></th>\n",
       "      <th>event</th>\n",
       "      <th>subevent</th>\n",
       "      <th>event_label</th>\n",
       "      <th>subevent_label</th>\n",
       "    </tr>\n",
       "  </thead>\n",
       "  <tbody>\n",
       "    <tr>\n",
       "      <th>26</th>\n",
       "      <td>8</td>\n",
       "      <td>80</td>\n",
       "      <td>Pass</td>\n",
       "      <td>Cross</td>\n",
       "    </tr>\n",
       "    <tr>\n",
       "      <th>27</th>\n",
       "      <td>8</td>\n",
       "      <td>81</td>\n",
       "      <td>Pass</td>\n",
       "      <td>Hand pass</td>\n",
       "    </tr>\n",
       "    <tr>\n",
       "      <th>28</th>\n",
       "      <td>8</td>\n",
       "      <td>82</td>\n",
       "      <td>Pass</td>\n",
       "      <td>Head pass</td>\n",
       "    </tr>\n",
       "  </tbody>\n",
       "</table>\n",
       "</div>"
      ],
      "text/plain": [
       "    event  subevent event_label subevent_label\n",
       "26      8        80        Pass          Cross\n",
       "27      8        81        Pass      Hand pass\n",
       "28      8        82        Pass      Head pass"
      ]
     },
     "execution_count": 15,
     "metadata": {},
     "output_type": "execute_result"
    }
   ],
   "source": [
    "tags_dfs['eventid2name'][tags_dfs['eventid2name']['event'].isin([8,10])].head(3)"
   ]
  },
  {
   "cell_type": "markdown",
   "id": "f37fed58-a624-47aa-801a-3938e32a75dd",
   "metadata": {},
   "source": [
    "## Playerank dataset"
   ]
  },
  {
   "cell_type": "code",
   "execution_count": 16,
   "id": "7a73a2b5-ec43-4d3b-a4c1-5c06f7d754a0",
   "metadata": {},
   "outputs": [
    {
     "data": {
      "text/html": [
       "<div>\n",
       "<style scoped>\n",
       "    .dataframe tbody tr th:only-of-type {\n",
       "        vertical-align: middle;\n",
       "    }\n",
       "\n",
       "    .dataframe tbody tr th {\n",
       "        vertical-align: top;\n",
       "    }\n",
       "\n",
       "    .dataframe thead th {\n",
       "        text-align: right;\n",
       "    }\n",
       "</style>\n",
       "<table border=\"1\" class=\"dataframe\">\n",
       "  <thead>\n",
       "    <tr style=\"text-align: right;\">\n",
       "      <th></th>\n",
       "      <th>goalScored</th>\n",
       "      <th>playerankScore</th>\n",
       "      <th>matchId</th>\n",
       "      <th>playerId</th>\n",
       "      <th>roleCluster</th>\n",
       "      <th>minutesPlayed</th>\n",
       "    </tr>\n",
       "  </thead>\n",
       "  <tbody>\n",
       "    <tr>\n",
       "      <th>0</th>\n",
       "      <td>0</td>\n",
       "      <td>0.0053</td>\n",
       "      <td>2057991</td>\n",
       "      <td>10014</td>\n",
       "      <td>right CB</td>\n",
       "      <td>90</td>\n",
       "    </tr>\n",
       "    <tr>\n",
       "      <th>1</th>\n",
       "      <td>0</td>\n",
       "      <td>0.0009</td>\n",
       "      <td>2057992</td>\n",
       "      <td>10014</td>\n",
       "      <td>right CB</td>\n",
       "      <td>41</td>\n",
       "    </tr>\n",
       "    <tr>\n",
       "      <th>2</th>\n",
       "      <td>0</td>\n",
       "      <td>-0.0013</td>\n",
       "      <td>2057998</td>\n",
       "      <td>100140</td>\n",
       "      <td>central MF</td>\n",
       "      <td>90</td>\n",
       "    </tr>\n",
       "  </tbody>\n",
       "</table>\n",
       "</div>"
      ],
      "text/plain": [
       "   goalScored  playerankScore  matchId  playerId roleCluster  minutesPlayed\n",
       "0           0          0.0053  2057991     10014    right CB             90\n",
       "1           0          0.0009  2057992     10014    right CB             41\n",
       "2           0         -0.0013  2057998    100140  central MF             90"
      ]
     },
     "execution_count": 16,
     "metadata": {},
     "output_type": "execute_result"
    }
   ],
   "source": [
    "other_dfs['playerank'].head(3)"
   ]
  },
  {
   "cell_type": "code",
   "execution_count": 17,
   "id": "bae83396-e808-4968-89eb-ce85fe1dceb8",
   "metadata": {},
   "outputs": [
    {
     "data": {
      "text/html": [
       "<div>\n",
       "<style scoped>\n",
       "    .dataframe tbody tr th:only-of-type {\n",
       "        vertical-align: middle;\n",
       "    }\n",
       "\n",
       "    .dataframe tbody tr th {\n",
       "        vertical-align: top;\n",
       "    }\n",
       "\n",
       "    .dataframe thead th {\n",
       "        text-align: right;\n",
       "    }\n",
       "</style>\n",
       "<table border=\"1\" class=\"dataframe\">\n",
       "  <thead>\n",
       "    <tr style=\"text-align: right;\">\n",
       "      <th></th>\n",
       "      <th>goalScored</th>\n",
       "      <th>playerankScore</th>\n",
       "      <th>matchId</th>\n",
       "      <th>playerId</th>\n",
       "      <th>roleCluster</th>\n",
       "      <th>minutesPlayed</th>\n",
       "    </tr>\n",
       "  </thead>\n",
       "  <tbody>\n",
       "    <tr>\n",
       "      <th>22039</th>\n",
       "      <td>0</td>\n",
       "      <td>0.0125</td>\n",
       "      <td>2576025</td>\n",
       "      <td>263591</td>\n",
       "      <td>central MF</td>\n",
       "      <td>34</td>\n",
       "    </tr>\n",
       "    <tr>\n",
       "      <th>22040</th>\n",
       "      <td>0</td>\n",
       "      <td>-0.0085</td>\n",
       "      <td>2576126</td>\n",
       "      <td>263591</td>\n",
       "      <td>right MF</td>\n",
       "      <td>19</td>\n",
       "    </tr>\n",
       "    <tr>\n",
       "      <th>22041</th>\n",
       "      <td>0</td>\n",
       "      <td>-0.0102</td>\n",
       "      <td>2576164</td>\n",
       "      <td>263591</td>\n",
       "      <td>right FW</td>\n",
       "      <td>28</td>\n",
       "    </tr>\n",
       "  </tbody>\n",
       "</table>\n",
       "</div>"
      ],
      "text/plain": [
       "       goalScored  playerankScore  matchId  playerId roleCluster  \\\n",
       "22039           0          0.0125  2576025    263591  central MF   \n",
       "22040           0         -0.0085  2576126    263591    right MF   \n",
       "22041           0         -0.0102  2576164    263591    right FW   \n",
       "\n",
       "       minutesPlayed  \n",
       "22039             34  \n",
       "22040             19  \n",
       "22041             28  "
      ]
     },
     "execution_count": 17,
     "metadata": {},
     "output_type": "execute_result"
    }
   ],
   "source": [
    "other_dfs['playerank'][other_dfs['playerank']['playerId']==263591].head(3)"
   ]
  },
  {
   "cell_type": "markdown",
   "id": "8870d139-c8ba-4fb3-b977-7c59f0b30064",
   "metadata": {},
   "source": [
    "## Competitions dataset"
   ]
  },
  {
   "cell_type": "code",
   "execution_count": 18,
   "id": "bb0474bd-b37e-40c7-b2c6-acb0882e32dc",
   "metadata": {},
   "outputs": [
    {
     "data": {
      "text/html": [
       "<div>\n",
       "<style scoped>\n",
       "    .dataframe tbody tr th:only-of-type {\n",
       "        vertical-align: middle;\n",
       "    }\n",
       "\n",
       "    .dataframe tbody tr th {\n",
       "        vertical-align: top;\n",
       "    }\n",
       "\n",
       "    .dataframe thead th {\n",
       "        text-align: right;\n",
       "    }\n",
       "</style>\n",
       "<table border=\"1\" class=\"dataframe\">\n",
       "  <thead>\n",
       "    <tr style=\"text-align: right;\">\n",
       "      <th></th>\n",
       "      <th>name</th>\n",
       "      <th>wyId</th>\n",
       "      <th>format</th>\n",
       "      <th>type</th>\n",
       "    </tr>\n",
       "  </thead>\n",
       "  <tbody>\n",
       "    <tr>\n",
       "      <th>0</th>\n",
       "      <td>Italian first division</td>\n",
       "      <td>524</td>\n",
       "      <td>Domestic league</td>\n",
       "      <td>club</td>\n",
       "    </tr>\n",
       "    <tr>\n",
       "      <th>1</th>\n",
       "      <td>English first division</td>\n",
       "      <td>364</td>\n",
       "      <td>Domestic league</td>\n",
       "      <td>club</td>\n",
       "    </tr>\n",
       "    <tr>\n",
       "      <th>2</th>\n",
       "      <td>Spanish first division</td>\n",
       "      <td>795</td>\n",
       "      <td>Domestic league</td>\n",
       "      <td>club</td>\n",
       "    </tr>\n",
       "  </tbody>\n",
       "</table>\n",
       "</div>"
      ],
      "text/plain": [
       "                     name  wyId           format  type\n",
       "0  Italian first division   524  Domestic league  club\n",
       "1  English first division   364  Domestic league  club\n",
       "2  Spanish first division   795  Domestic league  club"
      ]
     },
     "execution_count": 18,
     "metadata": {},
     "output_type": "execute_result"
    }
   ],
   "source": [
    "other_dfs['competitions'][['name','wyId', 'format', 'type']].head(3)"
   ]
  },
  {
   "cell_type": "markdown",
   "id": "493c36b3-303c-468c-8fb4-da29cfd3c888",
   "metadata": {},
   "source": [
    "## Teams dataset"
   ]
  },
  {
   "cell_type": "code",
   "execution_count": 19,
   "id": "88654119-78d0-442f-9434-ac881efb1434",
   "metadata": {},
   "outputs": [
    {
     "data": {
      "text/html": [
       "<div>\n",
       "<style scoped>\n",
       "    .dataframe tbody tr th:only-of-type {\n",
       "        vertical-align: middle;\n",
       "    }\n",
       "\n",
       "    .dataframe tbody tr th {\n",
       "        vertical-align: top;\n",
       "    }\n",
       "\n",
       "    .dataframe thead th {\n",
       "        text-align: right;\n",
       "    }\n",
       "</style>\n",
       "<table border=\"1\" class=\"dataframe\">\n",
       "  <thead>\n",
       "    <tr style=\"text-align: right;\">\n",
       "      <th></th>\n",
       "      <th>city</th>\n",
       "      <th>name</th>\n",
       "      <th>wyId</th>\n",
       "      <th>officialName</th>\n",
       "      <th>area</th>\n",
       "      <th>type</th>\n",
       "    </tr>\n",
       "  </thead>\n",
       "  <tbody>\n",
       "    <tr>\n",
       "      <th>0</th>\n",
       "      <td>Newcastle upon Tyne</td>\n",
       "      <td>Newcastle United</td>\n",
       "      <td>1613</td>\n",
       "      <td>Newcastle United FC</td>\n",
       "      <td>{'name': 'England', 'id': '0', 'alpha3code': '...</td>\n",
       "      <td>club</td>\n",
       "    </tr>\n",
       "    <tr>\n",
       "      <th>1</th>\n",
       "      <td>Vigo</td>\n",
       "      <td>Celta de Vigo</td>\n",
       "      <td>692</td>\n",
       "      <td>Real Club Celta de Vigo</td>\n",
       "      <td>{'name': 'Spain', 'id': '724', 'alpha3code': '...</td>\n",
       "      <td>club</td>\n",
       "    </tr>\n",
       "  </tbody>\n",
       "</table>\n",
       "</div>"
      ],
      "text/plain": [
       "                  city              name  wyId             officialName  \\\n",
       "0  Newcastle upon Tyne  Newcastle United  1613      Newcastle United FC   \n",
       "1                 Vigo     Celta de Vigo   692  Real Club Celta de Vigo   \n",
       "\n",
       "                                                area  type  \n",
       "0  {'name': 'England', 'id': '0', 'alpha3code': '...  club  \n",
       "1  {'name': 'Spain', 'id': '724', 'alpha3code': '...  club  "
      ]
     },
     "execution_count": 19,
     "metadata": {},
     "output_type": "execute_result"
    }
   ],
   "source": [
    "teams = other_dfs['teams']#[['name', 'wyId']]\n",
    "teams.head(2)"
   ]
  },
  {
   "cell_type": "markdown",
   "id": "cb9497cc-f0d3-4a17-be11-f85bce30ac1e",
   "metadata": {},
   "source": [
    "## Players dataset"
   ]
  },
  {
   "cell_type": "code",
   "execution_count": 20,
   "id": "9f003a44-7eaf-43e5-a5a1-73712e0e8337",
   "metadata": {},
   "outputs": [
    {
     "data": {
      "text/html": [
       "<div>\n",
       "<style scoped>\n",
       "    .dataframe tbody tr th:only-of-type {\n",
       "        vertical-align: middle;\n",
       "    }\n",
       "\n",
       "    .dataframe tbody tr th {\n",
       "        vertical-align: top;\n",
       "    }\n",
       "\n",
       "    .dataframe thead th {\n",
       "        text-align: right;\n",
       "    }\n",
       "</style>\n",
       "<table border=\"1\" class=\"dataframe\">\n",
       "  <thead>\n",
       "    <tr style=\"text-align: right;\">\n",
       "      <th></th>\n",
       "      <th>firstName</th>\n",
       "      <th>lastName</th>\n",
       "      <th>currentTeamId</th>\n",
       "      <th>birthDate</th>\n",
       "      <th>role</th>\n",
       "      <th>wyId</th>\n",
       "      <th>currentNationalTeamId</th>\n",
       "    </tr>\n",
       "  </thead>\n",
       "  <tbody>\n",
       "    <tr>\n",
       "      <th>0</th>\n",
       "      <td>Harun</td>\n",
       "      <td>Tekin</td>\n",
       "      <td>4502</td>\n",
       "      <td>1989-06-17</td>\n",
       "      <td>{'code2': 'GK', 'code3': 'GKP', 'name': 'Goalk...</td>\n",
       "      <td>32777</td>\n",
       "      <td>4687</td>\n",
       "    </tr>\n",
       "    <tr>\n",
       "      <th>1</th>\n",
       "      <td>Malang</td>\n",
       "      <td>Sarr</td>\n",
       "      <td>3775</td>\n",
       "      <td>1999-01-23</td>\n",
       "      <td>{'code2': 'DF', 'code3': 'DEF', 'name': 'Defen...</td>\n",
       "      <td>393228</td>\n",
       "      <td>4423</td>\n",
       "    </tr>\n",
       "    <tr>\n",
       "      <th>2</th>\n",
       "      <td>Over</td>\n",
       "      <td>Mandanda</td>\n",
       "      <td>3772</td>\n",
       "      <td>1998-10-26</td>\n",
       "      <td>{'code2': 'GK', 'code3': 'GKP', 'name': 'Goalk...</td>\n",
       "      <td>393230</td>\n",
       "      <td>null</td>\n",
       "    </tr>\n",
       "  </tbody>\n",
       "</table>\n",
       "</div>"
      ],
      "text/plain": [
       "  firstName  lastName currentTeamId   birthDate  \\\n",
       "0     Harun     Tekin          4502  1989-06-17   \n",
       "1    Malang      Sarr          3775  1999-01-23   \n",
       "2      Over  Mandanda          3772  1998-10-26   \n",
       "\n",
       "                                                role    wyId  \\\n",
       "0  {'code2': 'GK', 'code3': 'GKP', 'name': 'Goalk...   32777   \n",
       "1  {'code2': 'DF', 'code3': 'DEF', 'name': 'Defen...  393228   \n",
       "2  {'code2': 'GK', 'code3': 'GKP', 'name': 'Goalk...  393230   \n",
       "\n",
       "  currentNationalTeamId  \n",
       "0                  4687  \n",
       "1                  4423  \n",
       "2                  null  "
      ]
     },
     "execution_count": 20,
     "metadata": {},
     "output_type": "execute_result"
    }
   ],
   "source": [
    "other_dfs['players'][['firstName', 'lastName', 'currentTeamId', 'birthDate', 'role', 'wyId', 'currentNationalTeamId']].head(3)"
   ]
  },
  {
   "cell_type": "markdown",
   "id": "2b3bb165-1657-4af5-b780-a9be02211086",
   "metadata": {},
   "source": [
    "## Elo dataset"
   ]
  },
  {
   "cell_type": "code",
   "execution_count": 21,
   "id": "84d85b57-6170-4f71-958d-103bd2d23b80",
   "metadata": {},
   "outputs": [
    {
     "data": {
      "text/html": [
       "<pre style=\"white-space:pre;overflow-x:auto;line-height:normal;font-family:Menlo,'DejaVu Sans Mono',consolas,'Courier New',monospace\"><span style=\"color: #7fbfbf; text-decoration-color: #7fbfbf\">[09/07/23 16:46:15] </span><span style=\"color: #000080; text-decoration-color: #000080\">INFO    </span> Saving cached data to <span style=\"color: #800080; text-decoration-color: #800080\">/root/soccerdata/data/</span><span style=\"color: #ff00ff; text-decoration-color: #ff00ff\">ClubElo</span>                      <a href=\"file:///root/.pyenv/versions/3.10.6/envs/goalguru/lib/python3.10/site-packages/soccerdata/_common.py\" target=\"_blank\"><span style=\"color: #7f7f7f; text-decoration-color: #7f7f7f\">_common.py</span></a><span style=\"color: #7f7f7f; text-decoration-color: #7f7f7f\">:</span><a href=\"file:///root/.pyenv/versions/3.10.6/envs/goalguru/lib/python3.10/site-packages/soccerdata/_common.py#89\" target=\"_blank\"><span style=\"color: #7f7f7f; text-decoration-color: #7f7f7f\">89</span></a>\n",
       "</pre>\n"
      ],
      "text/plain": [
       "\u001b[2;36m[09/07/23 16:46:15]\u001b[0m\u001b[2;36m \u001b[0m\u001b[34mINFO    \u001b[0m Saving cached data to \u001b[35m/root/soccerdata/data/\u001b[0m\u001b[95mClubElo\u001b[0m                      \u001b]8;id=889545;file:///root/.pyenv/versions/3.10.6/envs/goalguru/lib/python3.10/site-packages/soccerdata/_common.py\u001b\\\u001b[2m_common.py\u001b[0m\u001b]8;;\u001b\\\u001b[2m:\u001b[0m\u001b]8;id=903092;file:///root/.pyenv/versions/3.10.6/envs/goalguru/lib/python3.10/site-packages/soccerdata/_common.py#89\u001b\\\u001b[2m89\u001b[0m\u001b]8;;\u001b\\\n"
      ]
     },
     "metadata": {},
     "output_type": "display_data"
    }
   ],
   "source": [
    "elo = sd.ClubElo()"
   ]
  },
  {
   "cell_type": "code",
   "execution_count": 22,
   "id": "bca4306e-7532-44e2-af45-d344f1c2e267",
   "metadata": {},
   "outputs": [
    {
     "name": "stderr",
     "output_type": "stream",
     "text": [
      "/root/.pyenv/versions/3.10.6/envs/goalguru/lib/python3.10/site-packages/soccerdata/clubelo.py:18: FutureWarning: The argument 'infer_datetime_format' is deprecated and will be removed in a future version. A strict version of it is now the default, see https://pandas.pydata.org/pdeps/0004-consistent-to-datetime-parsing.html. You can safely remove this argument.\n",
      "  return pd.read_csv(\n"
     ]
    },
    {
     "data": {
      "text/html": [
       "<div>\n",
       "<style scoped>\n",
       "    .dataframe tbody tr th:only-of-type {\n",
       "        vertical-align: middle;\n",
       "    }\n",
       "\n",
       "    .dataframe tbody tr th {\n",
       "        vertical-align: top;\n",
       "    }\n",
       "\n",
       "    .dataframe thead th {\n",
       "        text-align: right;\n",
       "    }\n",
       "</style>\n",
       "<table border=\"1\" class=\"dataframe\">\n",
       "  <thead>\n",
       "    <tr style=\"text-align: right;\">\n",
       "      <th></th>\n",
       "      <th>rank</th>\n",
       "      <th>team</th>\n",
       "      <th>country</th>\n",
       "      <th>level</th>\n",
       "      <th>elo</th>\n",
       "      <th>to</th>\n",
       "    </tr>\n",
       "    <tr>\n",
       "      <th>from</th>\n",
       "      <th></th>\n",
       "      <th></th>\n",
       "      <th></th>\n",
       "      <th></th>\n",
       "      <th></th>\n",
       "      <th></th>\n",
       "    </tr>\n",
       "  </thead>\n",
       "  <tbody>\n",
       "    <tr>\n",
       "      <th>1946-07-07</th>\n",
       "      <td>NaN</td>\n",
       "      <td>Inter</td>\n",
       "      <td>ITA</td>\n",
       "      <td>1</td>\n",
       "      <td>1722.613037</td>\n",
       "      <td>1946-09-22</td>\n",
       "    </tr>\n",
       "    <tr>\n",
       "      <th>1946-09-23</th>\n",
       "      <td>NaN</td>\n",
       "      <td>Inter</td>\n",
       "      <td>ITA</td>\n",
       "      <td>1</td>\n",
       "      <td>1725.414429</td>\n",
       "      <td>1946-09-29</td>\n",
       "    </tr>\n",
       "  </tbody>\n",
       "</table>\n",
       "</div>"
      ],
      "text/plain": [
       "            rank   team country  level          elo         to\n",
       "from                                                          \n",
       "1946-07-07   NaN  Inter     ITA      1  1722.613037 1946-09-22\n",
       "1946-09-23   NaN  Inter     ITA      1  1725.414429 1946-09-29"
      ]
     },
     "execution_count": 22,
     "metadata": {},
     "output_type": "execute_result"
    }
   ],
   "source": [
    "elo.read_team_history('Inter').head(2)"
   ]
  },
  {
   "cell_type": "markdown",
   "id": "f03d7cf2-5c95-4c84-a21e-aaa78668dbf4",
   "metadata": {},
   "source": [
    "## Matches dataset"
   ]
  },
  {
   "cell_type": "code",
   "execution_count": 23,
   "id": "d1401bbe-853e-40d6-b57c-14ffe1451fc7",
   "metadata": {},
   "outputs": [],
   "source": [
    "match_features = ['teamsData','seasonId', 'dateutc', 'winner', 'wyId', 'competitionId']"
   ]
  },
  {
   "cell_type": "code",
   "execution_count": 24,
   "id": "8a1ea6a0-7c29-4c1c-8cb4-8a6569e78403",
   "metadata": {},
   "outputs": [
    {
     "data": {
      "text/html": [
       "<div>\n",
       "<style scoped>\n",
       "    .dataframe tbody tr th:only-of-type {\n",
       "        vertical-align: middle;\n",
       "    }\n",
       "\n",
       "    .dataframe tbody tr th {\n",
       "        vertical-align: top;\n",
       "    }\n",
       "\n",
       "    .dataframe thead th {\n",
       "        text-align: right;\n",
       "    }\n",
       "</style>\n",
       "<table border=\"1\" class=\"dataframe\">\n",
       "  <thead>\n",
       "    <tr style=\"text-align: right;\">\n",
       "      <th></th>\n",
       "      <th>status</th>\n",
       "      <th>roundId</th>\n",
       "      <th>gameweek</th>\n",
       "      <th>teamsData</th>\n",
       "      <th>seasonId</th>\n",
       "      <th>dateutc</th>\n",
       "      <th>winner</th>\n",
       "      <th>venue</th>\n",
       "      <th>wyId</th>\n",
       "      <th>label</th>\n",
       "      <th>date</th>\n",
       "      <th>referees</th>\n",
       "      <th>duration</th>\n",
       "      <th>competitionId</th>\n",
       "    </tr>\n",
       "  </thead>\n",
       "  <tbody>\n",
       "    <tr>\n",
       "      <th>0</th>\n",
       "      <td>Played</td>\n",
       "      <td>4406278</td>\n",
       "      <td>38</td>\n",
       "      <td>{'3162': {'scoreET': 0, 'coachId': 251025, 'si...</td>\n",
       "      <td>181248</td>\n",
       "      <td>2018-05-20 18:45:00</td>\n",
       "      <td>3161</td>\n",
       "      <td></td>\n",
       "      <td>2576335</td>\n",
       "      <td>Lazio - Internazionale, 2 - 3</td>\n",
       "      <td>May 20, 2018 at 8:45:00 PM GMT+2</td>\n",
       "      <td>[{'refereeId': 377206, 'role': 'referee'}, {'r...</td>\n",
       "      <td>Regular</td>\n",
       "      <td>524</td>\n",
       "    </tr>\n",
       "    <tr>\n",
       "      <th>1</th>\n",
       "      <td>Played</td>\n",
       "      <td>4406278</td>\n",
       "      <td>38</td>\n",
       "      <td>{'3158': {'scoreET': 0, 'coachId': 210119, 'si...</td>\n",
       "      <td>181248</td>\n",
       "      <td>2018-05-20 18:45:00</td>\n",
       "      <td>3158</td>\n",
       "      <td>MAPEI Stadium - Citt\\u00e0 del Tricolore</td>\n",
       "      <td>2576336</td>\n",
       "      <td>Sassuolo - Roma, 0 - 1</td>\n",
       "      <td>May 20, 2018 at 8:45:00 PM GMT+2</td>\n",
       "      <td>[{'refereeId': 377255, 'role': 'referee'}, {'r...</td>\n",
       "      <td>Regular</td>\n",
       "      <td>524</td>\n",
       "    </tr>\n",
       "    <tr>\n",
       "      <th>2</th>\n",
       "      <td>Played</td>\n",
       "      <td>4406278</td>\n",
       "      <td>38</td>\n",
       "      <td>{'3173': {'scoreET': 0, 'coachId': 251044, 'si...</td>\n",
       "      <td>181248</td>\n",
       "      <td>2018-05-20 16:00:00</td>\n",
       "      <td>3173</td>\n",
       "      <td></td>\n",
       "      <td>2576329</td>\n",
       "      <td>Cagliari - Atalanta, 1 - 0</td>\n",
       "      <td>May 20, 2018 at 6:00:00 PM GMT+2</td>\n",
       "      <td>[{'refereeId': 377247, 'role': 'referee'}, {'r...</td>\n",
       "      <td>Regular</td>\n",
       "      <td>524</td>\n",
       "    </tr>\n",
       "  </tbody>\n",
       "</table>\n",
       "</div>"
      ],
      "text/plain": [
       "   status  roundId  gameweek  \\\n",
       "0  Played  4406278        38   \n",
       "1  Played  4406278        38   \n",
       "2  Played  4406278        38   \n",
       "\n",
       "                                           teamsData  seasonId  \\\n",
       "0  {'3162': {'scoreET': 0, 'coachId': 251025, 'si...    181248   \n",
       "1  {'3158': {'scoreET': 0, 'coachId': 210119, 'si...    181248   \n",
       "2  {'3173': {'scoreET': 0, 'coachId': 251044, 'si...    181248   \n",
       "\n",
       "               dateutc  winner                                     venue  \\\n",
       "0  2018-05-20 18:45:00    3161                                             \n",
       "1  2018-05-20 18:45:00    3158  MAPEI Stadium - Citt\\u00e0 del Tricolore   \n",
       "2  2018-05-20 16:00:00    3173                                             \n",
       "\n",
       "      wyId                          label                              date  \\\n",
       "0  2576335  Lazio - Internazionale, 2 - 3  May 20, 2018 at 8:45:00 PM GMT+2   \n",
       "1  2576336         Sassuolo - Roma, 0 - 1  May 20, 2018 at 8:45:00 PM GMT+2   \n",
       "2  2576329     Cagliari - Atalanta, 1 - 0  May 20, 2018 at 6:00:00 PM GMT+2   \n",
       "\n",
       "                                            referees duration  competitionId  \n",
       "0  [{'refereeId': 377206, 'role': 'referee'}, {'r...  Regular            524  \n",
       "1  [{'refereeId': 377255, 'role': 'referee'}, {'r...  Regular            524  \n",
       "2  [{'refereeId': 377247, 'role': 'referee'}, {'r...  Regular            524  "
      ]
     },
     "execution_count": 24,
     "metadata": {},
     "output_type": "execute_result"
    }
   ],
   "source": [
    "pd.DataFrame(matches_dfs['matches_Italy']).head(3)"
   ]
  },
  {
   "cell_type": "code",
   "execution_count": 25,
   "id": "ca561887-a6cd-4267-a0b2-ad1d6bde27ed",
   "metadata": {},
   "outputs": [
    {
     "data": {
      "text/html": [
       "<div>\n",
       "<style scoped>\n",
       "    .dataframe tbody tr th:only-of-type {\n",
       "        vertical-align: middle;\n",
       "    }\n",
       "\n",
       "    .dataframe tbody tr th {\n",
       "        vertical-align: top;\n",
       "    }\n",
       "\n",
       "    .dataframe thead th {\n",
       "        text-align: right;\n",
       "    }\n",
       "</style>\n",
       "<table border=\"1\" class=\"dataframe\">\n",
       "  <thead>\n",
       "    <tr style=\"text-align: right;\">\n",
       "      <th></th>\n",
       "      <th>teamsData</th>\n",
       "      <th>seasonId</th>\n",
       "      <th>dateutc</th>\n",
       "      <th>winner</th>\n",
       "      <th>matchId</th>\n",
       "      <th>competitionId</th>\n",
       "    </tr>\n",
       "  </thead>\n",
       "  <tbody>\n",
       "    <tr>\n",
       "      <th>0</th>\n",
       "      <td>{'3162': {'scoreET': 0, 'coachId': 251025, 'si...</td>\n",
       "      <td>181248</td>\n",
       "      <td>2018-05-20 18:45:00</td>\n",
       "      <td>3161</td>\n",
       "      <td>2576335</td>\n",
       "      <td>524</td>\n",
       "    </tr>\n",
       "    <tr>\n",
       "      <th>1</th>\n",
       "      <td>{'3158': {'scoreET': 0, 'coachId': 210119, 'si...</td>\n",
       "      <td>181248</td>\n",
       "      <td>2018-05-20 18:45:00</td>\n",
       "      <td>3158</td>\n",
       "      <td>2576336</td>\n",
       "      <td>524</td>\n",
       "    </tr>\n",
       "    <tr>\n",
       "      <th>2</th>\n",
       "      <td>{'3173': {'scoreET': 0, 'coachId': 251044, 'si...</td>\n",
       "      <td>181248</td>\n",
       "      <td>2018-05-20 16:00:00</td>\n",
       "      <td>3173</td>\n",
       "      <td>2576329</td>\n",
       "      <td>524</td>\n",
       "    </tr>\n",
       "  </tbody>\n",
       "</table>\n",
       "</div>"
      ],
      "text/plain": [
       "                                           teamsData  seasonId  \\\n",
       "0  {'3162': {'scoreET': 0, 'coachId': 251025, 'si...    181248   \n",
       "1  {'3158': {'scoreET': 0, 'coachId': 210119, 'si...    181248   \n",
       "2  {'3173': {'scoreET': 0, 'coachId': 251044, 'si...    181248   \n",
       "\n",
       "               dateutc  winner  matchId  competitionId  \n",
       "0  2018-05-20 18:45:00    3161  2576335            524  \n",
       "1  2018-05-20 18:45:00    3158  2576336            524  \n",
       "2  2018-05-20 16:00:00    3173  2576329            524  "
      ]
     },
     "execution_count": 25,
     "metadata": {},
     "output_type": "execute_result"
    }
   ],
   "source": [
    "italy_games = pd.DataFrame(matches_dfs['matches_Italy'])[match_features]\n",
    "italy_games.rename(columns = {'wyId':'matchId'}, inplace = True)\n",
    "italy_games.head(3)"
   ]
  },
  {
   "cell_type": "markdown",
   "id": "2c02956e-7a82-424f-b8d8-58369109710b",
   "metadata": {},
   "source": [
    "# Preprocessing functions"
   ]
  },
  {
   "cell_type": "code",
   "execution_count": 26,
   "id": "17cb0a30-c8bb-4090-b596-6b4d20de496a",
   "metadata": {},
   "outputs": [],
   "source": [
    "def accurate_not_accurate(events):\n",
    "    events_df = events[events['eventId'].isin([8,10])].reset_index().copy()\n",
    "    accurate = []\n",
    "    for index, row in events_df.iterrows():\n",
    "        list = [events_df['tags'].iloc[index][i]['id'] for i in range(len(events_df['tags'].iloc[index]))]\n",
    "        if 1801 in list:\n",
    "            accurate.append(1)\n",
    "        elif 1802 in list:\n",
    "            accurate.append(0)\n",
    "        else:\n",
    "            accurate.append(None)\n",
    "    events_df['accurate'] = accurate\n",
    "    events_df = events_df.drop(columns = ['tags','index'])\n",
    "    return events_df"
   ]
  },
  {
   "cell_type": "code",
   "execution_count": 27,
   "id": "ee24ad25-542e-450a-92ba-620b95968b2d",
   "metadata": {},
   "outputs": [],
   "source": [
    "def matches_events(matches,events):\n",
    "    home_passes = []\n",
    "    home_accurate_passes = []\n",
    "    home_shots = []\n",
    "    home_accurate_shots = []\n",
    "\n",
    "    away_passes = []\n",
    "    away_accurate_passes = []\n",
    "    away_shots = []\n",
    "    away_accurate_shots = []\n",
    "\n",
    "    events = events.dropna(subset = ['accurate'])\n",
    "    events.loc[:,'accurate'] = events['accurate'].astype(int)\n",
    "    \n",
    "    condition_shot = (events['eventId']==10)\n",
    "    condition_pass = (events['eventId']==8)\n",
    "    condition_accurate = (events['accurate']==1)\n",
    "\n",
    "    for index,row in matches.iterrows():\n",
    "        match_id = matches['matchId'].loc[index]\n",
    "        home_id = matches['homeId'].loc[index]\n",
    "        away_id = matches['awayId'].loc[index]\n",
    "\n",
    "        condition_match = (events['matchId']==match_id)\n",
    "        condition_home_team = (events['teamId'] == home_id)\n",
    "        condition_away_team = (events['teamId'] == away_id)\n",
    "        try:\n",
    "            home_passes.append(events[condition_match & condition_pass & condition_home_team].groupby('eventId').count()['id'].iloc[0])\n",
    "        except:\n",
    "            home_passes.append(0)\n",
    "        try:\n",
    "            home_accurate_passes.append(events[condition_match & condition_pass & condition_accurate & condition_home_team].groupby('eventId').count()['accurate'].iloc[0])\n",
    "        except:\n",
    "            home_accurate_passes.append(0)\n",
    "        try:\n",
    "            home_shots.append(events[condition_match & condition_shot & condition_home_team].groupby('eventId').count()['id'].iloc[0])\n",
    "        except:\n",
    "            home_shots.append(0)\n",
    "        try:\n",
    "            home_accurate_shots.append(events[condition_match & condition_shot & condition_accurate & condition_home_team].groupby('eventId').count()['accurate'].iloc[0])  \n",
    "        except:\n",
    "            home_accurate_shots.append(0)\n",
    "\n",
    "        try:\n",
    "            away_passes.append(events[condition_match & condition_pass & condition_away_team].groupby('eventId').count()['id'].iloc[0])\n",
    "        except:\n",
    "            away_passes.append(0)\n",
    "        try:\n",
    "            away_accurate_passes.append(events[condition_match & condition_pass & condition_accurate & condition_away_team].groupby('eventId').count()['accurate'].iloc[0])   \n",
    "        except:\n",
    "            away_accurate_passes.append(0)\n",
    "        try:\n",
    "            away_shots.append(events[condition_match & condition_shot & condition_away_team].groupby('eventId').count()['id'].iloc[0])\n",
    "        except:\n",
    "            away_shots.append(0)\n",
    "        try:\n",
    "            away_accurate_shots.append(events[condition_match & condition_shot & condition_accurate & condition_away_team].groupby('eventId').count()['accurate'].iloc[0])\n",
    "        except:\n",
    "            away_accurate_shots.append(0)\n",
    "        \n",
    "    matches['totalHomePasses'], matches['accurateHomePasses'], matches['totalHomeShots'], matches['accurateHomeShots'] = home_passes, home_accurate_passes, home_shots, home_accurate_shots\n",
    "    matches['totalAwayPasses'], matches['accurateAwayPasses'], matches['totalAwayShots'], matches['accurateAwayShots'] = away_passes, away_accurate_passes, away_shots, away_accurate_shots\n",
    "    return matches\n",
    "        "
   ]
  },
  {
   "cell_type": "code",
   "execution_count": 28,
   "id": "43550f09-aca9-4fca-872f-0354bca07e2c",
   "metadata": {},
   "outputs": [],
   "source": [
    "def create_home_away_cols(matches):\n",
    "    home = []\n",
    "    away = []\n",
    "    for index, row in matches.iterrows():\n",
    "        team0 = list(matches.iloc[index].teamsData.keys())[0]\n",
    "        team1 = list(matches.iloc[index].teamsData.keys())[1]\n",
    "        if matches.iloc[index].teamsData[team0]['side'] == 'home':\n",
    "            home.append(team0)\n",
    "            away.append(team1)\n",
    "        else:\n",
    "            home.append(team1)\n",
    "            away.append(team0)\n",
    "    matches['homeId'] = home\n",
    "    matches['homeId'] = matches['homeId'].astype(int)\n",
    "    matches['awayId'] = away\n",
    "    matches['awayId'] = matches['awayId'].astype(int)\n",
    "    return matches"
   ]
  },
  {
   "cell_type": "code",
   "execution_count": 29,
   "id": "ee5abf2a-3787-4571-95c1-d43ab2c92017",
   "metadata": {},
   "outputs": [],
   "source": [
    "def get_home_away_names(matches, teams):\n",
    "    teams = teams[['name', 'wyId']].copy()\n",
    "    matches = matches.merge(teams, left_on = 'homeId', right_on = 'wyId')\n",
    "    matches = matches.rename(columns = {'name' : 'homeTeam'}).drop(columns = 'wyId')\n",
    "    matches = matches.merge(teams, left_on = 'awayId', right_on = 'wyId')\n",
    "    matches = matches.rename(columns = {'name' : 'awayTeam'}).drop(columns = 'wyId')\n",
    "    return matches.sort_values(by = 'dateutc', ascending = False)"
   ]
  },
  {
   "cell_type": "code",
   "execution_count": 30,
   "id": "e1ab580a-0919-4562-a7e0-8817d83f54b2",
   "metadata": {},
   "outputs": [],
   "source": [
    "def get_goals(matches):\n",
    "    home_goals = []\n",
    "    away_goals = []\n",
    "    for index, row in matches.iterrows():\n",
    "        team0 = list(matches.loc[index].teamsData.keys())[0]\n",
    "        team1 = list(matches.loc[index].teamsData.keys())[1]\n",
    "        goals0 = matches.loc[index].teamsData[team0]['score']\n",
    "        goals1 = matches.loc[index].teamsData[team1]['score']\n",
    "        if matches.loc[index].teamsData[team0]['side'] == 'home':\n",
    "            home_goals.append(goals0)\n",
    "            away_goals.append(goals1)\n",
    "        else:\n",
    "            home_goals.append(goals1)\n",
    "            away_goals.append(goals0)\n",
    "    matches['homeScore'] = home_goals\n",
    "    matches['awayScore'] = away_goals\n",
    "    return matches"
   ]
  },
  {
   "cell_type": "code",
   "execution_count": 31,
   "id": "a009ab68-6eab-4910-b8f2-37d9677fe79d",
   "metadata": {},
   "outputs": [],
   "source": [
    "def get_avg_playerank(matches, playerank):\n",
    "    home_avg_ranks = []\n",
    "    away_avg_ranks = []\n",
    "    def calc_avg_scores(players, index):\n",
    "        scores = []\n",
    "        for player in players:           \n",
    "            condition_player = playerank['playerId'] == player\n",
    "            condition_match = playerank['matchId'] == matches.matchId.iloc[index]\n",
    "            try:\n",
    "                player_score = playerank[condition_player & condition_match]['playerankScore'].values[0]\n",
    "                scores.append(player_score)\n",
    "            except:\n",
    "                None\n",
    "        return np.mean(scores)\n",
    "\n",
    "    for index, row in matches.iterrows():\n",
    "        for team in list(matches.teamsData.iloc[index].keys()):\n",
    "            players = []\n",
    "            for dic in matches.teamsData.iloc[index][team]['formation']['lineup']:\n",
    "                    players.append(dic['playerId'])\n",
    "            if matches.iloc[index].teamsData[team]['side'] == 'home':\n",
    "                home_avg_ranks.append(calc_avg_scores(players, index))\n",
    "            else:\n",
    "                away_avg_ranks.append(calc_avg_scores(players, index))\n",
    "    matches['homeTeam_matchRank'] = home_avg_ranks\n",
    "    matches['awayTeam_matchRank'] = away_avg_ranks\n",
    "    matches = matches.drop(columns = 'teamsData')\n",
    "    return matches\n",
    "    \n",
    "        "
   ]
  },
  {
   "cell_type": "code",
   "execution_count": 32,
   "id": "ec99a998-d727-4166-a08d-1270b282c112",
   "metadata": {},
   "outputs": [],
   "source": [
    "def accuracy_features(matches):\n",
    "    matches['homePassAccuracy'] = matches['accurateHomePasses']/matches['totalHomePasses']\n",
    "    matches['homeShotAccuracy'] = matches['accurateHomeShots']/matches['totalHomeShots']\n",
    "\n",
    "    matches['awayPassAccuracy'] = matches['accurateAwayPasses']/matches['totalAwayPasses']\n",
    "    matches['awayShotAccuracy'] = matches['accurateAwayShots']/matches['totalAwayShots']\n",
    "\n",
    "    return matches"
   ]
  },
  {
   "cell_type": "code",
   "execution_count": 33,
   "id": "5237ebea-752b-4787-a33e-20c96f1f4412",
   "metadata": {},
   "outputs": [],
   "source": [
    "def matches_target(matches):\n",
    "    def condition(row):\n",
    "        if row['winner'] == row['homeId']:\n",
    "            return 1\n",
    "        elif row['winner'] == row['awayId']:\n",
    "            return -1\n",
    "        elif row['winner'] == 0:\n",
    "            return 0\n",
    "        else:\n",
    "            return None\n",
    "    matches['homeWins'] = matches.apply(condition, axis = 1)\n",
    "    return matches"
   ]
  },
  {
   "cell_type": "code",
   "execution_count": 34,
   "id": "de8ebec2-a4bd-49db-99fe-eb7a75e3e83d",
   "metadata": {},
   "outputs": [],
   "source": [
    "def get_last_matchranks(matches):\n",
    "    \n",
    "    matches = matches.sort_values(by = 'dateutc', ascending = False).reset_index()\n",
    "\n",
    "    home_avg_matchrank = []\n",
    "    away_avg_matchrank = []\n",
    "\n",
    "    #matches_last_10_games_of_teams\n",
    "    for index,row in matches.iterrows():\n",
    "        #Teams and date\n",
    "        home_id = matches['homeId'].iloc[index]\n",
    "        away_id = matches['awayId'].iloc[index]\n",
    "        date = matches['dateutc'].iloc[index]\n",
    "\n",
    "        #Conditions\n",
    "        condition_home_home = matches['homeId']==home_id\n",
    "        condition_home_away = matches['awayId']==home_id\n",
    "        condition_away_home = matches['homeId']==away_id\n",
    "        condition_away_away = matches['awayId']==away_id\n",
    "        condition_date = matches['dateutc']<date\n",
    "\n",
    "        #Logic\n",
    "        #home\n",
    "        if (matches[(condition_home_home | condition_home_away) & condition_date].head(10).shape[0] < 11) & (matches[(condition_home_home | condition_home_away) & condition_date].head(10).shape[0] > 1):\n",
    "            try:\n",
    "                home_as_home_rank = matches[(condition_home_home | condition_home_away)  & condition_date].head(10).groupby('homeId').agg({'homeTeam_matchRank':'sum'}).loc[home_id,'homeTeam_matchRank']\n",
    "                home_as_away_rank = matches[(condition_home_home | condition_home_away)  & condition_date].head(10).groupby('awayId').agg({'awayTeam_matchRank':'sum'}).loc[home_id,'awayTeam_matchRank']\n",
    "                home_rank = home_as_home_rank + home_as_away_rank\n",
    "                avg_home_rank = (home_rank / matches[(condition_home_home | condition_home_away) & condition_date].head(10).shape[0])\n",
    "                home_avg_matchrank.append(avg_home_rank)\n",
    "            except:\n",
    "                home_avg_matchrank.append(None)\n",
    "        else:\n",
    "            home_avg_matchrank.append(None)\n",
    "        #away\n",
    "        if (matches[(condition_away_home | condition_away_away)  & condition_date].head(10).shape[0] < 11) & (matches[(condition_away_home | condition_away_away)  & condition_date].head(10).shape[0] > 1):\n",
    "            try:\n",
    "                away_as_home_rank = matches[(condition_away_home | condition_away_away)  & condition_date].head(10).groupby('homeId').agg({'homeTeam_matchRank':'sum'}).loc[away_id,'homeTeam_matchRank']\n",
    "                away_as_away_rank = matches[(condition_away_home | condition_away_away)  & condition_date].head(10).groupby('awayId').agg({'awayTeam_matchRank':'sum'}).loc[away_id,'awayTeam_matchRank']\n",
    "                away_rank = away_as_home_rank + away_as_away_rank\n",
    "                avg_away_rank = (away_rank / matches[(condition_away_home | condition_away_away) & condition_date].head(10).shape[0])\n",
    "                away_avg_matchrank.append(avg_away_rank)\n",
    "            except:\n",
    "                away_avg_matchrank.append(None)\n",
    "        else:\n",
    "            away_avg_matchrank.append(None)\n",
    "            \n",
    "    matches['homeLast10AvgRank'], matches['awayLast10AvgRank'] = home_avg_matchrank, away_avg_matchrank\n",
    "    matches = matches.drop(columns = 'index')\n",
    "    return matches\n",
    "                "
   ]
  },
  {
   "cell_type": "code",
   "execution_count": 35,
   "id": "0e3c9398-cac7-4995-a341-74ee93d350a2",
   "metadata": {},
   "outputs": [],
   "source": [
    "def get_wr(matches):\n",
    "    matches = matches.sort_values(by = 'dateutc', ascending = False).reset_index()\n",
    "    home_wins = matches['homeWins'] == 1\n",
    "    home_loses = matches['homeWins'] == -1\n",
    "    \n",
    "    home_wr =[]\n",
    "    away_wr =[]\n",
    "    \n",
    "    #matches_last_10_games_of_teams\n",
    "    for index,row in matches.iterrows():\n",
    "        home_id = matches['homeId'].iloc[index]\n",
    "        away_id = matches['awayId'].iloc[index]\n",
    "        date = matches['dateutc'].iloc[index]\n",
    "        \n",
    "        condition_home_home = matches['homeId']==home_id\n",
    "        condition_home_away = matches['awayId']==home_id\n",
    "        condition_away_home = matches['homeId']==away_id\n",
    "        condition_away_away = matches['awayId']==away_id\n",
    "        condition_date = matches['dateutc']<date\n",
    "        #home_10_games_wr\n",
    "        if (matches[(condition_home_home | condition_home_away) & condition_date].head(10).shape[0] < 11) & (matches[(condition_home_home | condition_home_away) & condition_date].head(10).shape[0] > 1):\n",
    "            try:\n",
    "                home_wins = matches[(condition_home_home | condition_home_away)  & condition_date].head(10).groupby('winner').count().loc[home_id,'homeWins']#home last 10 games wins\n",
    "                home_wr.append(home_wins/10)\n",
    "            except:\n",
    "                home_wr.append(0)\n",
    "        else:\n",
    "            home_wr.append(None)\n",
    "\n",
    "        #away_10_gams_wr\n",
    "        if (matches[(condition_away_home | condition_away_away)  & condition_date].head(10).shape[0] < 11) & (matches[(condition_away_home | condition_away_away)  & condition_date].head(10).shape[0] > 1):\n",
    "            try:\n",
    "                away_wins = matches[(condition_away_home | condition_away_away) & condition_date].head(10).groupby('winner').count().loc[away_id,'homeWins'] #away last 10 games wins\n",
    "                away_wr.append(away_wins/10)\n",
    "            except:\n",
    "                away_wr.append(0)\n",
    "        else:\n",
    "            away_wr.append(None)\n",
    "    matches['homeWRlast10Games'] = home_wr\n",
    "    matches['awayWRlast10Games'] = away_wr\n",
    "    matches = matches.drop(columns = 'index')\n",
    "\n",
    "    return matches\n"
   ]
  },
  {
   "cell_type": "code",
   "execution_count": 36,
   "id": "5ee601e4-cd20-4aff-b602-f1cbceba65e9",
   "metadata": {},
   "outputs": [],
   "source": [
    "def get_performance(matches):\n",
    "\n",
    "    \n",
    "    home_pass_accu = []\n",
    "    home_shot_accu = []\n",
    "    \n",
    "    away_pass_accu = []\n",
    "    away_shot_accu = []\n",
    "\n",
    "    #matches_last_10_games_of_teams\n",
    "    for index,row in matches.iterrows():\n",
    "        home_id = matches['homeId'].iloc[index]\n",
    "        away_id = matches['awayId'].iloc[index]\n",
    "        date = matches['dateutc'].iloc[index]\n",
    "        \n",
    "        condition_home_home = matches['homeId']==home_id\n",
    "        condition_home_away = matches['awayId']==home_id\n",
    "        condition_away_home = matches['homeId']==away_id\n",
    "        condition_away_away = matches['awayId']==away_id\n",
    "        condition_date = matches['dateutc']<date\n",
    "\n",
    "        if (matches[(condition_home_home | condition_home_away) & condition_date].head(10).shape[0] < 11) & (matches[(condition_home_home | condition_home_away) & condition_date].head(10).shape[0] > 1):\n",
    "            try:\n",
    "                pass_accu_home_as_home = matches[(condition_home_home | condition_home_away) & condition_date][['homeId','homePassAccuracy']].head(10).groupby('homeId').mean().loc[home_id,'homePassAccuracy']\n",
    "                shot_accu_home_as_home = matches[(condition_home_home | condition_home_away) & condition_date][['homeId','homeShotAccuracy']].head(10).groupby('homeId').mean().loc[home_id,'homeShotAccuracy']\n",
    "            except:\n",
    "                pass_accu_home_as_home = None\n",
    "                shot_accu_home_as_home = None\n",
    "            try:\n",
    "                pass_accu_home_as_away = matches[(condition_home_home | condition_home_away) & condition_date][['awayId','homePassAccuracy']].head(10).groupby('awayId').mean().loc[home_id,'homePassAccuracy']\n",
    "                shot_accu_home_as_away = matches[(condition_home_home | condition_home_away) & condition_date][['awayId','homeShotAccuracy']].head(10).groupby('awayId').mean().loc[home_id,'homeShotAccuracy']\n",
    "            \n",
    "            except:\n",
    "                pass_accu_home_as_away = None\n",
    "                shot_accu_home_as_away = None\n",
    "            try:\n",
    "                avg_pass_accu_home = (pass_accu_home_as_home + pass_accu_home_as_away)/2\n",
    "                avg_shot_accu_home = (shot_accu_home_as_home + shot_accu_home_as_away)/2\n",
    "                \n",
    "                home_pass_accu.append(avg_pass_accu_home)\n",
    "                home_shot_accu.append(avg_shot_accu_home)\n",
    "            except:\n",
    "                home_pass_accu.append(None)\n",
    "                home_shot_accu.append(None)\n",
    "        else:\n",
    "            home_pass_accu.append(None)\n",
    "            home_shot_accu.append(None)\n",
    "\n",
    "        if (matches[(condition_away_home | condition_away_away)  & condition_date].head(10).shape[0] < 11) & (matches[(condition_away_home | condition_away_away)  & condition_date].head(10).shape[0] > 1):\n",
    "            try:\n",
    "                pass_accu_away_as_home = matches[(condition_away_home | condition_away_away) & condition_date][['homeId','homePassAccuracy']].head(10).groupby('homeId').mean().loc[away_id,'homePassAccuracy']\n",
    "                shot_accu_away_as_home = matches[(condition_away_home | condition_away_away) & condition_date][['homeId','homeShotAccuracy']].head(10).groupby('homeId').mean().loc[away_id,'homeShotAccuracy']\n",
    "            except:\n",
    "                pass_accu_away_as_home = None\n",
    "                shot_accu_away_as_home = None\n",
    "            try:\n",
    "                pass_accu_away_as_away = matches[(condition_away_home | condition_away_away) & condition_date][['awayId','homePassAccuracy']].head(10).groupby('awayId').mean().loc[away_id,'homePassAccuracy']\n",
    "                shot_accu_away_as_away = matches[(condition_away_home | condition_away_away) & condition_date][['awayId','homeShotAccuracy']].head(10).groupby('awayId').mean().loc[away_id,'homeShotAccuracy']\n",
    "            except:\n",
    "                pass_accu_away_as_away = None\n",
    "                shot_accu_away_as_away = None\n",
    "                \n",
    "            try:\n",
    "                avg_pass_accu_away = (pass_accu_away_as_home + pass_accu_away_as_away)/2\n",
    "                avg_shot_accu_away = (shot_accu_away_as_home + shot_accu_away_as_away)/2\n",
    "\n",
    "                away_pass_accu.append(avg_pass_accu_away)\n",
    "                away_shot_accu.append(avg_shot_accu_away)\n",
    "            except:\n",
    "                away_pass_accu.append(None)\n",
    "                away_shot_accu.append(None)\n",
    "        else:\n",
    "            away_pass_accu.append(None)\n",
    "            away_shot_accu.append(None)\n",
    "    matches['avgHomePassAccuLast10Games'],matches['avgHomeShotAccuLast10Games'] = home_pass_accu, home_shot_accu\n",
    "    matches['avgAwayPassAccuLast10Games'],matches['avgAwayShotAccuLast10Games'] = away_pass_accu, away_shot_accu\n",
    "    return matches\n",
    "    "
   ]
  },
  {
   "cell_type": "markdown",
   "id": "7b2cb18a-8f92-4151-8854-be28f69f268b",
   "metadata": {},
   "source": [
    "# Dataset with all leagues\n"
   ]
  },
  {
   "cell_type": "code",
   "execution_count": 37,
   "id": "eb7bcf1b-35ae-4154-a1ce-d7aa760dac9c",
   "metadata": {},
   "outputs": [
    {
     "data": {
      "text/plain": [
       "dict_keys(['events_European_Championship', 'events_France', 'events_Italy', 'events_Spain', 'events_Germany', 'events_World_Cup', 'events_England'])"
      ]
     },
     "execution_count": 37,
     "metadata": {},
     "output_type": "execute_result"
    }
   ],
   "source": [
    "events_dfs.keys()"
   ]
  },
  {
   "cell_type": "code",
   "execution_count": 38,
   "id": "6e797d7f-159c-49ff-8074-83fa95d9e6e7",
   "metadata": {},
   "outputs": [
    {
     "data": {
      "text/plain": [
       "dict_keys(['matches_Italy', 'matches_European_Championship', 'matches_Germany', 'matches_France', 'matches_Spain', 'matches_World_Cup', 'matches_England'])"
      ]
     },
     "execution_count": 38,
     "metadata": {},
     "output_type": "execute_result"
    }
   ],
   "source": [
    "matches_dfs.keys()"
   ]
  },
  {
   "cell_type": "code",
   "execution_count": 39,
   "id": "f78f09af-4481-4834-92b8-07ab3b13b641",
   "metadata": {},
   "outputs": [],
   "source": [
    "#other_dfs['events_Italy']"
   ]
  },
  {
   "cell_type": "markdown",
   "id": "80373764-b4b4-4aaa-97cd-fb3f289bebd8",
   "metadata": {},
   "source": [
    "### Events"
   ]
  },
  {
   "cell_type": "markdown",
   "id": "f90fe5fc-41d5-4e0e-88c0-a8ef3963034b",
   "metadata": {},
   "source": [
    "Getting events from all of the matches of the league, and then getting only the passes and shots with a new column indicating if it was accurate or not."
   ]
  },
  {
   "cell_type": "code",
   "execution_count": 40,
   "id": "c05e3442-e742-4a62-a931-4424f1ca0821",
   "metadata": {},
   "outputs": [],
   "source": [
    "#Getting all the passes and shots, and retrieving if it was an accurate pass or not\n",
    "ev_it = events_dfs['events_Italy'].copy()"
   ]
  },
  {
   "cell_type": "code",
   "execution_count": 41,
   "id": "871e4ef4-058b-4676-bb7c-a2b42d9d8043",
   "metadata": {},
   "outputs": [],
   "source": [
    "ev_it = accurate_not_accurate(ev_it)"
   ]
  },
  {
   "cell_type": "code",
   "execution_count": 42,
   "id": "0a88631f-b3fd-4ee2-a986-b845b11a1dca",
   "metadata": {},
   "outputs": [
    {
     "data": {
      "text/html": [
       "<div>\n",
       "<style scoped>\n",
       "    .dataframe tbody tr th:only-of-type {\n",
       "        vertical-align: middle;\n",
       "    }\n",
       "\n",
       "    .dataframe tbody tr th {\n",
       "        vertical-align: top;\n",
       "    }\n",
       "\n",
       "    .dataframe thead th {\n",
       "        text-align: right;\n",
       "    }\n",
       "</style>\n",
       "<table border=\"1\" class=\"dataframe\">\n",
       "  <thead>\n",
       "    <tr style=\"text-align: right;\">\n",
       "      <th></th>\n",
       "      <th>eventId</th>\n",
       "      <th>subEventName</th>\n",
       "      <th>playerId</th>\n",
       "      <th>positions</th>\n",
       "      <th>matchId</th>\n",
       "      <th>eventName</th>\n",
       "      <th>teamId</th>\n",
       "      <th>matchPeriod</th>\n",
       "      <th>eventSec</th>\n",
       "      <th>subEventId</th>\n",
       "      <th>id</th>\n",
       "      <th>accurate</th>\n",
       "    </tr>\n",
       "  </thead>\n",
       "  <tbody>\n",
       "    <tr>\n",
       "      <th>0</th>\n",
       "      <td>8</td>\n",
       "      <td>Simple pass</td>\n",
       "      <td>8327</td>\n",
       "      <td>[{'y': 52, 'x': 49}, {'y': 44, 'x': 43}]</td>\n",
       "      <td>2575959</td>\n",
       "      <td>Pass</td>\n",
       "      <td>3158</td>\n",
       "      <td>1H</td>\n",
       "      <td>2.530536</td>\n",
       "      <td>85</td>\n",
       "      <td>180423957</td>\n",
       "      <td>1</td>\n",
       "    </tr>\n",
       "    <tr>\n",
       "      <th>1</th>\n",
       "      <td>8</td>\n",
       "      <td>Simple pass</td>\n",
       "      <td>20438</td>\n",
       "      <td>[{'y': 44, 'x': 43}, {'y': 17, 'x': 36}]</td>\n",
       "      <td>2575959</td>\n",
       "      <td>Pass</td>\n",
       "      <td>3158</td>\n",
       "      <td>1H</td>\n",
       "      <td>3.768418</td>\n",
       "      <td>85</td>\n",
       "      <td>180423958</td>\n",
       "      <td>1</td>\n",
       "    </tr>\n",
       "    <tr>\n",
       "      <th>2</th>\n",
       "      <td>8</td>\n",
       "      <td>Simple pass</td>\n",
       "      <td>8306</td>\n",
       "      <td>[{'y': 15, 'x': 72}, {'y': 25, 'x': 72}]</td>\n",
       "      <td>2575959</td>\n",
       "      <td>Pass</td>\n",
       "      <td>3158</td>\n",
       "      <td>1H</td>\n",
       "      <td>10.376066</td>\n",
       "      <td>85</td>\n",
       "      <td>180423962</td>\n",
       "      <td>1</td>\n",
       "    </tr>\n",
       "    <tr>\n",
       "      <th>3</th>\n",
       "      <td>8</td>\n",
       "      <td>Simple pass</td>\n",
       "      <td>86366</td>\n",
       "      <td>[{'y': 82, 'x': 38}, {'y': 88, 'x': 43}]</td>\n",
       "      <td>2575959</td>\n",
       "      <td>Pass</td>\n",
       "      <td>3172</td>\n",
       "      <td>1H</td>\n",
       "      <td>16.240563</td>\n",
       "      <td>85</td>\n",
       "      <td>180423979</td>\n",
       "      <td>1</td>\n",
       "    </tr>\n",
       "    <tr>\n",
       "      <th>4</th>\n",
       "      <td>8</td>\n",
       "      <td>Simple pass</td>\n",
       "      <td>8306</td>\n",
       "      <td>[{'y': 15, 'x': 61}, {'y': 15, 'x': 37}]</td>\n",
       "      <td>2575959</td>\n",
       "      <td>Pass</td>\n",
       "      <td>3158</td>\n",
       "      <td>1H</td>\n",
       "      <td>19.153235</td>\n",
       "      <td>85</td>\n",
       "      <td>180423968</td>\n",
       "      <td>1</td>\n",
       "    </tr>\n",
       "  </tbody>\n",
       "</table>\n",
       "</div>"
      ],
      "text/plain": [
       "   eventId subEventName  playerId                                 positions  \\\n",
       "0        8  Simple pass      8327  [{'y': 52, 'x': 49}, {'y': 44, 'x': 43}]   \n",
       "1        8  Simple pass     20438  [{'y': 44, 'x': 43}, {'y': 17, 'x': 36}]   \n",
       "2        8  Simple pass      8306  [{'y': 15, 'x': 72}, {'y': 25, 'x': 72}]   \n",
       "3        8  Simple pass     86366  [{'y': 82, 'x': 38}, {'y': 88, 'x': 43}]   \n",
       "4        8  Simple pass      8306  [{'y': 15, 'x': 61}, {'y': 15, 'x': 37}]   \n",
       "\n",
       "   matchId eventName  teamId matchPeriod   eventSec subEventId         id  \\\n",
       "0  2575959      Pass    3158          1H   2.530536         85  180423957   \n",
       "1  2575959      Pass    3158          1H   3.768418         85  180423958   \n",
       "2  2575959      Pass    3158          1H  10.376066         85  180423962   \n",
       "3  2575959      Pass    3172          1H  16.240563         85  180423979   \n",
       "4  2575959      Pass    3158          1H  19.153235         85  180423968   \n",
       "\n",
       "   accurate  \n",
       "0         1  \n",
       "1         1  \n",
       "2         1  \n",
       "3         1  \n",
       "4         1  "
      ]
     },
     "execution_count": 42,
     "metadata": {},
     "output_type": "execute_result"
    }
   ],
   "source": [
    "ev_it.head(5)"
   ]
  },
  {
   "cell_type": "markdown",
   "id": "038a35b8-f9f8-4be7-9433-3be24e5df1a4",
   "metadata": {},
   "source": [
    "### Matches"
   ]
  },
  {
   "cell_type": "markdown",
   "id": "e17b82ce-5cac-4a83-90f7-75f8ab11388f",
   "metadata": {},
   "source": [
    "Getting matches from a league and relevant features"
   ]
  },
  {
   "cell_type": "code",
   "execution_count": 43,
   "id": "4f5ece7a-ee08-4cf3-b0ff-77cda6f225c7",
   "metadata": {},
   "outputs": [],
   "source": [
    "#Relevant features\n",
    "match_features = ['teamsData','seasonId', 'dateutc', 'winner', 'wyId', 'competitionId']"
   ]
  },
  {
   "cell_type": "code",
   "execution_count": 44,
   "id": "2347dd02-3f09-4d5d-8d1a-73d69afd6589",
   "metadata": {},
   "outputs": [],
   "source": [
    "#retrieving italy matches\n",
    "italy_games = pd.DataFrame(matches_dfs['matches_Italy'])[match_features].copy()\n",
    "italy_games.rename(columns = {'wyId':'matchId'}, inplace = True)"
   ]
  },
  {
   "cell_type": "code",
   "execution_count": 45,
   "id": "bfdeadce-3093-43cb-8e4a-2367700998f7",
   "metadata": {},
   "outputs": [
    {
     "data": {
      "text/html": [
       "<div>\n",
       "<style scoped>\n",
       "    .dataframe tbody tr th:only-of-type {\n",
       "        vertical-align: middle;\n",
       "    }\n",
       "\n",
       "    .dataframe tbody tr th {\n",
       "        vertical-align: top;\n",
       "    }\n",
       "\n",
       "    .dataframe thead th {\n",
       "        text-align: right;\n",
       "    }\n",
       "</style>\n",
       "<table border=\"1\" class=\"dataframe\">\n",
       "  <thead>\n",
       "    <tr style=\"text-align: right;\">\n",
       "      <th></th>\n",
       "      <th>teamsData</th>\n",
       "      <th>seasonId</th>\n",
       "      <th>dateutc</th>\n",
       "      <th>winner</th>\n",
       "      <th>matchId</th>\n",
       "      <th>competitionId</th>\n",
       "    </tr>\n",
       "  </thead>\n",
       "  <tbody>\n",
       "    <tr>\n",
       "      <th>0</th>\n",
       "      <td>{'3162': {'scoreET': 0, 'coachId': 251025, 'si...</td>\n",
       "      <td>181248</td>\n",
       "      <td>2018-05-20 18:45:00</td>\n",
       "      <td>3161</td>\n",
       "      <td>2576335</td>\n",
       "      <td>524</td>\n",
       "    </tr>\n",
       "    <tr>\n",
       "      <th>1</th>\n",
       "      <td>{'3158': {'scoreET': 0, 'coachId': 210119, 'si...</td>\n",
       "      <td>181248</td>\n",
       "      <td>2018-05-20 18:45:00</td>\n",
       "      <td>3158</td>\n",
       "      <td>2576336</td>\n",
       "      <td>524</td>\n",
       "    </tr>\n",
       "    <tr>\n",
       "      <th>2</th>\n",
       "      <td>{'3173': {'scoreET': 0, 'coachId': 251044, 'si...</td>\n",
       "      <td>181248</td>\n",
       "      <td>2018-05-20 16:00:00</td>\n",
       "      <td>3173</td>\n",
       "      <td>2576329</td>\n",
       "      <td>524</td>\n",
       "    </tr>\n",
       "  </tbody>\n",
       "</table>\n",
       "</div>"
      ],
      "text/plain": [
       "                                           teamsData  seasonId  \\\n",
       "0  {'3162': {'scoreET': 0, 'coachId': 251025, 'si...    181248   \n",
       "1  {'3158': {'scoreET': 0, 'coachId': 210119, 'si...    181248   \n",
       "2  {'3173': {'scoreET': 0, 'coachId': 251044, 'si...    181248   \n",
       "\n",
       "               dateutc  winner  matchId  competitionId  \n",
       "0  2018-05-20 18:45:00    3161  2576335            524  \n",
       "1  2018-05-20 18:45:00    3158  2576336            524  \n",
       "2  2018-05-20 16:00:00    3173  2576329            524  "
      ]
     },
     "execution_count": 45,
     "metadata": {},
     "output_type": "execute_result"
    }
   ],
   "source": [
    "italy_games.head(3)"
   ]
  },
  {
   "cell_type": "markdown",
   "id": "e1189b1f-0043-4ff1-be4f-583b4620ffbf",
   "metadata": {},
   "source": [
    "## Processing data and feature engineering"
   ]
  },
  {
   "cell_type": "markdown",
   "id": "e473b447-fbef-47d1-9baa-6c094a79ccbc",
   "metadata": {},
   "source": [
    "Using built functions to process data and obtain new features"
   ]
  },
  {
   "cell_type": "markdown",
   "id": "7ffbd9d5-9936-4ce2-b2c6-f35b2ee9e239",
   "metadata": {},
   "source": [
    "### Columns for calculation of new features"
   ]
  },
  {
   "cell_type": "markdown",
   "id": "5aae7bd6-b710-47ae-9df1-10dd86bb6f19",
   "metadata": {},
   "source": [
    "#### homeId and awayId columns"
   ]
  },
  {
   "cell_type": "markdown",
   "id": "f5cc6e74-0d8e-4146-81f1-72664d1a6074",
   "metadata": {},
   "source": [
    "Extracting homeId and awayId from match data in teamsData column"
   ]
  },
  {
   "cell_type": "code",
   "execution_count": 46,
   "id": "b5305929-a319-47e7-b340-884ea16cc2a7",
   "metadata": {},
   "outputs": [],
   "source": [
    "#Creating homeId and awayId columns\n",
    "italy_matches_prep = create_home_away_cols(italy_games).copy()"
   ]
  },
  {
   "cell_type": "code",
   "execution_count": 47,
   "id": "288ced6a-c98f-4707-8f43-4363fcca1ccf",
   "metadata": {},
   "outputs": [
    {
     "data": {
      "text/html": [
       "<div>\n",
       "<style scoped>\n",
       "    .dataframe tbody tr th:only-of-type {\n",
       "        vertical-align: middle;\n",
       "    }\n",
       "\n",
       "    .dataframe tbody tr th {\n",
       "        vertical-align: top;\n",
       "    }\n",
       "\n",
       "    .dataframe thead th {\n",
       "        text-align: right;\n",
       "    }\n",
       "</style>\n",
       "<table border=\"1\" class=\"dataframe\">\n",
       "  <thead>\n",
       "    <tr style=\"text-align: right;\">\n",
       "      <th></th>\n",
       "      <th>teamsData</th>\n",
       "      <th>seasonId</th>\n",
       "      <th>dateutc</th>\n",
       "      <th>winner</th>\n",
       "      <th>matchId</th>\n",
       "      <th>competitionId</th>\n",
       "      <th>homeId</th>\n",
       "      <th>awayId</th>\n",
       "    </tr>\n",
       "  </thead>\n",
       "  <tbody>\n",
       "    <tr>\n",
       "      <th>0</th>\n",
       "      <td>{'3162': {'scoreET': 0, 'coachId': 251025, 'si...</td>\n",
       "      <td>181248</td>\n",
       "      <td>2018-05-20 18:45:00</td>\n",
       "      <td>3161</td>\n",
       "      <td>2576335</td>\n",
       "      <td>524</td>\n",
       "      <td>3162</td>\n",
       "      <td>3161</td>\n",
       "    </tr>\n",
       "    <tr>\n",
       "      <th>1</th>\n",
       "      <td>{'3158': {'scoreET': 0, 'coachId': 210119, 'si...</td>\n",
       "      <td>181248</td>\n",
       "      <td>2018-05-20 18:45:00</td>\n",
       "      <td>3158</td>\n",
       "      <td>2576336</td>\n",
       "      <td>524</td>\n",
       "      <td>3315</td>\n",
       "      <td>3158</td>\n",
       "    </tr>\n",
       "    <tr>\n",
       "      <th>2</th>\n",
       "      <td>{'3173': {'scoreET': 0, 'coachId': 251044, 'si...</td>\n",
       "      <td>181248</td>\n",
       "      <td>2018-05-20 16:00:00</td>\n",
       "      <td>3173</td>\n",
       "      <td>2576329</td>\n",
       "      <td>524</td>\n",
       "      <td>3173</td>\n",
       "      <td>3172</td>\n",
       "    </tr>\n",
       "  </tbody>\n",
       "</table>\n",
       "</div>"
      ],
      "text/plain": [
       "                                           teamsData  seasonId  \\\n",
       "0  {'3162': {'scoreET': 0, 'coachId': 251025, 'si...    181248   \n",
       "1  {'3158': {'scoreET': 0, 'coachId': 210119, 'si...    181248   \n",
       "2  {'3173': {'scoreET': 0, 'coachId': 251044, 'si...    181248   \n",
       "\n",
       "               dateutc  winner  matchId  competitionId  homeId  awayId  \n",
       "0  2018-05-20 18:45:00    3161  2576335            524    3162    3161  \n",
       "1  2018-05-20 18:45:00    3158  2576336            524    3315    3158  \n",
       "2  2018-05-20 16:00:00    3173  2576329            524    3173    3172  "
      ]
     },
     "execution_count": 47,
     "metadata": {},
     "output_type": "execute_result"
    }
   ],
   "source": [
    "italy_matches_prep.head(3)"
   ]
  },
  {
   "cell_type": "markdown",
   "id": "0dc055ba-90f6-414f-9b6f-8a20cf67195c",
   "metadata": {},
   "source": [
    "#### homeTeam, awayTeam, homeScore and awayScore columns"
   ]
  },
  {
   "cell_type": "markdown",
   "id": "a51023e9-96c7-48c9-81a4-521aa9f8363c",
   "metadata": {},
   "source": [
    "Retrieving score and homeTeam and awayTeam namesfrom teams dataset"
   ]
  },
  {
   "cell_type": "code",
   "execution_count": 48,
   "id": "8c988d10-b24d-4d54-add7-0be53d8c0568",
   "metadata": {},
   "outputs": [],
   "source": [
    "#Getting teams names from homeId and awayId and extracting from teams dataset\n",
    "italy_matches_prep = get_home_away_names(italy_matches_prep, other_dfs['teams'])"
   ]
  },
  {
   "cell_type": "code",
   "execution_count": 49,
   "id": "78081bef-6179-43f3-860b-b3e71ef5f51d",
   "metadata": {},
   "outputs": [],
   "source": [
    "#Getting scores from teamsData column\n",
    "italy_matches_prep = get_goals(italy_matches_prep)"
   ]
  },
  {
   "cell_type": "code",
   "execution_count": 50,
   "id": "9262683e-f714-4186-b88a-b3264de66b74",
   "metadata": {},
   "outputs": [
    {
     "data": {
      "text/html": [
       "<div>\n",
       "<style scoped>\n",
       "    .dataframe tbody tr th:only-of-type {\n",
       "        vertical-align: middle;\n",
       "    }\n",
       "\n",
       "    .dataframe tbody tr th {\n",
       "        vertical-align: top;\n",
       "    }\n",
       "\n",
       "    .dataframe thead th {\n",
       "        text-align: right;\n",
       "    }\n",
       "</style>\n",
       "<table border=\"1\" class=\"dataframe\">\n",
       "  <thead>\n",
       "    <tr style=\"text-align: right;\">\n",
       "      <th></th>\n",
       "      <th>teamsData</th>\n",
       "      <th>seasonId</th>\n",
       "      <th>dateutc</th>\n",
       "      <th>winner</th>\n",
       "      <th>matchId</th>\n",
       "      <th>competitionId</th>\n",
       "      <th>homeId</th>\n",
       "      <th>awayId</th>\n",
       "      <th>homeTeam</th>\n",
       "      <th>awayTeam</th>\n",
       "      <th>homeScore</th>\n",
       "      <th>awayScore</th>\n",
       "    </tr>\n",
       "  </thead>\n",
       "  <tbody>\n",
       "    <tr>\n",
       "      <th>0</th>\n",
       "      <td>{'3162': {'scoreET': 0, 'coachId': 251025, 'si...</td>\n",
       "      <td>181248</td>\n",
       "      <td>2018-05-20 18:45:00</td>\n",
       "      <td>3161</td>\n",
       "      <td>2576335</td>\n",
       "      <td>524</td>\n",
       "      <td>3162</td>\n",
       "      <td>3161</td>\n",
       "      <td>Lazio</td>\n",
       "      <td>Internazionale</td>\n",
       "      <td>2</td>\n",
       "      <td>3</td>\n",
       "    </tr>\n",
       "    <tr>\n",
       "      <th>58</th>\n",
       "      <td>{'3158': {'scoreET': 0, 'coachId': 210119, 'si...</td>\n",
       "      <td>181248</td>\n",
       "      <td>2018-05-20 18:45:00</td>\n",
       "      <td>3158</td>\n",
       "      <td>2576336</td>\n",
       "      <td>524</td>\n",
       "      <td>3315</td>\n",
       "      <td>3158</td>\n",
       "      <td>Sassuolo</td>\n",
       "      <td>Roma</td>\n",
       "      <td>0</td>\n",
       "      <td>1</td>\n",
       "    </tr>\n",
       "    <tr>\n",
       "      <th>45</th>\n",
       "      <td>{'3164': {'scoreET': 0, 'coachId': 210121, 'si...</td>\n",
       "      <td>181248</td>\n",
       "      <td>2018-05-20 16:00:00</td>\n",
       "      <td>3204</td>\n",
       "      <td>2576337</td>\n",
       "      <td>524</td>\n",
       "      <td>3204</td>\n",
       "      <td>3164</td>\n",
       "      <td>SPAL</td>\n",
       "      <td>Sampdoria</td>\n",
       "      <td>3</td>\n",
       "      <td>1</td>\n",
       "    </tr>\n",
       "  </tbody>\n",
       "</table>\n",
       "</div>"
      ],
      "text/plain": [
       "                                            teamsData  seasonId  \\\n",
       "0   {'3162': {'scoreET': 0, 'coachId': 251025, 'si...    181248   \n",
       "58  {'3158': {'scoreET': 0, 'coachId': 210119, 'si...    181248   \n",
       "45  {'3164': {'scoreET': 0, 'coachId': 210121, 'si...    181248   \n",
       "\n",
       "                dateutc  winner  matchId  competitionId  homeId  awayId  \\\n",
       "0   2018-05-20 18:45:00    3161  2576335            524    3162    3161   \n",
       "58  2018-05-20 18:45:00    3158  2576336            524    3315    3158   \n",
       "45  2018-05-20 16:00:00    3204  2576337            524    3204    3164   \n",
       "\n",
       "    homeTeam        awayTeam  homeScore  awayScore  \n",
       "0      Lazio  Internazionale          2          3  \n",
       "58  Sassuolo            Roma          0          1  \n",
       "45      SPAL       Sampdoria          3          1  "
      ]
     },
     "execution_count": 50,
     "metadata": {},
     "output_type": "execute_result"
    }
   ],
   "source": [
    "italy_matches_prep.head(3)"
   ]
  },
  {
   "cell_type": "markdown",
   "id": "cb757782-32f1-441e-b281-ff974580a918",
   "metadata": {},
   "source": [
    "#### homeTeam_matchRank\t& awayTeam_matchRank columns"
   ]
  },
  {
   "cell_type": "markdown",
   "id": "32a960cb-d141-480f-9afc-d2566425a425",
   "metadata": {},
   "source": [
    "Calculating the average rank of the team based on the performance of lineup players of the match in each team, for the current match"
   ]
  },
  {
   "cell_type": "code",
   "execution_count": 51,
   "id": "ecc22a7f-3b4b-4a17-8349-529ee6a692e8",
   "metadata": {},
   "outputs": [],
   "source": [
    "#Getting matchrank as average of playerranks of each team in current match\n",
    "italy_matches_prep = get_avg_playerank(italy_matches_prep, other_dfs['playerank'])"
   ]
  },
  {
   "cell_type": "code",
   "execution_count": 52,
   "id": "1657fb00-e108-4260-8a90-ef4b48fa63e0",
   "metadata": {},
   "outputs": [
    {
     "data": {
      "text/html": [
       "<div>\n",
       "<style scoped>\n",
       "    .dataframe tbody tr th:only-of-type {\n",
       "        vertical-align: middle;\n",
       "    }\n",
       "\n",
       "    .dataframe tbody tr th {\n",
       "        vertical-align: top;\n",
       "    }\n",
       "\n",
       "    .dataframe thead th {\n",
       "        text-align: right;\n",
       "    }\n",
       "</style>\n",
       "<table border=\"1\" class=\"dataframe\">\n",
       "  <thead>\n",
       "    <tr style=\"text-align: right;\">\n",
       "      <th></th>\n",
       "      <th>seasonId</th>\n",
       "      <th>dateutc</th>\n",
       "      <th>winner</th>\n",
       "      <th>matchId</th>\n",
       "      <th>competitionId</th>\n",
       "      <th>homeId</th>\n",
       "      <th>awayId</th>\n",
       "      <th>homeTeam</th>\n",
       "      <th>awayTeam</th>\n",
       "      <th>homeScore</th>\n",
       "      <th>awayScore</th>\n",
       "      <th>homeTeam_matchRank</th>\n",
       "      <th>awayTeam_matchRank</th>\n",
       "    </tr>\n",
       "  </thead>\n",
       "  <tbody>\n",
       "    <tr>\n",
       "      <th>0</th>\n",
       "      <td>181248</td>\n",
       "      <td>2018-05-20 18:45:00</td>\n",
       "      <td>3161</td>\n",
       "      <td>2576335</td>\n",
       "      <td>524</td>\n",
       "      <td>3162</td>\n",
       "      <td>3161</td>\n",
       "      <td>Lazio</td>\n",
       "      <td>Internazionale</td>\n",
       "      <td>2</td>\n",
       "      <td>3</td>\n",
       "      <td>0.01185</td>\n",
       "      <td>0.00595</td>\n",
       "    </tr>\n",
       "    <tr>\n",
       "      <th>58</th>\n",
       "      <td>181248</td>\n",
       "      <td>2018-05-20 18:45:00</td>\n",
       "      <td>3158</td>\n",
       "      <td>2576336</td>\n",
       "      <td>524</td>\n",
       "      <td>3315</td>\n",
       "      <td>3158</td>\n",
       "      <td>Sassuolo</td>\n",
       "      <td>Roma</td>\n",
       "      <td>0</td>\n",
       "      <td>1</td>\n",
       "      <td>0.00700</td>\n",
       "      <td>0.02564</td>\n",
       "    </tr>\n",
       "    <tr>\n",
       "      <th>45</th>\n",
       "      <td>181248</td>\n",
       "      <td>2018-05-20 16:00:00</td>\n",
       "      <td>3204</td>\n",
       "      <td>2576337</td>\n",
       "      <td>524</td>\n",
       "      <td>3204</td>\n",
       "      <td>3164</td>\n",
       "      <td>SPAL</td>\n",
       "      <td>Sampdoria</td>\n",
       "      <td>3</td>\n",
       "      <td>1</td>\n",
       "      <td>0.01320</td>\n",
       "      <td>0.00801</td>\n",
       "    </tr>\n",
       "  </tbody>\n",
       "</table>\n",
       "</div>"
      ],
      "text/plain": [
       "    seasonId              dateutc  winner  matchId  competitionId  homeId  \\\n",
       "0     181248  2018-05-20 18:45:00    3161  2576335            524    3162   \n",
       "58    181248  2018-05-20 18:45:00    3158  2576336            524    3315   \n",
       "45    181248  2018-05-20 16:00:00    3204  2576337            524    3204   \n",
       "\n",
       "    awayId  homeTeam        awayTeam  homeScore  awayScore  \\\n",
       "0     3161     Lazio  Internazionale          2          3   \n",
       "58    3158  Sassuolo            Roma          0          1   \n",
       "45    3164      SPAL       Sampdoria          3          1   \n",
       "\n",
       "    homeTeam_matchRank  awayTeam_matchRank  \n",
       "0              0.01185             0.00595  \n",
       "58             0.00700             0.02564  \n",
       "45             0.01320             0.00801  "
      ]
     },
     "execution_count": 52,
     "metadata": {},
     "output_type": "execute_result"
    }
   ],
   "source": [
    "italy_matches_prep.head(3)"
   ]
  },
  {
   "cell_type": "markdown",
   "id": "4ee77543-3bb4-4e61-8ff9-411a7f4d39a3",
   "metadata": {},
   "source": [
    "#### totalHomePasses, accurateHomePasses, totalHomeShots, accurateHomeShots, totalAwayPasses, accurateAwayPasses, totalAwayShots & accurateAwayShots columns"
   ]
  },
  {
   "cell_type": "markdown",
   "id": "1486d7dc-8eab-4882-9075-f968f99a19ae",
   "metadata": {},
   "source": [
    "Building columns in order to get accuracy measures, retrieving from events_df with passes and shots with accuracy categorization from events section"
   ]
  },
  {
   "cell_type": "code",
   "execution_count": 53,
   "id": "c9c76f7d-f3fe-4af6-ab3c-54f97ca7606c",
   "metadata": {
    "scrolled": true
   },
   "outputs": [],
   "source": [
    "italy_matches_prep = matches_events(italy_matches_prep,ev_it)"
   ]
  },
  {
   "cell_type": "code",
   "execution_count": 54,
   "id": "937b818b-09a8-43f0-a43d-70bb89aa96f4",
   "metadata": {},
   "outputs": [
    {
     "data": {
      "text/html": [
       "<div>\n",
       "<style scoped>\n",
       "    .dataframe tbody tr th:only-of-type {\n",
       "        vertical-align: middle;\n",
       "    }\n",
       "\n",
       "    .dataframe tbody tr th {\n",
       "        vertical-align: top;\n",
       "    }\n",
       "\n",
       "    .dataframe thead th {\n",
       "        text-align: right;\n",
       "    }\n",
       "</style>\n",
       "<table border=\"1\" class=\"dataframe\">\n",
       "  <thead>\n",
       "    <tr style=\"text-align: right;\">\n",
       "      <th></th>\n",
       "      <th>seasonId</th>\n",
       "      <th>dateutc</th>\n",
       "      <th>winner</th>\n",
       "      <th>matchId</th>\n",
       "      <th>competitionId</th>\n",
       "      <th>homeId</th>\n",
       "      <th>awayId</th>\n",
       "      <th>homeTeam</th>\n",
       "      <th>awayTeam</th>\n",
       "      <th>homeScore</th>\n",
       "      <th>awayScore</th>\n",
       "      <th>homeTeam_matchRank</th>\n",
       "      <th>awayTeam_matchRank</th>\n",
       "      <th>totalHomePasses</th>\n",
       "      <th>accurateHomePasses</th>\n",
       "      <th>totalHomeShots</th>\n",
       "      <th>accurateHomeShots</th>\n",
       "      <th>totalAwayPasses</th>\n",
       "      <th>accurateAwayPasses</th>\n",
       "      <th>totalAwayShots</th>\n",
       "      <th>accurateAwayShots</th>\n",
       "    </tr>\n",
       "  </thead>\n",
       "  <tbody>\n",
       "    <tr>\n",
       "      <th>0</th>\n",
       "      <td>181248</td>\n",
       "      <td>2018-05-20 18:45:00</td>\n",
       "      <td>3161</td>\n",
       "      <td>2576335</td>\n",
       "      <td>524</td>\n",
       "      <td>3162</td>\n",
       "      <td>3161</td>\n",
       "      <td>Lazio</td>\n",
       "      <td>Internazionale</td>\n",
       "      <td>2</td>\n",
       "      <td>3</td>\n",
       "      <td>0.01185</td>\n",
       "      <td>0.00595</td>\n",
       "      <td>302</td>\n",
       "      <td>249</td>\n",
       "      <td>14</td>\n",
       "      <td>4</td>\n",
       "      <td>492</td>\n",
       "      <td>417</td>\n",
       "      <td>14</td>\n",
       "      <td>6</td>\n",
       "    </tr>\n",
       "  </tbody>\n",
       "</table>\n",
       "</div>"
      ],
      "text/plain": [
       "   seasonId              dateutc  winner  matchId  competitionId  homeId  \\\n",
       "0    181248  2018-05-20 18:45:00    3161  2576335            524    3162   \n",
       "\n",
       "   awayId homeTeam        awayTeam  homeScore  awayScore  homeTeam_matchRank  \\\n",
       "0    3161    Lazio  Internazionale          2          3             0.01185   \n",
       "\n",
       "   awayTeam_matchRank  totalHomePasses  accurateHomePasses  totalHomeShots  \\\n",
       "0             0.00595              302                 249              14   \n",
       "\n",
       "   accurateHomeShots  totalAwayPasses  accurateAwayPasses  totalAwayShots  \\\n",
       "0                  4              492                 417              14   \n",
       "\n",
       "   accurateAwayShots  \n",
       "0                  6  "
      ]
     },
     "execution_count": 54,
     "metadata": {},
     "output_type": "execute_result"
    }
   ],
   "source": [
    "italy_matches_prep.head(1)"
   ]
  },
  {
   "cell_type": "markdown",
   "id": "b79bacd6-8a67-4e8c-b926-b9b58cb34a68",
   "metadata": {},
   "source": [
    "#### homePassAccuracy, homeShotAccuracy, awayPassAccuracy, awayShotAccuracy"
   ]
  },
  {
   "cell_type": "code",
   "execution_count": 55,
   "id": "824a1634-5be8-4a34-9c73-6395c977820a",
   "metadata": {},
   "outputs": [],
   "source": [
    "italy_matches_prep = accuracy_features(italy_matches_prep)"
   ]
  },
  {
   "cell_type": "code",
   "execution_count": 56,
   "id": "fe15925e-b23d-4035-aa08-95f23062db9c",
   "metadata": {},
   "outputs": [
    {
     "data": {
      "text/html": [
       "<div>\n",
       "<style scoped>\n",
       "    .dataframe tbody tr th:only-of-type {\n",
       "        vertical-align: middle;\n",
       "    }\n",
       "\n",
       "    .dataframe tbody tr th {\n",
       "        vertical-align: top;\n",
       "    }\n",
       "\n",
       "    .dataframe thead th {\n",
       "        text-align: right;\n",
       "    }\n",
       "</style>\n",
       "<table border=\"1\" class=\"dataframe\">\n",
       "  <thead>\n",
       "    <tr style=\"text-align: right;\">\n",
       "      <th></th>\n",
       "      <th>seasonId</th>\n",
       "      <th>dateutc</th>\n",
       "      <th>winner</th>\n",
       "      <th>matchId</th>\n",
       "      <th>competitionId</th>\n",
       "      <th>homeId</th>\n",
       "      <th>awayId</th>\n",
       "      <th>homeTeam</th>\n",
       "      <th>awayTeam</th>\n",
       "      <th>homeScore</th>\n",
       "      <th>awayScore</th>\n",
       "      <th>homeTeam_matchRank</th>\n",
       "      <th>awayTeam_matchRank</th>\n",
       "      <th>totalHomePasses</th>\n",
       "      <th>accurateHomePasses</th>\n",
       "      <th>totalHomeShots</th>\n",
       "      <th>accurateHomeShots</th>\n",
       "      <th>totalAwayPasses</th>\n",
       "      <th>accurateAwayPasses</th>\n",
       "      <th>totalAwayShots</th>\n",
       "      <th>accurateAwayShots</th>\n",
       "      <th>homePassAccuracy</th>\n",
       "      <th>homeShotAccuracy</th>\n",
       "      <th>awayPassAccuracy</th>\n",
       "      <th>awayShotAccuracy</th>\n",
       "    </tr>\n",
       "  </thead>\n",
       "  <tbody>\n",
       "    <tr>\n",
       "      <th>0</th>\n",
       "      <td>181248</td>\n",
       "      <td>2018-05-20 18:45:00</td>\n",
       "      <td>3161</td>\n",
       "      <td>2576335</td>\n",
       "      <td>524</td>\n",
       "      <td>3162</td>\n",
       "      <td>3161</td>\n",
       "      <td>Lazio</td>\n",
       "      <td>Internazionale</td>\n",
       "      <td>2</td>\n",
       "      <td>3</td>\n",
       "      <td>0.01185</td>\n",
       "      <td>0.00595</td>\n",
       "      <td>302</td>\n",
       "      <td>249</td>\n",
       "      <td>14</td>\n",
       "      <td>4</td>\n",
       "      <td>492</td>\n",
       "      <td>417</td>\n",
       "      <td>14</td>\n",
       "      <td>6</td>\n",
       "      <td>0.824503</td>\n",
       "      <td>0.285714</td>\n",
       "      <td>0.847561</td>\n",
       "      <td>0.428571</td>\n",
       "    </tr>\n",
       "  </tbody>\n",
       "</table>\n",
       "</div>"
      ],
      "text/plain": [
       "   seasonId              dateutc  winner  matchId  competitionId  homeId  \\\n",
       "0    181248  2018-05-20 18:45:00    3161  2576335            524    3162   \n",
       "\n",
       "   awayId homeTeam        awayTeam  homeScore  awayScore  homeTeam_matchRank  \\\n",
       "0    3161    Lazio  Internazionale          2          3             0.01185   \n",
       "\n",
       "   awayTeam_matchRank  totalHomePasses  accurateHomePasses  totalHomeShots  \\\n",
       "0             0.00595              302                 249              14   \n",
       "\n",
       "   accurateHomeShots  totalAwayPasses  accurateAwayPasses  totalAwayShots  \\\n",
       "0                  4              492                 417              14   \n",
       "\n",
       "   accurateAwayShots  homePassAccuracy  homeShotAccuracy  awayPassAccuracy  \\\n",
       "0                  6          0.824503          0.285714          0.847561   \n",
       "\n",
       "   awayShotAccuracy  \n",
       "0          0.428571  "
      ]
     },
     "execution_count": 56,
     "metadata": {},
     "output_type": "execute_result"
    }
   ],
   "source": [
    "italy_matches_prep.head(1)"
   ]
  },
  {
   "cell_type": "markdown",
   "id": "c419029d-33e8-494f-a60b-1861ee188132",
   "metadata": {},
   "source": [
    "### Target"
   ]
  },
  {
   "cell_type": "markdown",
   "id": "f7a59b62-1691-4289-89ab-ebd3bd540666",
   "metadata": {},
   "source": [
    "Target is needed to build the feature WR of last 10 games so is setup before features:\n",
    "- If home wins: 1\n",
    "- If draw: 0\n",
    "- If away wins: -1"
   ]
  },
  {
   "cell_type": "code",
   "execution_count": 57,
   "id": "a3155b44-0d1d-4759-9247-a567e778f94e",
   "metadata": {},
   "outputs": [],
   "source": [
    "italy_matches_prep = matches_target(italy_matches_prep)"
   ]
  },
  {
   "cell_type": "code",
   "execution_count": 58,
   "id": "b535c8ec-a7ae-4642-9386-ff55c2efb255",
   "metadata": {},
   "outputs": [
    {
     "data": {
      "text/html": [
       "<div>\n",
       "<style scoped>\n",
       "    .dataframe tbody tr th:only-of-type {\n",
       "        vertical-align: middle;\n",
       "    }\n",
       "\n",
       "    .dataframe tbody tr th {\n",
       "        vertical-align: top;\n",
       "    }\n",
       "\n",
       "    .dataframe thead th {\n",
       "        text-align: right;\n",
       "    }\n",
       "</style>\n",
       "<table border=\"1\" class=\"dataframe\">\n",
       "  <thead>\n",
       "    <tr style=\"text-align: right;\">\n",
       "      <th></th>\n",
       "      <th>seasonId</th>\n",
       "      <th>dateutc</th>\n",
       "      <th>winner</th>\n",
       "      <th>matchId</th>\n",
       "      <th>competitionId</th>\n",
       "      <th>homeId</th>\n",
       "      <th>awayId</th>\n",
       "      <th>homeTeam</th>\n",
       "      <th>awayTeam</th>\n",
       "      <th>homeScore</th>\n",
       "      <th>awayScore</th>\n",
       "      <th>homeTeam_matchRank</th>\n",
       "      <th>awayTeam_matchRank</th>\n",
       "      <th>totalHomePasses</th>\n",
       "      <th>accurateHomePasses</th>\n",
       "      <th>totalHomeShots</th>\n",
       "      <th>accurateHomeShots</th>\n",
       "      <th>totalAwayPasses</th>\n",
       "      <th>accurateAwayPasses</th>\n",
       "      <th>totalAwayShots</th>\n",
       "      <th>accurateAwayShots</th>\n",
       "      <th>homePassAccuracy</th>\n",
       "      <th>homeShotAccuracy</th>\n",
       "      <th>awayPassAccuracy</th>\n",
       "      <th>awayShotAccuracy</th>\n",
       "      <th>homeWins</th>\n",
       "    </tr>\n",
       "  </thead>\n",
       "  <tbody>\n",
       "    <tr>\n",
       "      <th>0</th>\n",
       "      <td>181248</td>\n",
       "      <td>2018-05-20 18:45:00</td>\n",
       "      <td>3161</td>\n",
       "      <td>2576335</td>\n",
       "      <td>524</td>\n",
       "      <td>3162</td>\n",
       "      <td>3161</td>\n",
       "      <td>Lazio</td>\n",
       "      <td>Internazionale</td>\n",
       "      <td>2</td>\n",
       "      <td>3</td>\n",
       "      <td>0.01185</td>\n",
       "      <td>0.00595</td>\n",
       "      <td>302</td>\n",
       "      <td>249</td>\n",
       "      <td>14</td>\n",
       "      <td>4</td>\n",
       "      <td>492</td>\n",
       "      <td>417</td>\n",
       "      <td>14</td>\n",
       "      <td>6</td>\n",
       "      <td>0.824503</td>\n",
       "      <td>0.285714</td>\n",
       "      <td>0.847561</td>\n",
       "      <td>0.428571</td>\n",
       "      <td>-1</td>\n",
       "    </tr>\n",
       "  </tbody>\n",
       "</table>\n",
       "</div>"
      ],
      "text/plain": [
       "   seasonId              dateutc  winner  matchId  competitionId  homeId  \\\n",
       "0    181248  2018-05-20 18:45:00    3161  2576335            524    3162   \n",
       "\n",
       "   awayId homeTeam        awayTeam  homeScore  awayScore  homeTeam_matchRank  \\\n",
       "0    3161    Lazio  Internazionale          2          3             0.01185   \n",
       "\n",
       "   awayTeam_matchRank  totalHomePasses  accurateHomePasses  totalHomeShots  \\\n",
       "0             0.00595              302                 249              14   \n",
       "\n",
       "   accurateHomeShots  totalAwayPasses  accurateAwayPasses  totalAwayShots  \\\n",
       "0                  4              492                 417              14   \n",
       "\n",
       "   accurateAwayShots  homePassAccuracy  homeShotAccuracy  awayPassAccuracy  \\\n",
       "0                  6          0.824503          0.285714          0.847561   \n",
       "\n",
       "   awayShotAccuracy  homeWins  \n",
       "0          0.428571        -1  "
      ]
     },
     "execution_count": 58,
     "metadata": {},
     "output_type": "execute_result"
    }
   ],
   "source": [
    "italy_matches_prep.head(1)"
   ]
  },
  {
   "cell_type": "markdown",
   "id": "6f36a42d-0194-4fd4-b4a4-1ff111eabfa1",
   "metadata": {},
   "source": [
    "### Feature engineering"
   ]
  },
  {
   "cell_type": "markdown",
   "id": "0b89f1e3-b013-47b6-98ce-438e71eb7435",
   "metadata": {},
   "source": [
    "In this section we engineer some relevant features for analysis\n",
    "- Avg Shot and pass accuracy of last 10 games for home and away team\n",
    "- Win ratio of last 10 games for home and away team\n",
    "- And avg match rank for last 10 games for home and away team"
   ]
  },
  {
   "cell_type": "markdown",
   "id": "f3b663cc-9e1e-4c51-b012-53ab5eee00ee",
   "metadata": {},
   "source": [
    "#### avgHomePassAccuLast10Games, avgHomeShotAccuLast10Games, avgAwayPassAccuLast10Games,\tavgAwayShotAccuLast10Games"
   ]
  },
  {
   "cell_type": "markdown",
   "id": "2c992595-a704-450c-837c-0d27b06ff3f1",
   "metadata": {},
   "source": [
    "We calculate the avg of accuracy of last 10 games for each team"
   ]
  },
  {
   "cell_type": "code",
   "execution_count": 59,
   "id": "7d10d92c-846e-4e91-be71-0e3295943e47",
   "metadata": {},
   "outputs": [],
   "source": [
    "italy_matches_prep = get_performance(italy_matches_prep)"
   ]
  },
  {
   "cell_type": "code",
   "execution_count": 60,
   "id": "fa9c2274-e44c-49ba-99ee-de6f4e9211c9",
   "metadata": {},
   "outputs": [
    {
     "data": {
      "text/html": [
       "<div>\n",
       "<style scoped>\n",
       "    .dataframe tbody tr th:only-of-type {\n",
       "        vertical-align: middle;\n",
       "    }\n",
       "\n",
       "    .dataframe tbody tr th {\n",
       "        vertical-align: top;\n",
       "    }\n",
       "\n",
       "    .dataframe thead th {\n",
       "        text-align: right;\n",
       "    }\n",
       "</style>\n",
       "<table border=\"1\" class=\"dataframe\">\n",
       "  <thead>\n",
       "    <tr style=\"text-align: right;\">\n",
       "      <th></th>\n",
       "      <th>seasonId</th>\n",
       "      <th>dateutc</th>\n",
       "      <th>winner</th>\n",
       "      <th>matchId</th>\n",
       "      <th>competitionId</th>\n",
       "      <th>homeId</th>\n",
       "      <th>awayId</th>\n",
       "      <th>homeTeam</th>\n",
       "      <th>awayTeam</th>\n",
       "      <th>homeScore</th>\n",
       "      <th>awayScore</th>\n",
       "      <th>homeTeam_matchRank</th>\n",
       "      <th>awayTeam_matchRank</th>\n",
       "      <th>totalHomePasses</th>\n",
       "      <th>accurateHomePasses</th>\n",
       "      <th>totalHomeShots</th>\n",
       "      <th>accurateHomeShots</th>\n",
       "      <th>totalAwayPasses</th>\n",
       "      <th>accurateAwayPasses</th>\n",
       "      <th>totalAwayShots</th>\n",
       "      <th>accurateAwayShots</th>\n",
       "      <th>homePassAccuracy</th>\n",
       "      <th>homeShotAccuracy</th>\n",
       "      <th>awayPassAccuracy</th>\n",
       "      <th>awayShotAccuracy</th>\n",
       "      <th>homeWins</th>\n",
       "      <th>avgHomePassAccuLast10Games</th>\n",
       "      <th>avgHomeShotAccuLast10Games</th>\n",
       "      <th>avgAwayPassAccuLast10Games</th>\n",
       "      <th>avgAwayShotAccuLast10Games</th>\n",
       "    </tr>\n",
       "  </thead>\n",
       "  <tbody>\n",
       "    <tr>\n",
       "      <th>0</th>\n",
       "      <td>181248</td>\n",
       "      <td>2018-05-20 18:45:00</td>\n",
       "      <td>3161</td>\n",
       "      <td>2576335</td>\n",
       "      <td>524</td>\n",
       "      <td>3162</td>\n",
       "      <td>3161</td>\n",
       "      <td>Lazio</td>\n",
       "      <td>Internazionale</td>\n",
       "      <td>2</td>\n",
       "      <td>3</td>\n",
       "      <td>0.01185</td>\n",
       "      <td>0.00595</td>\n",
       "      <td>302</td>\n",
       "      <td>249</td>\n",
       "      <td>14</td>\n",
       "      <td>4</td>\n",
       "      <td>492</td>\n",
       "      <td>417</td>\n",
       "      <td>14</td>\n",
       "      <td>6</td>\n",
       "      <td>0.824503</td>\n",
       "      <td>0.285714</td>\n",
       "      <td>0.847561</td>\n",
       "      <td>0.428571</td>\n",
       "      <td>-1</td>\n",
       "      <td>0.799875</td>\n",
       "      <td>0.460678</td>\n",
       "      <td>0.851845</td>\n",
       "      <td>0.345496</td>\n",
       "    </tr>\n",
       "  </tbody>\n",
       "</table>\n",
       "</div>"
      ],
      "text/plain": [
       "   seasonId              dateutc  winner  matchId  competitionId  homeId  \\\n",
       "0    181248  2018-05-20 18:45:00    3161  2576335            524    3162   \n",
       "\n",
       "   awayId homeTeam        awayTeam  homeScore  awayScore  homeTeam_matchRank  \\\n",
       "0    3161    Lazio  Internazionale          2          3             0.01185   \n",
       "\n",
       "   awayTeam_matchRank  totalHomePasses  accurateHomePasses  totalHomeShots  \\\n",
       "0             0.00595              302                 249              14   \n",
       "\n",
       "   accurateHomeShots  totalAwayPasses  accurateAwayPasses  totalAwayShots  \\\n",
       "0                  4              492                 417              14   \n",
       "\n",
       "   accurateAwayShots  homePassAccuracy  homeShotAccuracy  awayPassAccuracy  \\\n",
       "0                  6          0.824503          0.285714          0.847561   \n",
       "\n",
       "   awayShotAccuracy  homeWins  avgHomePassAccuLast10Games  \\\n",
       "0          0.428571        -1                    0.799875   \n",
       "\n",
       "   avgHomeShotAccuLast10Games  avgAwayPassAccuLast10Games  \\\n",
       "0                    0.460678                    0.851845   \n",
       "\n",
       "   avgAwayShotAccuLast10Games  \n",
       "0                    0.345496  "
      ]
     },
     "execution_count": 60,
     "metadata": {},
     "output_type": "execute_result"
    }
   ],
   "source": [
    "italy_matches_prep.head(1)"
   ]
  },
  {
   "cell_type": "markdown",
   "id": "62bd8082-8bd0-4b3f-a379-a2b32b0cc667",
   "metadata": {},
   "source": [
    "#### homeLast10AvgRank,\tawayLast10AvgRank"
   ]
  },
  {
   "cell_type": "markdown",
   "id": "90770e67-fb03-4a21-b6c9-0c78cad66fad",
   "metadata": {},
   "source": [
    "We calculate the avg rank of last 10 matches for each team"
   ]
  },
  {
   "cell_type": "code",
   "execution_count": 61,
   "id": "45d26450-142c-4efb-a94e-ddcb55bf417e",
   "metadata": {},
   "outputs": [],
   "source": [
    "italy_matches_prep = get_last_matchranks(italy_matches_prep)"
   ]
  },
  {
   "cell_type": "code",
   "execution_count": 62,
   "id": "8fbb83c6-2a9a-4369-be19-a4a29a1ceef1",
   "metadata": {},
   "outputs": [
    {
     "data": {
      "text/html": [
       "<div>\n",
       "<style scoped>\n",
       "    .dataframe tbody tr th:only-of-type {\n",
       "        vertical-align: middle;\n",
       "    }\n",
       "\n",
       "    .dataframe tbody tr th {\n",
       "        vertical-align: top;\n",
       "    }\n",
       "\n",
       "    .dataframe thead th {\n",
       "        text-align: right;\n",
       "    }\n",
       "</style>\n",
       "<table border=\"1\" class=\"dataframe\">\n",
       "  <thead>\n",
       "    <tr style=\"text-align: right;\">\n",
       "      <th></th>\n",
       "      <th>seasonId</th>\n",
       "      <th>dateutc</th>\n",
       "      <th>winner</th>\n",
       "      <th>matchId</th>\n",
       "      <th>competitionId</th>\n",
       "      <th>homeId</th>\n",
       "      <th>awayId</th>\n",
       "      <th>homeTeam</th>\n",
       "      <th>awayTeam</th>\n",
       "      <th>homeScore</th>\n",
       "      <th>awayScore</th>\n",
       "      <th>homeTeam_matchRank</th>\n",
       "      <th>awayTeam_matchRank</th>\n",
       "      <th>totalHomePasses</th>\n",
       "      <th>accurateHomePasses</th>\n",
       "      <th>totalHomeShots</th>\n",
       "      <th>accurateHomeShots</th>\n",
       "      <th>totalAwayPasses</th>\n",
       "      <th>accurateAwayPasses</th>\n",
       "      <th>totalAwayShots</th>\n",
       "      <th>accurateAwayShots</th>\n",
       "      <th>homePassAccuracy</th>\n",
       "      <th>homeShotAccuracy</th>\n",
       "      <th>awayPassAccuracy</th>\n",
       "      <th>awayShotAccuracy</th>\n",
       "      <th>homeWins</th>\n",
       "      <th>avgHomePassAccuLast10Games</th>\n",
       "      <th>avgHomeShotAccuLast10Games</th>\n",
       "      <th>avgAwayPassAccuLast10Games</th>\n",
       "      <th>avgAwayShotAccuLast10Games</th>\n",
       "      <th>homeLast10AvgRank</th>\n",
       "      <th>awayLast10AvgRank</th>\n",
       "    </tr>\n",
       "  </thead>\n",
       "  <tbody>\n",
       "    <tr>\n",
       "      <th>0</th>\n",
       "      <td>181248</td>\n",
       "      <td>2018-05-20 18:45:00</td>\n",
       "      <td>3161</td>\n",
       "      <td>2576335</td>\n",
       "      <td>524</td>\n",
       "      <td>3162</td>\n",
       "      <td>3161</td>\n",
       "      <td>Lazio</td>\n",
       "      <td>Internazionale</td>\n",
       "      <td>2</td>\n",
       "      <td>3</td>\n",
       "      <td>0.01185</td>\n",
       "      <td>0.00595</td>\n",
       "      <td>302</td>\n",
       "      <td>249</td>\n",
       "      <td>14</td>\n",
       "      <td>4</td>\n",
       "      <td>492</td>\n",
       "      <td>417</td>\n",
       "      <td>14</td>\n",
       "      <td>6</td>\n",
       "      <td>0.824503</td>\n",
       "      <td>0.285714</td>\n",
       "      <td>0.847561</td>\n",
       "      <td>0.428571</td>\n",
       "      <td>-1</td>\n",
       "      <td>0.799875</td>\n",
       "      <td>0.460678</td>\n",
       "      <td>0.851845</td>\n",
       "      <td>0.345496</td>\n",
       "      <td>0.004582</td>\n",
       "      <td>0.007148</td>\n",
       "    </tr>\n",
       "  </tbody>\n",
       "</table>\n",
       "</div>"
      ],
      "text/plain": [
       "   seasonId              dateutc  winner  matchId  competitionId  homeId  \\\n",
       "0    181248  2018-05-20 18:45:00    3161  2576335            524    3162   \n",
       "\n",
       "   awayId homeTeam        awayTeam  homeScore  awayScore  homeTeam_matchRank  \\\n",
       "0    3161    Lazio  Internazionale          2          3             0.01185   \n",
       "\n",
       "   awayTeam_matchRank  totalHomePasses  accurateHomePasses  totalHomeShots  \\\n",
       "0             0.00595              302                 249              14   \n",
       "\n",
       "   accurateHomeShots  totalAwayPasses  accurateAwayPasses  totalAwayShots  \\\n",
       "0                  4              492                 417              14   \n",
       "\n",
       "   accurateAwayShots  homePassAccuracy  homeShotAccuracy  awayPassAccuracy  \\\n",
       "0                  6          0.824503          0.285714          0.847561   \n",
       "\n",
       "   awayShotAccuracy  homeWins  avgHomePassAccuLast10Games  \\\n",
       "0          0.428571        -1                    0.799875   \n",
       "\n",
       "   avgHomeShotAccuLast10Games  avgAwayPassAccuLast10Games  \\\n",
       "0                    0.460678                    0.851845   \n",
       "\n",
       "   avgAwayShotAccuLast10Games  homeLast10AvgRank  awayLast10AvgRank  \n",
       "0                    0.345496           0.004582           0.007148  "
      ]
     },
     "execution_count": 62,
     "metadata": {},
     "output_type": "execute_result"
    }
   ],
   "source": [
    "italy_matches_prep.head(1)"
   ]
  },
  {
   "cell_type": "markdown",
   "id": "1101e116-697e-4a57-9493-cf0893ea449c",
   "metadata": {},
   "source": [
    "#### homeWRlast10Games,\tawayWRlast10Games"
   ]
  },
  {
   "cell_type": "markdown",
   "id": "96694470-e46b-457d-9e31-f017eb1f625e",
   "metadata": {},
   "source": [
    "We calculate the WR of the last 10 games for each team"
   ]
  },
  {
   "cell_type": "code",
   "execution_count": 63,
   "id": "158d9116-7b32-46e9-b5b1-ca21bf20a5ed",
   "metadata": {},
   "outputs": [],
   "source": [
    "italy_matches_prep = get_wr(italy_matches_prep)"
   ]
  },
  {
   "cell_type": "code",
   "execution_count": 64,
   "id": "051b1cef-3591-49b5-8de2-7861fd1f22f2",
   "metadata": {},
   "outputs": [
    {
     "data": {
      "text/html": [
       "<div>\n",
       "<style scoped>\n",
       "    .dataframe tbody tr th:only-of-type {\n",
       "        vertical-align: middle;\n",
       "    }\n",
       "\n",
       "    .dataframe tbody tr th {\n",
       "        vertical-align: top;\n",
       "    }\n",
       "\n",
       "    .dataframe thead th {\n",
       "        text-align: right;\n",
       "    }\n",
       "</style>\n",
       "<table border=\"1\" class=\"dataframe\">\n",
       "  <thead>\n",
       "    <tr style=\"text-align: right;\">\n",
       "      <th></th>\n",
       "      <th>seasonId</th>\n",
       "      <th>dateutc</th>\n",
       "      <th>winner</th>\n",
       "      <th>matchId</th>\n",
       "      <th>competitionId</th>\n",
       "      <th>homeId</th>\n",
       "      <th>awayId</th>\n",
       "      <th>homeTeam</th>\n",
       "      <th>awayTeam</th>\n",
       "      <th>homeScore</th>\n",
       "      <th>awayScore</th>\n",
       "      <th>homeTeam_matchRank</th>\n",
       "      <th>awayTeam_matchRank</th>\n",
       "      <th>totalHomePasses</th>\n",
       "      <th>accurateHomePasses</th>\n",
       "      <th>totalHomeShots</th>\n",
       "      <th>accurateHomeShots</th>\n",
       "      <th>totalAwayPasses</th>\n",
       "      <th>accurateAwayPasses</th>\n",
       "      <th>totalAwayShots</th>\n",
       "      <th>accurateAwayShots</th>\n",
       "      <th>homePassAccuracy</th>\n",
       "      <th>homeShotAccuracy</th>\n",
       "      <th>awayPassAccuracy</th>\n",
       "      <th>awayShotAccuracy</th>\n",
       "      <th>homeWins</th>\n",
       "      <th>avgHomePassAccuLast10Games</th>\n",
       "      <th>avgHomeShotAccuLast10Games</th>\n",
       "      <th>avgAwayPassAccuLast10Games</th>\n",
       "      <th>avgAwayShotAccuLast10Games</th>\n",
       "      <th>homeLast10AvgRank</th>\n",
       "      <th>awayLast10AvgRank</th>\n",
       "      <th>homeWRlast10Games</th>\n",
       "      <th>awayWRlast10Games</th>\n",
       "    </tr>\n",
       "  </thead>\n",
       "  <tbody>\n",
       "    <tr>\n",
       "      <th>0</th>\n",
       "      <td>181248</td>\n",
       "      <td>2018-05-20 18:45:00</td>\n",
       "      <td>3161</td>\n",
       "      <td>2576335</td>\n",
       "      <td>524</td>\n",
       "      <td>3162</td>\n",
       "      <td>3161</td>\n",
       "      <td>Lazio</td>\n",
       "      <td>Internazionale</td>\n",
       "      <td>2</td>\n",
       "      <td>3</td>\n",
       "      <td>0.01185</td>\n",
       "      <td>0.00595</td>\n",
       "      <td>302</td>\n",
       "      <td>249</td>\n",
       "      <td>14</td>\n",
       "      <td>4</td>\n",
       "      <td>492</td>\n",
       "      <td>417</td>\n",
       "      <td>14</td>\n",
       "      <td>6</td>\n",
       "      <td>0.824503</td>\n",
       "      <td>0.285714</td>\n",
       "      <td>0.847561</td>\n",
       "      <td>0.428571</td>\n",
       "      <td>-1</td>\n",
       "      <td>0.799875</td>\n",
       "      <td>0.460678</td>\n",
       "      <td>0.851845</td>\n",
       "      <td>0.345496</td>\n",
       "      <td>0.004582</td>\n",
       "      <td>0.007148</td>\n",
       "      <td>0.5</td>\n",
       "      <td>0.5</td>\n",
       "    </tr>\n",
       "    <tr>\n",
       "      <th>1</th>\n",
       "      <td>181248</td>\n",
       "      <td>2018-05-20 18:45:00</td>\n",
       "      <td>3158</td>\n",
       "      <td>2576336</td>\n",
       "      <td>524</td>\n",
       "      <td>3315</td>\n",
       "      <td>3158</td>\n",
       "      <td>Sassuolo</td>\n",
       "      <td>Roma</td>\n",
       "      <td>0</td>\n",
       "      <td>1</td>\n",
       "      <td>0.00700</td>\n",
       "      <td>0.02564</td>\n",
       "      <td>337</td>\n",
       "      <td>262</td>\n",
       "      <td>14</td>\n",
       "      <td>3</td>\n",
       "      <td>500</td>\n",
       "      <td>423</td>\n",
       "      <td>15</td>\n",
       "      <td>6</td>\n",
       "      <td>0.777448</td>\n",
       "      <td>0.214286</td>\n",
       "      <td>0.846000</td>\n",
       "      <td>0.400000</td>\n",
       "      <td>-1</td>\n",
       "      <td>0.846916</td>\n",
       "      <td>0.446443</td>\n",
       "      <td>0.806129</td>\n",
       "      <td>0.254985</td>\n",
       "      <td>0.004757</td>\n",
       "      <td>0.007135</td>\n",
       "      <td>0.5</td>\n",
       "      <td>0.6</td>\n",
       "    </tr>\n",
       "    <tr>\n",
       "      <th>2</th>\n",
       "      <td>181248</td>\n",
       "      <td>2018-05-20 16:00:00</td>\n",
       "      <td>3204</td>\n",
       "      <td>2576337</td>\n",
       "      <td>524</td>\n",
       "      <td>3204</td>\n",
       "      <td>3164</td>\n",
       "      <td>SPAL</td>\n",
       "      <td>Sampdoria</td>\n",
       "      <td>3</td>\n",
       "      <td>1</td>\n",
       "      <td>0.01320</td>\n",
       "      <td>0.00801</td>\n",
       "      <td>363</td>\n",
       "      <td>315</td>\n",
       "      <td>14</td>\n",
       "      <td>5</td>\n",
       "      <td>446</td>\n",
       "      <td>386</td>\n",
       "      <td>9</td>\n",
       "      <td>3</td>\n",
       "      <td>0.867769</td>\n",
       "      <td>0.357143</td>\n",
       "      <td>0.865471</td>\n",
       "      <td>0.333333</td>\n",
       "      <td>1</td>\n",
       "      <td>0.821530</td>\n",
       "      <td>0.350605</td>\n",
       "      <td>0.796329</td>\n",
       "      <td>0.502669</td>\n",
       "      <td>0.010732</td>\n",
       "      <td>0.006874</td>\n",
       "      <td>0.2</td>\n",
       "      <td>0.3</td>\n",
       "    </tr>\n",
       "  </tbody>\n",
       "</table>\n",
       "</div>"
      ],
      "text/plain": [
       "   seasonId              dateutc  winner  matchId  competitionId  homeId  \\\n",
       "0    181248  2018-05-20 18:45:00    3161  2576335            524    3162   \n",
       "1    181248  2018-05-20 18:45:00    3158  2576336            524    3315   \n",
       "2    181248  2018-05-20 16:00:00    3204  2576337            524    3204   \n",
       "\n",
       "   awayId  homeTeam        awayTeam  homeScore  awayScore  homeTeam_matchRank  \\\n",
       "0    3161     Lazio  Internazionale          2          3             0.01185   \n",
       "1    3158  Sassuolo            Roma          0          1             0.00700   \n",
       "2    3164      SPAL       Sampdoria          3          1             0.01320   \n",
       "\n",
       "   awayTeam_matchRank  totalHomePasses  accurateHomePasses  totalHomeShots  \\\n",
       "0             0.00595              302                 249              14   \n",
       "1             0.02564              337                 262              14   \n",
       "2             0.00801              363                 315              14   \n",
       "\n",
       "   accurateHomeShots  totalAwayPasses  accurateAwayPasses  totalAwayShots  \\\n",
       "0                  4              492                 417              14   \n",
       "1                  3              500                 423              15   \n",
       "2                  5              446                 386               9   \n",
       "\n",
       "   accurateAwayShots  homePassAccuracy  homeShotAccuracy  awayPassAccuracy  \\\n",
       "0                  6          0.824503          0.285714          0.847561   \n",
       "1                  6          0.777448          0.214286          0.846000   \n",
       "2                  3          0.867769          0.357143          0.865471   \n",
       "\n",
       "   awayShotAccuracy  homeWins  avgHomePassAccuLast10Games  \\\n",
       "0          0.428571        -1                    0.799875   \n",
       "1          0.400000        -1                    0.846916   \n",
       "2          0.333333         1                    0.821530   \n",
       "\n",
       "   avgHomeShotAccuLast10Games  avgAwayPassAccuLast10Games  \\\n",
       "0                    0.460678                    0.851845   \n",
       "1                    0.446443                    0.806129   \n",
       "2                    0.350605                    0.796329   \n",
       "\n",
       "   avgAwayShotAccuLast10Games  homeLast10AvgRank  awayLast10AvgRank  \\\n",
       "0                    0.345496           0.004582           0.007148   \n",
       "1                    0.254985           0.004757           0.007135   \n",
       "2                    0.502669           0.010732           0.006874   \n",
       "\n",
       "   homeWRlast10Games  awayWRlast10Games  \n",
       "0                0.5                0.5  \n",
       "1                0.5                0.6  \n",
       "2                0.2                0.3  "
      ]
     },
     "execution_count": 64,
     "metadata": {},
     "output_type": "execute_result"
    }
   ],
   "source": [
    "italy_matches_prep.head(3)"
   ]
  },
  {
   "cell_type": "markdown",
   "id": "12def4bf-166d-454f-87d7-1b11abf4693e",
   "metadata": {},
   "source": [
    "### Dataset cleaning"
   ]
  },
  {
   "cell_type": "markdown",
   "id": "fb2a0743-50a8-4086-a149-0925db8fd31d",
   "metadata": {},
   "source": [
    "Droping Nan rows and index column"
   ]
  },
  {
   "cell_type": "code",
   "execution_count": 65,
   "id": "15f325d2-d84a-452e-99a5-fdc1e1a1381d",
   "metadata": {},
   "outputs": [],
   "source": [
    "italy_matches_prep_cleaned = italy_matches_prep.dropna(subset = [\n",
    "    'avgHomePassAccuLast10Games','avgHomeShotAccuLast10Games',\n",
    "    'avgAwayPassAccuLast10Games','avgAwayShotAccuLast10Games',\n",
    "    'homeWRlast10Games', 'awayWRlast10Games',\n",
    "    'homeLast10AvgRank', 'awayLast10AvgRank'\n",
    "])"
   ]
  },
  {
   "cell_type": "code",
   "execution_count": 66,
   "id": "23ed9fd4-5861-4ebf-96bf-8527da0156a9",
   "metadata": {},
   "outputs": [
    {
     "data": {
      "text/html": [
       "<div>\n",
       "<style scoped>\n",
       "    .dataframe tbody tr th:only-of-type {\n",
       "        vertical-align: middle;\n",
       "    }\n",
       "\n",
       "    .dataframe tbody tr th {\n",
       "        vertical-align: top;\n",
       "    }\n",
       "\n",
       "    .dataframe thead th {\n",
       "        text-align: right;\n",
       "    }\n",
       "</style>\n",
       "<table border=\"1\" class=\"dataframe\">\n",
       "  <thead>\n",
       "    <tr style=\"text-align: right;\">\n",
       "      <th></th>\n",
       "      <th>seasonId</th>\n",
       "      <th>dateutc</th>\n",
       "      <th>winner</th>\n",
       "      <th>matchId</th>\n",
       "      <th>competitionId</th>\n",
       "      <th>homeId</th>\n",
       "      <th>awayId</th>\n",
       "      <th>homeTeam</th>\n",
       "      <th>awayTeam</th>\n",
       "      <th>homeScore</th>\n",
       "      <th>awayScore</th>\n",
       "      <th>homeTeam_matchRank</th>\n",
       "      <th>awayTeam_matchRank</th>\n",
       "      <th>totalHomePasses</th>\n",
       "      <th>accurateHomePasses</th>\n",
       "      <th>totalHomeShots</th>\n",
       "      <th>accurateHomeShots</th>\n",
       "      <th>totalAwayPasses</th>\n",
       "      <th>accurateAwayPasses</th>\n",
       "      <th>totalAwayShots</th>\n",
       "      <th>accurateAwayShots</th>\n",
       "      <th>homePassAccuracy</th>\n",
       "      <th>homeShotAccuracy</th>\n",
       "      <th>awayPassAccuracy</th>\n",
       "      <th>awayShotAccuracy</th>\n",
       "      <th>homeWins</th>\n",
       "      <th>avgHomePassAccuLast10Games</th>\n",
       "      <th>avgHomeShotAccuLast10Games</th>\n",
       "      <th>avgAwayPassAccuLast10Games</th>\n",
       "      <th>avgAwayShotAccuLast10Games</th>\n",
       "      <th>homeLast10AvgRank</th>\n",
       "      <th>awayLast10AvgRank</th>\n",
       "      <th>homeWRlast10Games</th>\n",
       "      <th>awayWRlast10Games</th>\n",
       "    </tr>\n",
       "  </thead>\n",
       "  <tbody>\n",
       "    <tr>\n",
       "      <th>0</th>\n",
       "      <td>181248</td>\n",
       "      <td>2018-05-20 18:45:00</td>\n",
       "      <td>3161</td>\n",
       "      <td>2576335</td>\n",
       "      <td>524</td>\n",
       "      <td>3162</td>\n",
       "      <td>3161</td>\n",
       "      <td>Lazio</td>\n",
       "      <td>Internazionale</td>\n",
       "      <td>2</td>\n",
       "      <td>3</td>\n",
       "      <td>0.01185</td>\n",
       "      <td>0.00595</td>\n",
       "      <td>302</td>\n",
       "      <td>249</td>\n",
       "      <td>14</td>\n",
       "      <td>4</td>\n",
       "      <td>492</td>\n",
       "      <td>417</td>\n",
       "      <td>14</td>\n",
       "      <td>6</td>\n",
       "      <td>0.824503</td>\n",
       "      <td>0.285714</td>\n",
       "      <td>0.847561</td>\n",
       "      <td>0.428571</td>\n",
       "      <td>-1</td>\n",
       "      <td>0.799875</td>\n",
       "      <td>0.460678</td>\n",
       "      <td>0.851845</td>\n",
       "      <td>0.345496</td>\n",
       "      <td>0.004582</td>\n",
       "      <td>0.007148</td>\n",
       "      <td>0.5</td>\n",
       "      <td>0.5</td>\n",
       "    </tr>\n",
       "  </tbody>\n",
       "</table>\n",
       "</div>"
      ],
      "text/plain": [
       "   seasonId              dateutc  winner  matchId  competitionId  homeId  \\\n",
       "0    181248  2018-05-20 18:45:00    3161  2576335            524    3162   \n",
       "\n",
       "   awayId homeTeam        awayTeam  homeScore  awayScore  homeTeam_matchRank  \\\n",
       "0    3161    Lazio  Internazionale          2          3             0.01185   \n",
       "\n",
       "   awayTeam_matchRank  totalHomePasses  accurateHomePasses  totalHomeShots  \\\n",
       "0             0.00595              302                 249              14   \n",
       "\n",
       "   accurateHomeShots  totalAwayPasses  accurateAwayPasses  totalAwayShots  \\\n",
       "0                  4              492                 417              14   \n",
       "\n",
       "   accurateAwayShots  homePassAccuracy  homeShotAccuracy  awayPassAccuracy  \\\n",
       "0                  6          0.824503          0.285714          0.847561   \n",
       "\n",
       "   awayShotAccuracy  homeWins  avgHomePassAccuLast10Games  \\\n",
       "0          0.428571        -1                    0.799875   \n",
       "\n",
       "   avgHomeShotAccuLast10Games  avgAwayPassAccuLast10Games  \\\n",
       "0                    0.460678                    0.851845   \n",
       "\n",
       "   avgAwayShotAccuLast10Games  homeLast10AvgRank  awayLast10AvgRank  \\\n",
       "0                    0.345496           0.004582           0.007148   \n",
       "\n",
       "   homeWRlast10Games  awayWRlast10Games  \n",
       "0                0.5                0.5  "
      ]
     },
     "execution_count": 66,
     "metadata": {},
     "output_type": "execute_result"
    }
   ],
   "source": [
    "italy_matches_prep_cleaned.head(1)"
   ]
  },
  {
   "cell_type": "markdown",
   "id": "e42a27e6-8d74-49e7-916b-7e829914db4b",
   "metadata": {},
   "source": [
    "# Model training"
   ]
  },
  {
   "cell_type": "markdown",
   "id": "c32cc215-6f1a-4a24-a300-edf34d4ea88f",
   "metadata": {},
   "source": [
    "### Defining variables"
   ]
  },
  {
   "cell_type": "code",
   "execution_count": 67,
   "id": "550beedf-eea8-4ebb-8f65-d9f94d850527",
   "metadata": {},
   "outputs": [
    {
     "name": "stderr",
     "output_type": "stream",
     "text": [
      "2023-09-07 16:47:44.787961: I tensorflow/tsl/cuda/cudart_stub.cc:28] Could not find cuda drivers on your machine, GPU will not be used.\n",
      "2023-09-07 16:47:45.138059: I tensorflow/tsl/cuda/cudart_stub.cc:28] Could not find cuda drivers on your machine, GPU will not be used.\n",
      "2023-09-07 16:47:45.139535: I tensorflow/core/platform/cpu_feature_guard.cc:182] This TensorFlow binary is optimized to use available CPU instructions in performance-critical operations.\n",
      "To enable the following instructions: AVX2 FMA, in other operations, rebuild TensorFlow with the appropriate compiler flags.\n",
      "2023-09-07 16:47:47.761410: W tensorflow/compiler/tf2tensorrt/utils/py_utils.cc:38] TF-TRT Warning: Could not find TensorRT\n"
     ]
    }
   ],
   "source": [
    "from sklearn.model_selection import train_test_split\n",
    "from tensorflow.keras.models import Sequential\n",
    "from tensorflow.keras import layers\n",
    "from tensorflow.keras.callbacks import EarlyStopping"
   ]
  },
  {
   "cell_type": "code",
   "execution_count": 68,
   "id": "e316f990-39cd-4a99-8687-f5ae4bee309e",
   "metadata": {},
   "outputs": [],
   "source": [
    "X = italy_matches_prep_cleaned[['avgHomePassAccuLast10Games','avgHomeShotAccuLast10Games',\n",
    "                     'avgAwayPassAccuLast10Games','avgAwayShotAccuLast10Games',\n",
    "                     'homeWRlast10Games', 'awayWRlast10Games',\n",
    "                    'homeLast10AvgRank', 'awayLast10AvgRank'\n",
    "                    ]]\n",
    "y = italy_matches_prep_cleaned['homeWins']"
   ]
  },
  {
   "cell_type": "code",
   "execution_count": 69,
   "id": "c83d793d-c061-485c-a402-a5f5a36ece86",
   "metadata": {},
   "outputs": [],
   "source": [
    "y = pd.get_dummies(y,prefix = 'Class', dtype = int)"
   ]
  },
  {
   "cell_type": "code",
   "execution_count": 70,
   "id": "ad249e30-40ab-4ce4-b614-2a6e48bd9e44",
   "metadata": {},
   "outputs": [],
   "source": [
    "X_train, X_test, y_train, y_test = train_test_split(X,y, test_size=0.3)"
   ]
  },
  {
   "cell_type": "code",
   "execution_count": 71,
   "id": "6eced631-b734-4e2d-a2ac-dac604c4eb60",
   "metadata": {},
   "outputs": [],
   "source": [
    "def initialize_model():\n",
    "    model = Sequential()\n",
    "    model.add(layers.Dense(80, input_dim = 8, activation = 'relu'))\n",
    "\n",
    "    model.add(layers.Dense(30, activation = 'relu'))\n",
    "    \n",
    "    model.add(layers.Dense(16, activation = 'relu'))\n",
    "\n",
    "    model.add(layers.Dense(6, activation = 'relu'))\n",
    "    model.add(layers.Dense(6, activation = 'relu'))\n",
    "    model.add(layers.Dropout(0.2))\n",
    "    model.add(layers.Dense(4, activation = 'relu'))\n",
    "    #model.add(layers.Dropout(0.1))\n",
    "    model.add(layers.Dense(3, activation = 'softmax'))\n",
    "\n",
    "    model.compile(\n",
    "        loss = 'categorical_crossentropy',\n",
    "        optimizer = 'adam',\n",
    "        metrics = 'accuracy'\n",
    "    )\n",
    "\n",
    "    return model"
   ]
  },
  {
   "cell_type": "code",
   "execution_count": 72,
   "id": "04058a04-af37-4721-95d5-732b733d102f",
   "metadata": {},
   "outputs": [],
   "source": [
    "es = EarlyStopping(patience = 30, restore_best_weights=True)\n",
    "model = initialize_model()\n",
    "history = model.fit(\n",
    "    X_train,\n",
    "    y_train,\n",
    "    validation_split = 0.3,\n",
    "    shuffle = True,\n",
    "    epochs = 200,\n",
    "    batch_size =  64,\n",
    "    verbose = 0\n",
    ")"
   ]
  },
  {
   "cell_type": "code",
   "execution_count": 73,
   "id": "abd86aea-c04e-4b41-8e29-4fd8a7db72ee",
   "metadata": {},
   "outputs": [
    {
     "data": {
      "text/plain": [
       "0.4901960790157318"
      ]
     },
     "execution_count": 73,
     "metadata": {},
     "output_type": "execute_result"
    }
   ],
   "source": [
    "model.evaluate(X_test, y_test, verbose = 0)[1]"
   ]
  },
  {
   "cell_type": "markdown",
   "id": "1e5301da-b773-48e2-a19b-e4b37b290e1a",
   "metadata": {},
   "source": [
    "# Building all leagues dataframe"
   ]
  },
  {
   "cell_type": "markdown",
   "id": "e3acce14-ca7c-4054-abaf-abea2ca4e8a2",
   "metadata": {},
   "source": [
    "We build the whole dataset for all leagues"
   ]
  },
  {
   "cell_type": "code",
   "execution_count": 74,
   "id": "636ede06-fc02-488e-93d3-cd24ef050af0",
   "metadata": {},
   "outputs": [],
   "source": [
    "def prep(matches, events):\n",
    "    #Using relevant features for preprocessing\n",
    "    match_features = ['teamsData','seasonId', 'dateutc', 'winner', 'wyId', 'competitionId']\n",
    "    games = matches[match_features].copy()\n",
    "    games.rename(columns = {'wyId':'matchId'}, inplace = True)\n",
    "\n",
    "    #Processing events\n",
    "    events_prep = accurate_not_accurate(events)\n",
    "\n",
    "    #Getting current game info\n",
    "    #Creating homeId and awayId columns\n",
    "    games = create_home_away_cols(games).copy()\n",
    "    #Getting teams names from homeId and awayId and extracting from teams dataset\n",
    "    games = get_home_away_names(games, other_dfs['teams'])\n",
    "    #Getting scores from teamsData column\n",
    "    games = get_goals(games)\n",
    "    #Getting matchrank as average of playerranks of each team in current match\n",
    "    games = get_avg_playerank(games, other_dfs['playerank']) \n",
    "    #Getting events from the match\n",
    "    games = matches_events(games,events_prep)\n",
    "    #Getting accuracies\n",
    "    games = accuracy_features(games)\n",
    "    #Getting target\n",
    "    games = matches_target(games) #este si\n",
    "\n",
    "    #Features\n",
    "    #Performance\n",
    "    games = get_performance(games)\n",
    "    #Avgmatchranks\n",
    "    games = get_last_matchranks(games)\n",
    "    #WRates\n",
    "    games = get_wr(games)\n",
    "\n",
    "    #Cleaning\n",
    "    games = games.dropna(subset = [\n",
    "    'avgHomePassAccuLast10Games','avgHomeShotAccuLast10Games',\n",
    "    'avgAwayPassAccuLast10Games','avgAwayShotAccuLast10Games',\n",
    "    'homeWRlast10Games', 'awayWRlast10Games',\n",
    "    'homeLast10AvgRank', 'awayLast10AvgRank'\n",
    "    ])\n",
    "\n",
    "    return games\n",
    "    \n",
    "    "
   ]
  },
  {
   "cell_type": "code",
   "execution_count": 75,
   "id": "c0fedb36-6484-4257-9991-cd3f303c4df9",
   "metadata": {},
   "outputs": [
    {
     "data": {
      "text/plain": [
       "dict_keys(['events_European_Championship', 'events_France', 'events_Italy', 'events_Spain', 'events_Germany', 'events_World_Cup', 'events_England'])"
      ]
     },
     "execution_count": 75,
     "metadata": {},
     "output_type": "execute_result"
    }
   ],
   "source": [
    "events_dfs.keys()"
   ]
  },
  {
   "cell_type": "code",
   "execution_count": 76,
   "id": "afe67a8f-7a18-417a-9456-feb84c3a9dff",
   "metadata": {},
   "outputs": [
    {
     "data": {
      "text/plain": [
       "dict_keys(['matches_Italy', 'matches_European_Championship', 'matches_Germany', 'matches_France', 'matches_Spain', 'matches_World_Cup', 'matches_England'])"
      ]
     },
     "execution_count": 76,
     "metadata": {},
     "output_type": "execute_result"
    }
   ],
   "source": [
    "matches_dfs.keys()"
   ]
  },
  {
   "cell_type": "code",
   "execution_count": 84,
   "id": "8b0abb67-9b71-4c60-985a-c3ef277e4891",
   "metadata": {},
   "outputs": [
    {
     "data": {
      "text/plain": [
       "['matches_England',\n",
       " 'matches_European_Championship',\n",
       " 'matches_France',\n",
       " 'matches_Germany',\n",
       " 'matches_Italy',\n",
       " 'matches_Spain',\n",
       " 'matches_World_Cup']"
      ]
     },
     "execution_count": 84,
     "metadata": {},
     "output_type": "execute_result"
    }
   ],
   "source": [
    "sorted(matches_dfs.keys())"
   ]
  },
  {
   "cell_type": "code",
   "execution_count": 85,
   "id": "12f12ae7-fb79-463b-8b20-3f3b4c1cab64",
   "metadata": {},
   "outputs": [
    {
     "data": {
      "text/plain": [
       "['events_England',\n",
       " 'events_European_Championship',\n",
       " 'events_France',\n",
       " 'events_Germany',\n",
       " 'events_Italy',\n",
       " 'events_Spain',\n",
       " 'events_World_Cup']"
      ]
     },
     "execution_count": 85,
     "metadata": {},
     "output_type": "execute_result"
    }
   ],
   "source": [
    "sorted(events_dfs.keys())"
   ]
  },
  {
   "cell_type": "markdown",
   "id": "d25081db-db95-4c37-a667-7e9403fa9255",
   "metadata": {},
   "source": [
    "## Cleaning data for each league"
   ]
  },
  {
   "cell_type": "markdown",
   "id": "1ebdc4d0-c173-4dfa-8c18-8bed8c3d5e5e",
   "metadata": {},
   "source": [
    "We apply the previous function to clean the data from every league"
   ]
  },
  {
   "cell_type": "code",
   "execution_count": 82,
   "id": "1dcc2f67-5e4b-4838-8677-5318b0e84aae",
   "metadata": {},
   "outputs": [],
   "source": [
    "european_ch_df_cleaned = prep(matches_dfs['matches_European_Championship'], events_dfs['events_European_Championship'])"
   ]
  },
  {
   "cell_type": "code",
   "execution_count": 87,
   "id": "81a6f856-2bdd-491e-82e3-08de867491f5",
   "metadata": {},
   "outputs": [],
   "source": [
    "france_df_cleaned = prep(matches_dfs['matches_France'], events_dfs['events_France'])"
   ]
  },
  {
   "cell_type": "code",
   "execution_count": 88,
   "id": "4dbff6ed-e85a-480f-a349-a645a63c8f45",
   "metadata": {},
   "outputs": [],
   "source": [
    "italy_df_cleaned = prep(matches_dfs['matches_Italy'], events_dfs['events_Italy'])"
   ]
  },
  {
   "cell_type": "code",
   "execution_count": 89,
   "id": "4c126abb-1f73-4a95-9177-c4eafffb047f",
   "metadata": {},
   "outputs": [],
   "source": [
    "germany_df_cleaned = prep(matches_dfs['matches_Germany'], events_dfs['events_Germany'])"
   ]
  },
  {
   "cell_type": "code",
   "execution_count": 90,
   "id": "61d19e9c-0886-43b3-825a-af83108a86a1",
   "metadata": {},
   "outputs": [],
   "source": [
    "spain_df_cleaned = prep(matches_dfs['matches_Spain'], events_dfs['events_Spain'])"
   ]
  },
  {
   "cell_type": "code",
   "execution_count": 91,
   "id": "f8ca3cd6-4e15-443b-aa46-1984b65f1efa",
   "metadata": {},
   "outputs": [],
   "source": [
    "england_df_cleaned = prep(matches_dfs['matches_England'], events_dfs['events_England'])"
   ]
  },
  {
   "cell_type": "code",
   "execution_count": 92,
   "id": "736a2ad5-c800-4600-ba63-58887c36615f",
   "metadata": {},
   "outputs": [],
   "source": [
    "worldcup_df_cleaned = prep(matches_dfs['matches_World_Cup'], events_dfs['events_World_Cup'])"
   ]
  },
  {
   "cell_type": "markdown",
   "id": "ea66a820-f700-46b9-99b4-1fb087fe21c9",
   "metadata": {},
   "source": [
    "### Stacking all the leagues together"
   ]
  },
  {
   "cell_type": "markdown",
   "id": "3be0d803-db71-4128-a618-72d5f9fe111c",
   "metadata": {},
   "source": [
    "We stack all the leagues one over each other"
   ]
  },
  {
   "cell_type": "code",
   "execution_count": 93,
   "id": "0239d76a-fc95-44e9-95a1-33dfe369eaa8",
   "metadata": {},
   "outputs": [],
   "source": [
    "all_leagues_cleaned = pd.concat([european_ch_df_cleaned, \n",
    "                                 france_df_cleaned,\n",
    "                                 italy_df_cleaned,\n",
    "                                 germany_df_cleaned,\n",
    "                                 spain_df_cleaned,\n",
    "                                 england_df_cleaned,\n",
    "                                 worldcup_df_cleaned\n",
    "                                ],\n",
    "                               axis = 0)"
   ]
  },
  {
   "cell_type": "code",
   "execution_count": 97,
   "id": "895000f5-4dfb-4565-8af4-bd280025f9bd",
   "metadata": {},
   "outputs": [
    {
     "data": {
      "text/html": [
       "<div>\n",
       "<style scoped>\n",
       "    .dataframe tbody tr th:only-of-type {\n",
       "        vertical-align: middle;\n",
       "    }\n",
       "\n",
       "    .dataframe tbody tr th {\n",
       "        vertical-align: top;\n",
       "    }\n",
       "\n",
       "    .dataframe thead th {\n",
       "        text-align: right;\n",
       "    }\n",
       "</style>\n",
       "<table border=\"1\" class=\"dataframe\">\n",
       "  <thead>\n",
       "    <tr style=\"text-align: right;\">\n",
       "      <th></th>\n",
       "      <th>name</th>\n",
       "      <th>wyId</th>\n",
       "      <th>format</th>\n",
       "      <th>area</th>\n",
       "      <th>type</th>\n",
       "    </tr>\n",
       "  </thead>\n",
       "  <tbody>\n",
       "    <tr>\n",
       "      <th>0</th>\n",
       "      <td>Italian first division</td>\n",
       "      <td>524</td>\n",
       "      <td>Domestic league</td>\n",
       "      <td>{'name': 'Italy', 'id': '380', 'alpha3code': '...</td>\n",
       "      <td>club</td>\n",
       "    </tr>\n",
       "    <tr>\n",
       "      <th>1</th>\n",
       "      <td>English first division</td>\n",
       "      <td>364</td>\n",
       "      <td>Domestic league</td>\n",
       "      <td>{'name': 'England', 'id': '0', 'alpha3code': '...</td>\n",
       "      <td>club</td>\n",
       "    </tr>\n",
       "    <tr>\n",
       "      <th>2</th>\n",
       "      <td>Spanish first division</td>\n",
       "      <td>795</td>\n",
       "      <td>Domestic league</td>\n",
       "      <td>{'name': 'Spain', 'id': '724', 'alpha3code': '...</td>\n",
       "      <td>club</td>\n",
       "    </tr>\n",
       "    <tr>\n",
       "      <th>3</th>\n",
       "      <td>French first division</td>\n",
       "      <td>412</td>\n",
       "      <td>Domestic league</td>\n",
       "      <td>{'name': 'France', 'id': '250', 'alpha3code': ...</td>\n",
       "      <td>club</td>\n",
       "    </tr>\n",
       "    <tr>\n",
       "      <th>4</th>\n",
       "      <td>German first division</td>\n",
       "      <td>426</td>\n",
       "      <td>Domestic league</td>\n",
       "      <td>{'name': 'Germany', 'id': '276', 'alpha3code':...</td>\n",
       "      <td>club</td>\n",
       "    </tr>\n",
       "    <tr>\n",
       "      <th>5</th>\n",
       "      <td>European Championship</td>\n",
       "      <td>102</td>\n",
       "      <td>International cup</td>\n",
       "      <td>{'name': '', 'id': 0, 'alpha3code': 'XEU', 'al...</td>\n",
       "      <td>international</td>\n",
       "    </tr>\n",
       "    <tr>\n",
       "      <th>6</th>\n",
       "      <td>World Cup</td>\n",
       "      <td>28</td>\n",
       "      <td>International cup</td>\n",
       "      <td>{'name': '', 'id': 0, 'alpha3code': 'XWO', 'al...</td>\n",
       "      <td>international</td>\n",
       "    </tr>\n",
       "  </tbody>\n",
       "</table>\n",
       "</div>"
      ],
      "text/plain": [
       "                     name  wyId             format  \\\n",
       "0  Italian first division   524    Domestic league   \n",
       "1  English first division   364    Domestic league   \n",
       "2  Spanish first division   795    Domestic league   \n",
       "3   French first division   412    Domestic league   \n",
       "4   German first division   426    Domestic league   \n",
       "5   European Championship   102  International cup   \n",
       "6               World Cup    28  International cup   \n",
       "\n",
       "                                                area           type  \n",
       "0  {'name': 'Italy', 'id': '380', 'alpha3code': '...           club  \n",
       "1  {'name': 'England', 'id': '0', 'alpha3code': '...           club  \n",
       "2  {'name': 'Spain', 'id': '724', 'alpha3code': '...           club  \n",
       "3  {'name': 'France', 'id': '250', 'alpha3code': ...           club  \n",
       "4  {'name': 'Germany', 'id': '276', 'alpha3code':...           club  \n",
       "5  {'name': '', 'id': 0, 'alpha3code': 'XEU', 'al...  international  \n",
       "6  {'name': '', 'id': 0, 'alpha3code': 'XWO', 'al...  international  "
      ]
     },
     "execution_count": 97,
     "metadata": {},
     "output_type": "execute_result"
    }
   ],
   "source": [
    "competitions = {524 : 'Serie A',\n",
    "                364 : 'Premier League',\n",
    "                795 : 'LaLiga',\n",
    "                412 : 'Ligue 1',\n",
    "                426 : 'Bundesliga',\n",
    "                102 : 'UEFA championship',\n",
    "                28 : 'World Cup'\n",
    "               }"
   ]
  },
  {
   "cell_type": "code",
   "execution_count": 96,
   "id": "b3a7d3db-8811-420b-a9b4-e472785e9c3c",
   "metadata": {},
   "outputs": [
    {
     "data": {
      "text/plain": [
       "competitionId\n",
       "412    341\n",
       "524    339\n",
       "364    335\n",
       "795    331\n",
       "426    271\n",
       "102     13\n",
       "28       8\n",
       "Name: count, dtype: int64"
      ]
     },
     "execution_count": 96,
     "metadata": {},
     "output_type": "execute_result"
    }
   ],
   "source": [
    "all_leagues_cleaned.competitionId.value_counts()"
   ]
  },
  {
   "cell_type": "code",
   "execution_count": 859,
   "id": "5d8298c0-ee82-42e7-a80a-c150a7d2e2c2",
   "metadata": {},
   "outputs": [],
   "source": [
    "all_leagues_cleaned.to_csv('../../processed_data/soccer_match/soccer_match_all_leagues_cleaned.csv', header = True, index = False)"
   ]
  },
  {
   "cell_type": "markdown",
   "id": "237aa6dc-6857-4e3c-95da-8830af0bf9c1",
   "metadata": {},
   "source": [
    "## Model for all leagues"
   ]
  },
  {
   "cell_type": "markdown",
   "id": "a4ec252e-8af3-465a-8fab-bf7d336c8938",
   "metadata": {},
   "source": [
    "We select the features and targuet for the whole dataset and train a new model"
   ]
  },
  {
   "cell_type": "markdown",
   "id": "09308cda-770f-4b24-be23-59a9d838fdf3",
   "metadata": {},
   "source": [
    "#### Selecting features X and target y"
   ]
  },
  {
   "cell_type": "markdown",
   "id": "10a34fdf-fd26-49e7-9ca6-18cc3beddaeb",
   "metadata": {},
   "source": [
    "We set X and y and encode y"
   ]
  },
  {
   "cell_type": "code",
   "execution_count": 839,
   "id": "3eb93149-7dd9-438d-9660-c7b8020a46aa",
   "metadata": {},
   "outputs": [],
   "source": [
    "X_all = all_leagues_cleaned[['avgHomePassAccuLast10Games','avgHomeShotAccuLast10Games',\n",
    "                     'avgAwayPassAccuLast10Games','avgAwayShotAccuLast10Games',\n",
    "                     'homeWRlast10Games', 'awayWRlast10Games',\n",
    "                    'homeLast10AvgRank', 'awayLast10AvgRank'\n",
    "                    ]]\n",
    "y_all = all_leagues_cleaned['homeWins']\n"
   ]
  },
  {
   "cell_type": "code",
   "execution_count": 840,
   "id": "ac3dfcd4-bcf5-404b-b5b7-69a61b314eca",
   "metadata": {},
   "outputs": [],
   "source": [
    "y_all = pd.get_dummies(y_all,prefix = 'Class', dtype = int)"
   ]
  },
  {
   "cell_type": "markdown",
   "id": "ac47369a-b481-456d-b314-2b0a4461c09c",
   "metadata": {},
   "source": [
    "#### Splitting the dataset intro train and test"
   ]
  },
  {
   "cell_type": "markdown",
   "id": "09febcaf-e2ca-47cf-8250-f20d942d8799",
   "metadata": {},
   "source": [
    "We then split the dataset into train and test"
   ]
  },
  {
   "cell_type": "code",
   "execution_count": 841,
   "id": "61f0c4fa-f679-4924-9a99-43293d1d8609",
   "metadata": {},
   "outputs": [],
   "source": [
    "X_train_all, X_test_all, y_train_all, y_test_all = train_test_split(X_all, y_all, test_size=0.3)"
   ]
  },
  {
   "cell_type": "markdown",
   "id": "8cb88a8a-497d-41c1-b14d-0ced7a7384c5",
   "metadata": {},
   "source": [
    "### Model1: Neural network"
   ]
  },
  {
   "cell_type": "markdown",
   "id": "9186d7bc-0039-40e6-a9c0-7002bef23b98",
   "metadata": {},
   "source": [
    "We define our model"
   ]
  },
  {
   "cell_type": "code",
   "execution_count": 711,
   "id": "d8059c03-e1bd-4a0e-a298-a1274624c949",
   "metadata": {},
   "outputs": [],
   "source": [
    "import xgboost as xgb\n",
    "from sklearn.metrics import accuracy_score"
   ]
  },
  {
   "cell_type": "code",
   "execution_count": 1,
   "id": "f56d255b-0a56-4256-be18-b910087bbb8f",
   "metadata": {},
   "outputs": [],
   "source": [
    "def initialize_model1():\n",
    "    model = Sequential()\n",
    "    model.add(layers.Dense(80, input_dim = 8, activation = 'relu'))\n",
    "    \n",
    "    model.add(layers.Dense(16, activation = 'relu'))\n",
    "\n",
    "    model.add(layers.Dense(6, activation = 'relu'))\n",
    "    model.add(layers.Dense(6, activation = 'relu'))\n",
    "    model.add(layers.Dropout(0.2))\n",
    "    model.add(layers.Dense(4, activation = 'relu'))\n",
    "    #model.add(layers.Dropout(0.1))\n",
    "    model.add(layers.Dense(3, activation = 'softmax'))\n",
    "\n",
    "    model.compile(\n",
    "        loss = 'categorical_crossentropy',\n",
    "        optimizer = 'adam',\n",
    "        metrics = 'accuracy'\n",
    "    )\n",
    "\n",
    "    return model"
   ]
  },
  {
   "cell_type": "markdown",
   "id": "ce1774e9-3f16-4116-8b7c-17bc4f37a013",
   "metadata": {},
   "source": [
    "#### Initialization and evaluation"
   ]
  },
  {
   "cell_type": "markdown",
   "id": "7451250f-718f-43eb-9afa-671fcf3cc0b3",
   "metadata": {},
   "source": [
    "We initialize and train the model and evaluate on test data"
   ]
  },
  {
   "cell_type": "code",
   "execution_count": 2,
   "id": "fde48305-3d8a-4c73-ad01-b222257a0fa3",
   "metadata": {},
   "outputs": [
    {
     "ename": "NameError",
     "evalue": "name 'EarlyStopping' is not defined",
     "output_type": "error",
     "traceback": [
      "\u001b[0;31m---------------------------------------------------------------------------\u001b[0m",
      "\u001b[0;31mNameError\u001b[0m                                 Traceback (most recent call last)",
      "Cell \u001b[0;32mIn[2], line 1\u001b[0m\n\u001b[0;32m----> 1\u001b[0m es \u001b[38;5;241m=\u001b[39m \u001b[43mEarlyStopping\u001b[49m(patience \u001b[38;5;241m=\u001b[39m \u001b[38;5;241m30\u001b[39m, restore_best_weights\u001b[38;5;241m=\u001b[39m\u001b[38;5;28;01mTrue\u001b[39;00m)\n\u001b[1;32m      2\u001b[0m model \u001b[38;5;241m=\u001b[39m initialize_model()\n\u001b[1;32m      3\u001b[0m history \u001b[38;5;241m=\u001b[39m model\u001b[38;5;241m.\u001b[39mfit(\n\u001b[1;32m      4\u001b[0m     X_train_all,\n\u001b[1;32m      5\u001b[0m     y_train_all,\n\u001b[0;32m   (...)\u001b[0m\n\u001b[1;32m     10\u001b[0m     verbose \u001b[38;5;241m=\u001b[39m \u001b[38;5;241m0\u001b[39m\n\u001b[1;32m     11\u001b[0m )\n",
      "\u001b[0;31mNameError\u001b[0m: name 'EarlyStopping' is not defined"
     ]
    }
   ],
   "source": [
    "es = EarlyStopping(patience = 30, restore_best_weights=True)\n",
    "model = initialize_model()\n",
    "history = model.fit(\n",
    "    X_train_all,\n",
    "    y_train_all,\n",
    "    validation_split = 0.3,\n",
    "    shuffle = True,\n",
    "    epochs = 200,\n",
    "    batch_size =  64,\n",
    "    verbose = 0\n",
    ")"
   ]
  },
  {
   "cell_type": "code",
   "execution_count": null,
   "id": "c3bdaf3e-b445-42b1-a8e3-837f67879b48",
   "metadata": {},
   "outputs": [],
   "source": [
    "model.evaluate(X_test_all, y_test_all, verbose = 0)[1]"
   ]
  },
  {
   "cell_type": "markdown",
   "id": "92d12172-9f43-4c28-ae2e-e920aeb50d5d",
   "metadata": {},
   "source": [
    "## Model2: XGBOOST"
   ]
  },
  {
   "cell_type": "code",
   "execution_count": 854,
   "id": "c60ddf8f-87af-4e0a-8e46-d28885999a40",
   "metadata": {},
   "outputs": [],
   "source": [
    "y_all_1 = all_leagues_cleaned['homeWins']"
   ]
  },
  {
   "cell_type": "code",
   "execution_count": 855,
   "id": "7bd678e2-cc34-4c6a-b6de-023ad5eea1c9",
   "metadata": {},
   "outputs": [],
   "source": [
    "y_all_1 = y_all_1.map({-1: 0, 0: 1, 1: 2})"
   ]
  },
  {
   "cell_type": "code",
   "execution_count": 856,
   "id": "4e913035-0c57-4f48-a574-3c6491f5fab5",
   "metadata": {},
   "outputs": [],
   "source": [
    "X_train_all_1, X_test_all_1, y_train_all_1, y_test_all_1 = train_test_split(X_all, y_all_1, test_size=0.3)\n",
    "X_test_all_1, X_val, y_test_all_1, y_val = train_test_split(\n",
    "    X_test_all_1, y_test_all_1, test_size = 0.5 # TEST = 15%\n",
    ")"
   ]
  },
  {
   "cell_type": "code",
   "execution_count": 857,
   "id": "f28c654b-df47-43b4-a212-ed31897b9d09",
   "metadata": {},
   "outputs": [
    {
     "name": "stderr",
     "output_type": "stream",
     "text": [
      "/root/.pyenv/versions/3.10.6/envs/goalguru/lib/python3.10/site-packages/xgboost/sklearn.py:835: UserWarning: `early_stopping_rounds` in `fit` method is deprecated for better compatibility with scikit-learn, use `early_stopping_rounds` in constructor or`set_params` instead.\n",
      "  warnings.warn(\n",
      "/root/.pyenv/versions/3.10.6/envs/goalguru/lib/python3.10/site-packages/xgboost/data.py:312: FutureWarning: is_sparse is deprecated and will be removed in a future version. Check `isinstance(dtype, pd.SparseDtype)` instead.\n",
      "  if is_sparse(dtype):\n",
      "/root/.pyenv/versions/3.10.6/envs/goalguru/lib/python3.10/site-packages/xgboost/data.py:314: FutureWarning: is_categorical_dtype is deprecated and will be removed in a future version. Use isinstance(dtype, CategoricalDtype) instead\n",
      "  elif is_categorical_dtype(dtype) and enable_categorical:\n",
      "/root/.pyenv/versions/3.10.6/envs/goalguru/lib/python3.10/site-packages/xgboost/data.py:345: FutureWarning: is_categorical_dtype is deprecated and will be removed in a future version. Use isinstance(dtype, CategoricalDtype) instead\n",
      "  if is_categorical_dtype(dtype)\n",
      "/root/.pyenv/versions/3.10.6/envs/goalguru/lib/python3.10/site-packages/xgboost/data.py:336: FutureWarning: is_categorical_dtype is deprecated and will be removed in a future version. Use isinstance(dtype, CategoricalDtype) instead\n",
      "  return is_int or is_bool or is_float or is_categorical_dtype(dtype)\n",
      "/root/.pyenv/versions/3.10.6/envs/goalguru/lib/python3.10/site-packages/xgboost/data.py:440: FutureWarning: is_sparse is deprecated and will be removed in a future version. Check `isinstance(dtype, pd.SparseDtype)` instead.\n",
      "  if is_sparse(data):\n",
      "/root/.pyenv/versions/3.10.6/envs/goalguru/lib/python3.10/site-packages/xgboost/data.py:312: FutureWarning: is_sparse is deprecated and will be removed in a future version. Check `isinstance(dtype, pd.SparseDtype)` instead.\n",
      "  if is_sparse(dtype):\n",
      "/root/.pyenv/versions/3.10.6/envs/goalguru/lib/python3.10/site-packages/xgboost/data.py:314: FutureWarning: is_categorical_dtype is deprecated and will be removed in a future version. Use isinstance(dtype, CategoricalDtype) instead\n",
      "  elif is_categorical_dtype(dtype) and enable_categorical:\n",
      "/root/.pyenv/versions/3.10.6/envs/goalguru/lib/python3.10/site-packages/xgboost/data.py:345: FutureWarning: is_categorical_dtype is deprecated and will be removed in a future version. Use isinstance(dtype, CategoricalDtype) instead\n",
      "  if is_categorical_dtype(dtype)\n",
      "/root/.pyenv/versions/3.10.6/envs/goalguru/lib/python3.10/site-packages/xgboost/data.py:336: FutureWarning: is_categorical_dtype is deprecated and will be removed in a future version. Use isinstance(dtype, CategoricalDtype) instead\n",
      "  return is_int or is_bool or is_float or is_categorical_dtype(dtype)\n",
      "/root/.pyenv/versions/3.10.6/envs/goalguru/lib/python3.10/site-packages/xgboost/data.py:440: FutureWarning: is_sparse is deprecated and will be removed in a future version. Check `isinstance(dtype, pd.SparseDtype)` instead.\n",
      "  if is_sparse(data):\n"
     ]
    },
    {
     "data": {
      "text/html": [
       "<style>#sk-container-id-24 {color: black;}#sk-container-id-24 pre{padding: 0;}#sk-container-id-24 div.sk-toggleable {background-color: white;}#sk-container-id-24 label.sk-toggleable__label {cursor: pointer;display: block;width: 100%;margin-bottom: 0;padding: 0.3em;box-sizing: border-box;text-align: center;}#sk-container-id-24 label.sk-toggleable__label-arrow:before {content: \"▸\";float: left;margin-right: 0.25em;color: #696969;}#sk-container-id-24 label.sk-toggleable__label-arrow:hover:before {color: black;}#sk-container-id-24 div.sk-estimator:hover label.sk-toggleable__label-arrow:before {color: black;}#sk-container-id-24 div.sk-toggleable__content {max-height: 0;max-width: 0;overflow: hidden;text-align: left;background-color: #f0f8ff;}#sk-container-id-24 div.sk-toggleable__content pre {margin: 0.2em;color: black;border-radius: 0.25em;background-color: #f0f8ff;}#sk-container-id-24 input.sk-toggleable__control:checked~div.sk-toggleable__content {max-height: 200px;max-width: 100%;overflow: auto;}#sk-container-id-24 input.sk-toggleable__control:checked~label.sk-toggleable__label-arrow:before {content: \"▾\";}#sk-container-id-24 div.sk-estimator input.sk-toggleable__control:checked~label.sk-toggleable__label {background-color: #d4ebff;}#sk-container-id-24 div.sk-label input.sk-toggleable__control:checked~label.sk-toggleable__label {background-color: #d4ebff;}#sk-container-id-24 input.sk-hidden--visually {border: 0;clip: rect(1px 1px 1px 1px);clip: rect(1px, 1px, 1px, 1px);height: 1px;margin: -1px;overflow: hidden;padding: 0;position: absolute;width: 1px;}#sk-container-id-24 div.sk-estimator {font-family: monospace;background-color: #f0f8ff;border: 1px dotted black;border-radius: 0.25em;box-sizing: border-box;margin-bottom: 0.5em;}#sk-container-id-24 div.sk-estimator:hover {background-color: #d4ebff;}#sk-container-id-24 div.sk-parallel-item::after {content: \"\";width: 100%;border-bottom: 1px solid gray;flex-grow: 1;}#sk-container-id-24 div.sk-label:hover label.sk-toggleable__label {background-color: #d4ebff;}#sk-container-id-24 div.sk-serial::before {content: \"\";position: absolute;border-left: 1px solid gray;box-sizing: border-box;top: 0;bottom: 0;left: 50%;z-index: 0;}#sk-container-id-24 div.sk-serial {display: flex;flex-direction: column;align-items: center;background-color: white;padding-right: 0.2em;padding-left: 0.2em;position: relative;}#sk-container-id-24 div.sk-item {position: relative;z-index: 1;}#sk-container-id-24 div.sk-parallel {display: flex;align-items: stretch;justify-content: center;background-color: white;position: relative;}#sk-container-id-24 div.sk-item::before, #sk-container-id-24 div.sk-parallel-item::before {content: \"\";position: absolute;border-left: 1px solid gray;box-sizing: border-box;top: 0;bottom: 0;left: 50%;z-index: -1;}#sk-container-id-24 div.sk-parallel-item {display: flex;flex-direction: column;z-index: 1;position: relative;background-color: white;}#sk-container-id-24 div.sk-parallel-item:first-child::after {align-self: flex-end;width: 50%;}#sk-container-id-24 div.sk-parallel-item:last-child::after {align-self: flex-start;width: 50%;}#sk-container-id-24 div.sk-parallel-item:only-child::after {width: 0;}#sk-container-id-24 div.sk-dashed-wrapped {border: 1px dashed gray;margin: 0 0.4em 0.5em 0.4em;box-sizing: border-box;padding-bottom: 0.4em;background-color: white;}#sk-container-id-24 div.sk-label label {font-family: monospace;font-weight: bold;display: inline-block;line-height: 1.2em;}#sk-container-id-24 div.sk-label-container {text-align: center;}#sk-container-id-24 div.sk-container {/* jupyter's `normalize.less` sets `[hidden] { display: none; }` but bootstrap.min.css set `[hidden] { display: none !important; }` so we also need the `!important` here to be able to override the default hidden behavior on the sphinx rendered scikit-learn.org. See: https://github.com/scikit-learn/scikit-learn/issues/21755 */display: inline-block !important;position: relative;}#sk-container-id-24 div.sk-text-repr-fallback {display: none;}</style><div id=\"sk-container-id-24\" class=\"sk-top-container\"><div class=\"sk-text-repr-fallback\"><pre>XGBClassifier(base_score=None, booster=None, callbacks=None,\n",
       "              colsample_bylevel=None, colsample_bynode=None,\n",
       "              colsample_bytree=None, early_stopping_rounds=None,\n",
       "              enable_categorical=False, eval_metric=None, feature_types=None,\n",
       "              gamma=None, gpu_id=None, grow_policy=None, importance_type=None,\n",
       "              interaction_constraints=None, learning_rate=0.01, max_bin=None,\n",
       "              max_cat_threshold=None, max_cat_to_onehot=None,\n",
       "              max_delta_step=None, max_depth=None, max_leaves=None,\n",
       "              min_child_weight=None, missing=nan, monotone_constraints=None,\n",
       "              n_estimators=100, n_jobs=None, num_parallel_tree=None,\n",
       "              objective=&#x27;multi:softmax&#x27;, predictor=None, ...)</pre><b>In a Jupyter environment, please rerun this cell to show the HTML representation or trust the notebook. <br />On GitHub, the HTML representation is unable to render, please try loading this page with nbviewer.org.</b></div><div class=\"sk-container\" hidden><div class=\"sk-item\"><div class=\"sk-estimator sk-toggleable\"><input class=\"sk-toggleable__control sk-hidden--visually\" id=\"sk-estimator-id-24\" type=\"checkbox\" checked><label for=\"sk-estimator-id-24\" class=\"sk-toggleable__label sk-toggleable__label-arrow\">XGBClassifier</label><div class=\"sk-toggleable__content\"><pre>XGBClassifier(base_score=None, booster=None, callbacks=None,\n",
       "              colsample_bylevel=None, colsample_bynode=None,\n",
       "              colsample_bytree=None, early_stopping_rounds=None,\n",
       "              enable_categorical=False, eval_metric=None, feature_types=None,\n",
       "              gamma=None, gpu_id=None, grow_policy=None, importance_type=None,\n",
       "              interaction_constraints=None, learning_rate=0.01, max_bin=None,\n",
       "              max_cat_threshold=None, max_cat_to_onehot=None,\n",
       "              max_delta_step=None, max_depth=None, max_leaves=None,\n",
       "              min_child_weight=None, missing=nan, monotone_constraints=None,\n",
       "              n_estimators=100, n_jobs=None, num_parallel_tree=None,\n",
       "              objective=&#x27;multi:softmax&#x27;, predictor=None, ...)</pre></div></div></div></div></div>"
      ],
      "text/plain": [
       "XGBClassifier(base_score=None, booster=None, callbacks=None,\n",
       "              colsample_bylevel=None, colsample_bynode=None,\n",
       "              colsample_bytree=None, early_stopping_rounds=None,\n",
       "              enable_categorical=False, eval_metric=None, feature_types=None,\n",
       "              gamma=None, gpu_id=None, grow_policy=None, importance_type=None,\n",
       "              interaction_constraints=None, learning_rate=0.01, max_bin=None,\n",
       "              max_cat_threshold=None, max_cat_to_onehot=None,\n",
       "              max_delta_step=None, max_depth=None, max_leaves=None,\n",
       "              min_child_weight=None, missing=nan, monotone_constraints=None,\n",
       "              n_estimators=100, n_jobs=None, num_parallel_tree=None,\n",
       "              objective='multi:softmax', predictor=None, ...)"
      ]
     },
     "execution_count": 857,
     "metadata": {},
     "output_type": "execute_result"
    }
   ],
   "source": [
    "model2 = xgb.XGBClassifier(objective='multi:softmax', random_state=42, learning_rate = 0.01)\n",
    "model2.fit(X_train_all_1, y_train_all_1,\n",
    "           eval_set=[(X_train_all_1, y_train_all_1), (X_val, y_val)],\n",
    "           early_stopping_rounds=5,\n",
    "           verbose = 0)"
   ]
  },
  {
   "cell_type": "code",
   "execution_count": 858,
   "id": "deb9edfa-3c5e-4c0b-8657-8e9d2988bb07",
   "metadata": {},
   "outputs": [
    {
     "name": "stderr",
     "output_type": "stream",
     "text": [
      "/root/.pyenv/versions/3.10.6/envs/goalguru/lib/python3.10/site-packages/xgboost/data.py:312: FutureWarning: is_sparse is deprecated and will be removed in a future version. Check `isinstance(dtype, pd.SparseDtype)` instead.\n",
      "  if is_sparse(dtype):\n",
      "/root/.pyenv/versions/3.10.6/envs/goalguru/lib/python3.10/site-packages/xgboost/data.py:314: FutureWarning: is_categorical_dtype is deprecated and will be removed in a future version. Use isinstance(dtype, CategoricalDtype) instead\n",
      "  elif is_categorical_dtype(dtype) and enable_categorical:\n",
      "/root/.pyenv/versions/3.10.6/envs/goalguru/lib/python3.10/site-packages/xgboost/data.py:345: FutureWarning: is_categorical_dtype is deprecated and will be removed in a future version. Use isinstance(dtype, CategoricalDtype) instead\n",
      "  if is_categorical_dtype(dtype)\n",
      "/root/.pyenv/versions/3.10.6/envs/goalguru/lib/python3.10/site-packages/xgboost/data.py:336: FutureWarning: is_categorical_dtype is deprecated and will be removed in a future version. Use isinstance(dtype, CategoricalDtype) instead\n",
      "  return is_int or is_bool or is_float or is_categorical_dtype(dtype)\n"
     ]
    },
    {
     "data": {
      "text/plain": [
       "0.43089430894308944"
      ]
     },
     "execution_count": 858,
     "metadata": {},
     "output_type": "execute_result"
    }
   ],
   "source": [
    "y_pred_all = model2.predict(X_test_all_1)\n",
    "accuracy_score(y_test_all_1, y_pred_all)"
   ]
  },
  {
   "cell_type": "code",
   "execution_count": null,
   "id": "a65cf0f8-c8db-4f63-b884-5eb8a91249a7",
   "metadata": {},
   "outputs": [],
   "source": []
  },
  {
   "cell_type": "code",
   "execution_count": null,
   "id": "fcaa21b5-2b83-4ea3-b99b-e7e7f6ee194a",
   "metadata": {},
   "outputs": [],
   "source": []
  }
 ],
 "metadata": {
  "kernelspec": {
   "display_name": "Python 3 (ipykernel)",
   "language": "python",
   "name": "python3"
  },
  "language_info": {
   "codemirror_mode": {
    "name": "ipython",
    "version": 3
   },
   "file_extension": ".py",
   "mimetype": "text/x-python",
   "name": "python",
   "nbconvert_exporter": "python",
   "pygments_lexer": "ipython3",
   "version": "3.10.6"
  }
 },
 "nbformat": 4,
 "nbformat_minor": 5
}
